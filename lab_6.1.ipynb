{
 "cells": [
  {
   "cell_type": "code",
   "execution_count": 1,
   "metadata": {},
   "outputs": [],
   "source": [
    "from bs4 import BeautifulSoup"
   ]
  },
  {
   "cell_type": "code",
   "execution_count": 2,
   "metadata": {},
   "outputs": [
    {
     "name": "stderr",
     "output_type": "stream",
     "text": [
      "/var/folders/2v/nsbsx6y90_9_6kks00t6shb80000gn/T/ipykernel_65377/1116909464.py:2: DeprecationWarning: \n",
      "Pyarrow will become a required dependency of pandas in the next major release of pandas (pandas 3.0),\n",
      "(to allow more performant data types, such as the Arrow string type, and better interoperability with other libraries)\n",
      "but was not found to be installed on your system.\n",
      "If this would cause problems for you,\n",
      "please provide us feedback at https://github.com/pandas-dev/pandas/issues/54466\n",
      "        \n",
      "  import pandas as pd\n"
     ]
    }
   ],
   "source": [
    "import requests\n",
    "import pandas as pd\n",
    "\n",
    "url=\"https://www.billboard.com/charts/hot-100/\""
   ]
  },
  {
   "cell_type": "code",
   "execution_count": 3,
   "metadata": {},
   "outputs": [],
   "source": [
    "response= requests.get(url)"
   ]
  },
  {
   "cell_type": "code",
   "execution_count": 4,
   "metadata": {},
   "outputs": [
    {
     "data": {
      "text/plain": [
       "200"
      ]
     },
     "execution_count": 4,
     "metadata": {},
     "output_type": "execute_result"
    }
   ],
   "source": [
    "response.status_code"
   ]
  },
  {
   "cell_type": "code",
   "execution_count": 5,
   "metadata": {},
   "outputs": [],
   "source": [
    "soup = BeautifulSoup(response.content, 'html.parser')"
   ]
  },
  {
   "cell_type": "markdown",
   "metadata": {},
   "source": [
    "# Song titles"
   ]
  },
  {
   "cell_type": "code",
   "execution_count": 6,
   "metadata": {},
   "outputs": [
    {
     "data": {
      "text/plain": [
       "'\\n\\n\\t\\n\\t\\t\\n\\t\\t\\t\\t\\tLike That\\t\\t\\n\\t\\t\\t\\t\\t\\n'"
      ]
     },
     "execution_count": 6,
     "metadata": {},
     "output_type": "execute_result"
    }
   ],
   "source": [
    "soup.find('h3', class_ = 'c-title').get_text()"
   ]
  },
  {
   "cell_type": "code",
   "execution_count": 7,
   "metadata": {},
   "outputs": [
    {
     "data": {
      "text/plain": [
       "100"
      ]
     },
     "execution_count": 7,
     "metadata": {},
     "output_type": "execute_result"
    }
   ],
   "source": [
    "len(soup.find_all('ul', class_= 'o-chart-results-list-row' ))"
   ]
  },
  {
   "cell_type": "code",
   "execution_count": 8,
   "metadata": {},
   "outputs": [],
   "source": [
    "title = soup.find_all('h3', class_= \"c-title a-no-trucate a-font-primary-bold-s u-letter-spacing-0021 lrv-u-font-size-18@tablet lrv-u-font-size-16 u-line-height-125 u-line-height-normal@mobile-max a-truncate-ellipsis u-max-width-330 u-max-width-230@tablet-only\", id=\"title-of-a-story\" )"
   ]
  },
  {
   "cell_type": "code",
   "execution_count": 9,
   "metadata": {},
   "outputs": [],
   "source": [
    "nombres = []\n",
    "\n",
    "for i in title:\n",
    "    nombres.append(i.get_text())"
   ]
  },
  {
   "cell_type": "code",
   "execution_count": 10,
   "metadata": {},
   "outputs": [
    {
     "data": {
      "text/plain": [
       "99"
      ]
     },
     "execution_count": 10,
     "metadata": {},
     "output_type": "execute_result"
    }
   ],
   "source": [
    "len(nombres)"
   ]
  },
  {
   "cell_type": "code",
   "execution_count": 11,
   "metadata": {},
   "outputs": [
    {
     "data": {
      "text/plain": [
       "['\\n\\n\\t\\n\\t\\n\\t\\t\\n\\t\\t\\t\\t\\tToo Sweet\\t\\t\\n\\t\\n',\n",
       " '\\n\\n\\t\\n\\t\\n\\t\\t\\n\\t\\t\\t\\t\\tBeautiful Things\\t\\t\\n\\t\\n',\n",
       " '\\n\\n\\t\\n\\t\\n\\t\\t\\n\\t\\t\\t\\t\\tLose Control\\t\\t\\n\\t\\n']"
      ]
     },
     "execution_count": 11,
     "metadata": {},
     "output_type": "execute_result"
    }
   ],
   "source": [
    "nombres[:3]"
   ]
  },
  {
   "cell_type": "code",
   "execution_count": 12,
   "metadata": {},
   "outputs": [],
   "source": [
    "for i in range(len(nombres)):\n",
    "    parts = nombres[i].split('\\n\\n\\t\\n\\t\\n\\t\\t\\n\\t\\t\\t\\t\\t') \n",
    "    middle_part = parts[1].split('\\t\\t\\n\\t\\n')[0]\n",
    "    nombres[i] = middle_part"
   ]
  },
  {
   "cell_type": "code",
   "execution_count": 13,
   "metadata": {},
   "outputs": [
    {
     "data": {
      "text/plain": [
       "['Too Sweet',\n",
       " 'Beautiful Things',\n",
       " 'Lose Control',\n",
       " \"Texas Hold 'Em\",\n",
       " '7 Minute Drill',\n",
       " 'Lovin On Me',\n",
       " \"We Can't Be Friends (Wait For Your Love)\",\n",
       " 'Type Shit',\n",
       " 'Stick Season',\n",
       " 'Wanna Be',\n",
       " 'I Remember Everything',\n",
       " 'Cruel Summer',\n",
       " 'Greedy',\n",
       " 'Saturn',\n",
       " 'I Like The Way You Kiss Me',\n",
       " 'Carnival',\n",
       " 'Agora Hills',\n",
       " 'Crocodile Tearz',\n",
       " 'Snooze',\n",
       " 'Fast Car',\n",
       " 'Get It Sexyy',\n",
       " 'End Of Beginning',\n",
       " 'Water',\n",
       " 'Redrum',\n",
       " 'Feather',\n",
       " 'Man Made A Bar',\n",
       " \"Huntin' Wabbitz\",\n",
       " 'Pricey',\n",
       " 'II Most Wanted',\n",
       " 'Never Lose Me',\n",
       " 'Austin',\n",
       " 'Made For Me',\n",
       " 'Whatever She Wants',\n",
       " 'H.Y.B.',\n",
       " 'Act II: Date @ 8',\n",
       " 'Cinderella',\n",
       " \"Ready '24\",\n",
       " 'Yeah Glo!',\n",
       " 'Slow It Down',\n",
       " 'Where The Wild Things Are',\n",
       " 'Burn It Down',\n",
       " 'Obsessed',\n",
       " 'Where It Ends',\n",
       " 'Houdini',\n",
       " 'Paint The Town Red',\n",
       " 'FE!N',\n",
       " 'Gata Only',\n",
       " 'Wild Ones',\n",
       " 'Selfish',\n",
       " 'Jolene',\n",
       " '23',\n",
       " 'Stickz N Stonez',\n",
       " 'Scared To Start',\n",
       " 'Wildflowers And Wild Horses',\n",
       " 'Young Metro',\n",
       " 'Get In With Me',\n",
       " 'Enough (Miami)',\n",
       " 'Fever',\n",
       " 'Cry',\n",
       " \"We Don't Trust You\",\n",
       " 'Pi',\n",
       " 'Training Season',\n",
       " 'La Diabla',\n",
       " 'Stealth Mode',\n",
       " 'Trae The Truth In Ibiza',\n",
       " \"Levii's Jeans\",\n",
       " 'Mmhmm',\n",
       " 'Everybody',\n",
       " 'Bodyguard',\n",
       " 'Soak City',\n",
       " '3001',\n",
       " 'Hell N Back',\n",
       " 'Outskirts',\n",
       " 'Praise Jah In The Moonlight',\n",
       " 'One Of The Girls',\n",
       " 'Good Luck, Babe!',\n",
       " 'Corazon de Piedra',\n",
       " 'FTCU',\n",
       " 'Tucson Too Late',\n",
       " 'Tu Name',\n",
       " 'Wine Into Whiskey',\n",
       " 'Bandit',\n",
       " 'Halfway To Hell',\n",
       " 'Home',\n",
       " 'Back Then Right Now',\n",
       " 'Spin You Around (1/24)',\n",
       " 'Tyrant',\n",
       " 'Yes, And?',\n",
       " 'Blackbiird',\n",
       " 'Magnetic',\n",
       " \"Wind Up Missin' You\",\n",
       " 'Ya Ya',\n",
       " 'Bulletproof',\n",
       " 'The Boy Is Mine',\n",
       " 'One Call',\n",
       " 'We Ride',\n",
       " \"Mamaw's House\",\n",
       " \"Let's Go\",\n",
       " '16 Carriages']"
      ]
     },
     "execution_count": 13,
     "metadata": {},
     "output_type": "execute_result"
    }
   ],
   "source": [
    "nombres"
   ]
  },
  {
   "cell_type": "code",
   "execution_count": 14,
   "metadata": {},
   "outputs": [
    {
     "data": {
      "text/plain": [
       "'\\n\\n\\t\\n\\t\\t\\n\\t\\t\\t\\t\\tLike That\\t\\t\\n\\t\\t\\t\\t\\t\\n'"
      ]
     },
     "execution_count": 14,
     "metadata": {},
     "output_type": "execute_result"
    }
   ],
   "source": [
    "first_song = soup.find('h3', class_ = 'c-title').get_text()\n",
    "first_song"
   ]
  },
  {
   "cell_type": "code",
   "execution_count": 15,
   "metadata": {},
   "outputs": [],
   "source": [
    "first_song = first_song.split('\\n\\n\\t\\n\\t\\t\\n\\t\\t\\t\\t\\t')[1]\n",
    "first_song = first_song.split('\\t\\t\\n\\t\\t\\t\\t\\t\\n')[0]"
   ]
  },
  {
   "cell_type": "code",
   "execution_count": 16,
   "metadata": {},
   "outputs": [
    {
     "data": {
      "text/plain": [
       "'Like That'"
      ]
     },
     "execution_count": 16,
     "metadata": {},
     "output_type": "execute_result"
    }
   ],
   "source": [
    "first_song"
   ]
  },
  {
   "cell_type": "code",
   "execution_count": 17,
   "metadata": {},
   "outputs": [],
   "source": [
    "nombres = [first_song] + nombres"
   ]
  },
  {
   "cell_type": "code",
   "execution_count": 18,
   "metadata": {},
   "outputs": [
    {
     "data": {
      "text/plain": [
       "100"
      ]
     },
     "execution_count": 18,
     "metadata": {},
     "output_type": "execute_result"
    }
   ],
   "source": [
    "len(nombres)"
   ]
  },
  {
   "cell_type": "markdown",
   "metadata": {},
   "source": [
    "# Singer name"
   ]
  },
  {
   "cell_type": "code",
   "execution_count": 19,
   "metadata": {},
   "outputs": [
    {
     "data": {
      "text/plain": [
       "849"
      ]
     },
     "execution_count": 19,
     "metadata": {},
     "output_type": "execute_result"
    }
   ],
   "source": [
    "len(soup.find_all('span', class_= 'c-label' ))"
   ]
  },
  {
   "cell_type": "code",
   "execution_count": 33,
   "metadata": {},
   "outputs": [],
   "source": [
    "artistas = soup.find_all('span', class_= \"c-label a-no-trucate a-font-primary-s lrv-u-font-size-14@mobile-max u-line-height-normal@mobile-max u-letter-spacing-0021 lrv-u-display-block a-truncate-ellipsis-2line u-max-width-330 u-max-width-230@tablet-only\" )"
   ]
  },
  {
   "cell_type": "code",
   "execution_count": 34,
   "metadata": {},
   "outputs": [],
   "source": [
    "singer = []\n",
    "for i in artistas:\n",
    "    singer.append(i.get_text())\n"
   ]
  },
  {
   "cell_type": "code",
   "execution_count": 35,
   "metadata": {},
   "outputs": [
    {
     "data": {
      "text/plain": [
       "['\\n\\t\\n\\tHozier\\n',\n",
       " '\\n\\t\\n\\tBenson Boone\\n',\n",
       " '\\n\\t\\n\\tTeddy Swims\\n',\n",
       " '\\n\\t\\n\\tBeyonce\\n',\n",
       " '\\n\\t\\n\\tJ. Cole\\n',\n",
       " '\\n\\t\\n\\tJack Harlow\\n',\n",
       " '\\n\\t\\n\\tAriana Grande\\n',\n",
       " '\\n\\t\\n\\tFuture, Metro Boomin, Travis Scott & Playboi Carti\\n',\n",
       " '\\n\\t\\n\\tNoah Kahan\\n',\n",
       " '\\n\\t\\n\\tGloRilla & Megan Thee Stallion\\n',\n",
       " '\\n\\t\\n\\tZach Bryan Featuring Kacey Musgraves\\n',\n",
       " '\\n\\t\\n\\tTaylor Swift\\n',\n",
       " '\\n\\t\\n\\tTate McRae\\n',\n",
       " '\\n\\t\\n\\tSZA\\n',\n",
       " '\\n\\t\\n\\tArtemas\\n',\n",
       " '\\n\\t\\n\\t¥$: Ye & Ty Dolla $ign Featuring Rich The Kid & Playboi Carti\\n',\n",
       " '\\n\\t\\n\\tDoja Cat\\n',\n",
       " '\\n\\t\\n\\tJ. Cole\\n',\n",
       " '\\n\\t\\n\\tSZA\\n',\n",
       " '\\n\\t\\n\\tLuke Combs\\n',\n",
       " '\\n\\t\\n\\tSexyy Red\\n',\n",
       " '\\n\\t\\n\\tDjo\\n',\n",
       " '\\n\\t\\n\\tTyla\\n',\n",
       " '\\n\\t\\n\\t21 Savage\\n',\n",
       " '\\n\\t\\n\\tSabrina Carpenter\\n',\n",
       " '\\n\\t\\n\\tMorgan Wallen Featuring Eric Church\\n',\n",
       " '\\n\\t\\n\\tJ. Cole\\n',\n",
       " '\\n\\t\\n\\tJ. Cole Featuring Ari Lennox, Young Dro & Gucci Mane\\n',\n",
       " '\\n\\t\\n\\tBeyonce & Miley Cyrus\\n',\n",
       " '\\n\\t\\n\\tFlo Milli\\n',\n",
       " '\\n\\t\\n\\tDasha\\n',\n",
       " '\\n\\t\\n\\tMuni Long\\n',\n",
       " '\\n\\t\\n\\tBryson Tiller\\n',\n",
       " '\\n\\t\\n\\tJ. Cole Featuring Bas & Central Cee\\n',\n",
       " '\\n\\t\\n\\t4Batz Featuring Drake\\n',\n",
       " '\\n\\t\\n\\tFuture, Metro Boomin & Travis Scott\\n',\n",
       " \"\\n\\t\\n\\tJ. Cole Featuring Cam'Ron\\n\",\n",
       " '\\n\\t\\n\\tGloRilla\\n',\n",
       " '\\n\\t\\n\\tBenson Boone\\n',\n",
       " '\\n\\t\\n\\tLuke Combs\\n',\n",
       " '\\n\\t\\n\\tParker McCollum\\n',\n",
       " '\\n\\t\\n\\tOlivia Rodrigo\\n',\n",
       " '\\n\\t\\n\\tBailey Zimmerman\\n',\n",
       " '\\n\\t\\n\\tDua Lipa\\n',\n",
       " '\\n\\t\\n\\tDoja Cat\\n',\n",
       " '\\n\\t\\n\\tTravis Scott Featuring Playboi Carti\\n',\n",
       " '\\n\\t\\n\\tFloyyMenor X Cris Mj\\n',\n",
       " '\\n\\t\\n\\tJessie Murph & Jelly Roll\\n',\n",
       " '\\n\\t\\n\\tJustin Timberlake\\n',\n",
       " '\\n\\t\\n\\tBeyonce\\n',\n",
       " '\\n\\t\\n\\tChayce Beckham\\n',\n",
       " '\\n\\t\\n\\tJ. Cole\\n',\n",
       " '\\n\\t\\n\\tMichael Marcagi\\n',\n",
       " '\\n\\t\\n\\tLainey Wilson\\n',\n",
       " '\\n\\t\\n\\tFuture, Metro Boomin & The Weeknd\\n',\n",
       " '\\n\\t\\n\\tBossMan Dlow\\n',\n",
       " '\\n\\t\\n\\tCardi B\\n',\n",
       " '\\n\\t\\n\\tJ. Cole\\n',\n",
       " '\\n\\t\\n\\tBenson Boone\\n',\n",
       " '\\n\\t\\n\\tFuture & Metro Boomin\\n',\n",
       " '\\n\\t\\n\\tJ. Cole Featuring Daylyt & Ab-Soul\\n',\n",
       " '\\n\\t\\n\\tDua Lipa\\n',\n",
       " '\\n\\t\\n\\tXavi\\n',\n",
       " '\\n\\t\\n\\tJ. Cole Featruing Bas\\n',\n",
       " '\\n\\t\\n\\tJ. Cole\\n',\n",
       " '\\n\\t\\n\\tBeyonce & Post Malone\\n',\n",
       " '\\n\\t\\n\\tBigXthaPlug\\n',\n",
       " '\\n\\t\\n\\tNicki Minaj Featuring Lil Uzi Vert\\n',\n",
       " '\\n\\t\\n\\tBeyonce\\n',\n",
       " '\\n\\t\\n\\t310babii\\n',\n",
       " '\\n\\t\\n\\tJ. Cole\\n',\n",
       " '\\n\\t\\n\\tBakar Featuring Summer Walker\\n',\n",
       " '\\n\\t\\n\\tSam Hunt\\n',\n",
       " '\\n\\t\\n\\tYG Marley\\n',\n",
       " '\\n\\t\\n\\tThe Weeknd, Jennie & Lily Rose Depp\\n',\n",
       " '\\n\\t\\n\\tChappell Roan\\n',\n",
       " '\\n\\t\\n\\tXavi\\n',\n",
       " '\\n\\t\\n\\tNicki Minaj\\n',\n",
       " '\\n\\t\\n\\tJordan Davis\\n',\n",
       " '\\n\\t\\n\\tFuerza Regida\\n',\n",
       " '\\n\\t\\n\\tTucker Wetmore\\n',\n",
       " '\\n\\t\\n\\tDon Toliver\\n',\n",
       " '\\n\\t\\n\\tJelly Roll\\n',\n",
       " '\\n\\t\\n\\tGood Neighbours\\n',\n",
       " '\\n\\t\\n\\tTyler Hubbard\\n',\n",
       " '\\n\\t\\n\\tMorgan Wallen\\n',\n",
       " '\\n\\t\\n\\tBeyonce & Dolly Parton\\n',\n",
       " '\\n\\t\\n\\tAriana Grande\\n',\n",
       " '\\n\\t\\n\\tBeyonce, Tanner Adell, Brittney Spencer, Tiera Kennedy & Reyna Roberts\\n',\n",
       " '\\n\\t\\n\\tILLIT\\n',\n",
       " '\\n\\t\\n\\tTucker Wetmore\\n',\n",
       " '\\n\\t\\n\\tBeyonce\\n',\n",
       " '\\n\\t\\n\\tNate Smith\\n',\n",
       " '\\n\\t\\n\\tAriana Grande\\n',\n",
       " '\\n\\t\\n\\tRich Amiri\\n',\n",
       " '\\n\\t\\n\\tBryan Martin\\n',\n",
       " '\\n\\t\\n\\tThomas Rhett Featuring Morgan Wallen\\n',\n",
       " '\\n\\t\\n\\tKey Glock\\n',\n",
       " '\\n\\t\\n\\tBeyonce\\n']"
      ]
     },
     "execution_count": 35,
     "metadata": {},
     "output_type": "execute_result"
    }
   ],
   "source": [
    "singer"
   ]
  },
  {
   "cell_type": "code",
   "execution_count": 42,
   "metadata": {},
   "outputs": [],
   "source": [
    "for i in range(len(singer)):\n",
    "    parts = singer[i].split('\\n\\t\\n\\t') \n",
    "    middle_part = parts[1].split('\\n')[0]\n",
    "    singer[i] = middle_part"
   ]
  },
  {
   "cell_type": "code",
   "execution_count": 43,
   "metadata": {},
   "outputs": [
    {
     "data": {
      "text/plain": [
       "['Hozier',\n",
       " 'Benson Boone',\n",
       " 'Teddy Swims',\n",
       " 'Beyonce',\n",
       " 'J. Cole',\n",
       " 'Jack Harlow',\n",
       " 'Ariana Grande',\n",
       " 'Future, Metro Boomin, Travis Scott & Playboi Carti',\n",
       " 'Noah Kahan',\n",
       " 'GloRilla & Megan Thee Stallion',\n",
       " 'Zach Bryan Featuring Kacey Musgraves',\n",
       " 'Taylor Swift',\n",
       " 'Tate McRae',\n",
       " 'SZA',\n",
       " 'Artemas',\n",
       " '¥$: Ye & Ty Dolla $ign Featuring Rich The Kid & Playboi Carti',\n",
       " 'Doja Cat',\n",
       " 'J. Cole',\n",
       " 'SZA',\n",
       " 'Luke Combs',\n",
       " 'Sexyy Red',\n",
       " 'Djo',\n",
       " 'Tyla',\n",
       " '21 Savage',\n",
       " 'Sabrina Carpenter',\n",
       " 'Morgan Wallen Featuring Eric Church',\n",
       " 'J. Cole',\n",
       " 'J. Cole Featuring Ari Lennox, Young Dro & Gucci Mane',\n",
       " 'Beyonce & Miley Cyrus',\n",
       " 'Flo Milli',\n",
       " 'Dasha',\n",
       " 'Muni Long',\n",
       " 'Bryson Tiller',\n",
       " 'J. Cole Featuring Bas & Central Cee',\n",
       " '4Batz Featuring Drake',\n",
       " 'Future, Metro Boomin & Travis Scott',\n",
       " \"J. Cole Featuring Cam'Ron\",\n",
       " 'GloRilla',\n",
       " 'Benson Boone',\n",
       " 'Luke Combs',\n",
       " 'Parker McCollum',\n",
       " 'Olivia Rodrigo',\n",
       " 'Bailey Zimmerman',\n",
       " 'Dua Lipa',\n",
       " 'Doja Cat',\n",
       " 'Travis Scott Featuring Playboi Carti',\n",
       " 'FloyyMenor X Cris Mj',\n",
       " 'Jessie Murph & Jelly Roll',\n",
       " 'Justin Timberlake',\n",
       " 'Beyonce',\n",
       " 'Chayce Beckham',\n",
       " 'J. Cole',\n",
       " 'Michael Marcagi',\n",
       " 'Lainey Wilson',\n",
       " 'Future, Metro Boomin & The Weeknd',\n",
       " 'BossMan Dlow',\n",
       " 'Cardi B',\n",
       " 'J. Cole',\n",
       " 'Benson Boone',\n",
       " 'Future & Metro Boomin',\n",
       " 'J. Cole Featuring Daylyt & Ab-Soul',\n",
       " 'Dua Lipa',\n",
       " 'Xavi',\n",
       " 'J. Cole Featruing Bas',\n",
       " 'J. Cole',\n",
       " 'Beyonce & Post Malone',\n",
       " 'BigXthaPlug',\n",
       " 'Nicki Minaj Featuring Lil Uzi Vert',\n",
       " 'Beyonce',\n",
       " '310babii',\n",
       " 'J. Cole',\n",
       " 'Bakar Featuring Summer Walker',\n",
       " 'Sam Hunt',\n",
       " 'YG Marley',\n",
       " 'The Weeknd, Jennie & Lily Rose Depp',\n",
       " 'Chappell Roan',\n",
       " 'Xavi',\n",
       " 'Nicki Minaj',\n",
       " 'Jordan Davis',\n",
       " 'Fuerza Regida',\n",
       " 'Tucker Wetmore',\n",
       " 'Don Toliver',\n",
       " 'Jelly Roll',\n",
       " 'Good Neighbours',\n",
       " 'Tyler Hubbard',\n",
       " 'Morgan Wallen',\n",
       " 'Beyonce & Dolly Parton',\n",
       " 'Ariana Grande',\n",
       " 'Beyonce, Tanner Adell, Brittney Spencer, Tiera Kennedy & Reyna Roberts',\n",
       " 'ILLIT',\n",
       " 'Tucker Wetmore',\n",
       " 'Beyonce',\n",
       " 'Nate Smith',\n",
       " 'Ariana Grande',\n",
       " 'Rich Amiri',\n",
       " 'Bryan Martin',\n",
       " 'Thomas Rhett Featuring Morgan Wallen',\n",
       " 'Key Glock',\n",
       " 'Beyonce']"
      ]
     },
     "execution_count": 43,
     "metadata": {},
     "output_type": "execute_result"
    }
   ],
   "source": [
    "singer"
   ]
  },
  {
   "cell_type": "code",
   "execution_count": 44,
   "metadata": {},
   "outputs": [
    {
     "data": {
      "text/plain": [
       "99"
      ]
     },
     "execution_count": 44,
     "metadata": {},
     "output_type": "execute_result"
    }
   ],
   "source": [
    "len(singer)"
   ]
  },
  {
   "cell_type": "code",
   "execution_count": 50,
   "metadata": {},
   "outputs": [
    {
     "data": {
      "text/plain": [
       "'\\n\\t\\n\\tFuture, Metro Boomin & Kendrick Lamar\\n'"
      ]
     },
     "execution_count": 50,
     "metadata": {},
     "output_type": "execute_result"
    }
   ],
   "source": [
    "first_artist = soup.find('span', class_= \"c-label a-no-trucate a-font-primary-s lrv-u-font-size-14@mobile-max u-line-height-normal@mobile-max u-letter-spacing-0021 lrv-u-display-block a-truncate-ellipsis-2line u-max-width-330 u-max-width-230@tablet-only u-font-size-20@tablet\").get_text()\n",
    "first_artist"
   ]
  },
  {
   "cell_type": "code",
   "execution_count": 53,
   "metadata": {},
   "outputs": [],
   "source": [
    "parts = first_artist.split('\\n\\t\\n\\t')\n",
    "middle_part = parts[1]\n",
    "first_artist = middle_part.split('\\n')[0]"
   ]
  },
  {
   "cell_type": "code",
   "execution_count": 57,
   "metadata": {},
   "outputs": [],
   "source": [
    "singers = [first_artist] + singer"
   ]
  },
  {
   "cell_type": "code",
   "execution_count": 58,
   "metadata": {},
   "outputs": [
    {
     "data": {
      "text/plain": [
       "100"
      ]
     },
     "execution_count": 58,
     "metadata": {},
     "output_type": "execute_result"
    }
   ],
   "source": [
    "len(singers)"
   ]
  },
  {
   "cell_type": "code",
   "execution_count": 59,
   "metadata": {},
   "outputs": [],
   "source": [
    "billboard = pd.DataFrame({'Song': nombres,\n",
    "                          'Singers': singers})"
   ]
  },
  {
   "cell_type": "code",
   "execution_count": 60,
   "metadata": {},
   "outputs": [
    {
     "data": {
      "text/html": [
       "<div>\n",
       "<style scoped>\n",
       "    .dataframe tbody tr th:only-of-type {\n",
       "        vertical-align: middle;\n",
       "    }\n",
       "\n",
       "    .dataframe tbody tr th {\n",
       "        vertical-align: top;\n",
       "    }\n",
       "\n",
       "    .dataframe thead th {\n",
       "        text-align: right;\n",
       "    }\n",
       "</style>\n",
       "<table border=\"1\" class=\"dataframe\">\n",
       "  <thead>\n",
       "    <tr style=\"text-align: right;\">\n",
       "      <th></th>\n",
       "      <th>Song</th>\n",
       "      <th>Singers</th>\n",
       "    </tr>\n",
       "  </thead>\n",
       "  <tbody>\n",
       "    <tr>\n",
       "      <th>0</th>\n",
       "      <td>Like That</td>\n",
       "      <td>Future, Metro Boomin &amp; Kendrick Lamar</td>\n",
       "    </tr>\n",
       "    <tr>\n",
       "      <th>1</th>\n",
       "      <td>Too Sweet</td>\n",
       "      <td>Hozier</td>\n",
       "    </tr>\n",
       "    <tr>\n",
       "      <th>2</th>\n",
       "      <td>Beautiful Things</td>\n",
       "      <td>Benson Boone</td>\n",
       "    </tr>\n",
       "    <tr>\n",
       "      <th>3</th>\n",
       "      <td>Lose Control</td>\n",
       "      <td>Teddy Swims</td>\n",
       "    </tr>\n",
       "    <tr>\n",
       "      <th>4</th>\n",
       "      <td>Texas Hold 'Em</td>\n",
       "      <td>Beyonce</td>\n",
       "    </tr>\n",
       "    <tr>\n",
       "      <th>...</th>\n",
       "      <td>...</td>\n",
       "      <td>...</td>\n",
       "    </tr>\n",
       "    <tr>\n",
       "      <th>95</th>\n",
       "      <td>One Call</td>\n",
       "      <td>Rich Amiri</td>\n",
       "    </tr>\n",
       "    <tr>\n",
       "      <th>96</th>\n",
       "      <td>We Ride</td>\n",
       "      <td>Bryan Martin</td>\n",
       "    </tr>\n",
       "    <tr>\n",
       "      <th>97</th>\n",
       "      <td>Mamaw's House</td>\n",
       "      <td>Thomas Rhett Featuring Morgan Wallen</td>\n",
       "    </tr>\n",
       "    <tr>\n",
       "      <th>98</th>\n",
       "      <td>Let's Go</td>\n",
       "      <td>Key Glock</td>\n",
       "    </tr>\n",
       "    <tr>\n",
       "      <th>99</th>\n",
       "      <td>16 Carriages</td>\n",
       "      <td>Beyonce</td>\n",
       "    </tr>\n",
       "  </tbody>\n",
       "</table>\n",
       "<p>100 rows × 2 columns</p>\n",
       "</div>"
      ],
      "text/plain": [
       "                Song                                Singers\n",
       "0          Like That  Future, Metro Boomin & Kendrick Lamar\n",
       "1          Too Sweet                                 Hozier\n",
       "2   Beautiful Things                           Benson Boone\n",
       "3       Lose Control                            Teddy Swims\n",
       "4     Texas Hold 'Em                                Beyonce\n",
       "..               ...                                    ...\n",
       "95          One Call                             Rich Amiri\n",
       "96           We Ride                           Bryan Martin\n",
       "97     Mamaw's House   Thomas Rhett Featuring Morgan Wallen\n",
       "98          Let's Go                              Key Glock\n",
       "99      16 Carriages                                Beyonce\n",
       "\n",
       "[100 rows x 2 columns]"
      ]
     },
     "execution_count": 60,
     "metadata": {},
     "output_type": "execute_result"
    }
   ],
   "source": [
    "billboard"
   ]
  },
  {
   "cell_type": "code",
   "execution_count": 13,
   "metadata": {},
   "outputs": [],
   "source": [
    "def search_song():\n",
    "    from bs4 import BeautifulSoup\n",
    "    import requests\n",
    "    import pandas as pd\n",
    "    \n",
    "    url=\"https://www.billboard.com/charts/hot-100/\"\n",
    "    response= requests.get(url)\n",
    "    soup = BeautifulSoup(response.content, 'html.parser')\n",
    "\n",
    "    ### Song title\n",
    "    title = soup.find_all('h3', class_= \"c-title a-no-trucate a-font-primary-bold-s u-letter-spacing-0021 lrv-u-font-size-18@tablet lrv-u-font-size-16 u-line-height-125 u-line-height-normal@mobile-max a-truncate-ellipsis u-max-width-330 u-max-width-230@tablet-only\", id=\"title-of-a-story\" )\n",
    "    nombres = []\n",
    "    for i in title:\n",
    "        nombres.append(i.get_text())\n",
    "    \n",
    "    first_song = soup.find('h3', class_ = 'c-title').get_text()\n",
    "    first_song = first_song.split('\\n\\n\\t\\n\\t\\t\\n\\t\\t\\t\\t\\t')[1]\n",
    "    first_song = first_song.split('\\t\\t\\n\\t\\t\\t\\t\\t\\n')[0]\n",
    "\n",
    "\n",
    "    for i in range(len(nombres)):\n",
    "        parts = nombres[i].split('\\n\\n\\t\\n\\t\\n\\t\\t\\n\\t\\t\\t\\t\\t') \n",
    "        middle_part = parts[1].split('\\t\\t\\n\\t\\n')[0]\n",
    "        nombres[i] = middle_part\n",
    "    \n",
    "    \n",
    "    nombres = [first_song] + nombres\n",
    "\n",
    "\n",
    "    ### Singers\n",
    "    artistas = soup.find_all('span', class_= \"c-label a-no-trucate a-font-primary-s lrv-u-font-size-14@mobile-max u-line-height-normal@mobile-max u-letter-spacing-0021 lrv-u-display-block a-truncate-ellipsis-2line u-max-width-330 u-max-width-230@tablet-only\" )\n",
    "    singer = []\n",
    "    for i in artistas:\n",
    "        singer.append(i.get_text())\n",
    "    first_artist = soup.find('span', class_= \"c-label a-no-trucate a-font-primary-s lrv-u-font-size-14@mobile-max u-line-height-normal@mobile-max u-letter-spacing-0021 lrv-u-display-block a-truncate-ellipsis-2line u-max-width-330 u-max-width-230@tablet-only u-font-size-20@tablet\").get_text()\n",
    "    \n",
    "    singers = [first_artist] + singer\n",
    "\n",
    "    for i in range(len(singers)):\n",
    "        parts = singers[i].split('\\n\\t\\n\\t') \n",
    "        middle_part = parts[1].split('\\n')[0]\n",
    "        singers[i] = middle_part\n",
    "    \n",
    "    billboard = pd.DataFrame({'Song': nombres,\n",
    "                          'Singers': singers})\n",
    "     \n",
    "    \n",
    "\n",
    "    user_input = input(\"Introduce una canción: \").capitalize()\n",
    "\n",
    "    if len(user_input) <= 3:\n",
    "        print(\"Introduce más de tres letras.\")\n",
    "    else:\n",
    "        user_input = user_input.capitalize() \n",
    "        matching_songs = billboard[billboard['Song'].str.contains(user_input)]\n",
    "        \n",
    "        if not matching_songs.empty:\n",
    "            print(f\"¿Buscas la canción {matching_songs.iloc[0]['Song']} de {matching_songs.iloc[0]['Singers']}?\")\n",
    "            answer = input(\"Si o No: \").capitalize()\n",
    "            \n",
    "            if answer in ['Si', 'Yes']: \n",
    "                print(f\"{matching_songs.iloc[0]['Song']} - {matching_songs.iloc[0]['Singers']}\")\n",
    "            else:\n",
    "                print(\"No hay más canciones coincidentes.\")\n",
    "        else:\n",
    "            print(\"No se encontró la canción.\")"
   ]
  },
  {
   "cell_type": "code",
   "execution_count": 16,
   "metadata": {},
   "outputs": [
    {
     "name": "stdout",
     "output_type": "stream",
     "text": [
      "¿Buscas la canción Too Sweet de Hozier?\n",
      "Too Sweet - Hozier\n"
     ]
    }
   ],
   "source": [
    "search_song()"
   ]
  }
 ],
 "metadata": {
  "kernelspec": {
   "display_name": "Ironhack",
   "language": "python",
   "name": "python3"
  },
  "language_info": {
   "codemirror_mode": {
    "name": "ipython",
    "version": 3
   },
   "file_extension": ".py",
   "mimetype": "text/x-python",
   "name": "python",
   "nbconvert_exporter": "python",
   "pygments_lexer": "ipython3",
   "version": "3.11.7"
  }
 },
 "nbformat": 4,
 "nbformat_minor": 2
}
