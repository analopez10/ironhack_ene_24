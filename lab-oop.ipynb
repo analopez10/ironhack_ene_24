{
 "cells": [
  {
   "cell_type": "markdown",
   "metadata": {},
   "source": [
    "# OOP\n",
    "\n",
    "In this lab we will put into practice what we have seen in class.\n",
    "\n",
    "`NOTE: It is split in two different Exercise: Do NOT try to change the order as the idea is to build a class from scratch using all the steps on each exercise` \n",
    "\n",
    "Good Luck! "
   ]
  },
  {
   "cell_type": "markdown",
   "metadata": {},
   "source": [
    "## Exercise 1: Car Class\n",
    "\n",
    "Use the origina code below to start with the exercise: "
   ]
  },
  {
   "cell_type": "code",
   "execution_count": 1,
   "metadata": {},
   "outputs": [],
   "source": [
    "class Car:\n",
    "    def __init__(self, color): \n",
    "        self.color = color"
   ]
  },
  {
   "cell_type": "markdown",
   "metadata": {},
   "source": [
    "### 1.1: Basic Info\n",
    "\n",
    "- This class Car is incomplete. We need to have more attributes, in this case we will need the user to add the Brand of the car (p.e. Fiat, Volvo, etc\") and the number of wheels (always 4). Build the first function called info, where it should print all the information of the car.\n",
    "- Try using the upper, capitalize or lower methods of strings to make the print look realistic. "
   ]
  },
  {
   "cell_type": "code",
   "execution_count": 12,
   "metadata": {},
   "outputs": [],
   "source": [
    "# Your Code here\n",
    "class Car:\n",
    "    def __init__ (self, color, brand):\n",
    "        self.color = color\n",
    "        self.brand = brand\n",
    "        self.wheels = 4\n",
    "    \n",
    "    def info(self):\n",
    "        print(f\"Your car is a {self.color} {self.brand}\")\n"
   ]
  },
  {
   "cell_type": "code",
   "execution_count": 13,
   "metadata": {},
   "outputs": [
    {
     "name": "stdout",
     "output_type": "stream",
     "text": [
      "Your car is a red BMW\n"
     ]
    }
   ],
   "source": [
    "# try your code with this example\n",
    "bmw = Car (\"red\", \"BMW\")\n",
    "bmw.info()"
   ]
  },
  {
   "cell_type": "markdown",
   "metadata": {},
   "source": [
    "### 1.2: Turn On/Off\n",
    "\n",
    "- Set a new attribute called `engine`. In it there will only be two options, ON and OFF. Originally, this new attribute will be OFF as the car engine will be OFF. \n",
    "- Create two more methods called `encender` and `apagar`. Take into consideration that if the car is ON and you try the encender, a message should be printed: \"No se puede encender "
   ]
  },
  {
   "cell_type": "code",
   "execution_count": 46,
   "metadata": {},
   "outputs": [],
   "source": [
    "# Your Code here:\n",
    "\n",
    "class Car:\n",
    "    def __init__ (self, color, brand):\n",
    "        self.color = color\n",
    "        self.brand = brand\n",
    "        self.wheels = 4\n",
    "        self.engine = \"off\"\n",
    "\n",
    "    def turn_on (self):\n",
    "        if self.engine == 'off':\n",
    "            self.engine = 'on'\n",
    "            return f\"The car is now {self.engine}\"\n",
    "        else:\n",
    "            print (f\"The car is already on\")\n",
    "    \n",
    "    def turn_off (self):\n",
    "        if self.engine == 'on':\n",
    "            self.engine = 'off'\n",
    "            return f\" The car is now {self.engine}\"\n",
    "        else:\n",
    "            print (f\"The car is already off\")\n",
    "    \n",
    "    def info(self):\n",
    "        print(f\"Your car is a {self.color} {self.brand}\")\n",
    "        print (f\"The car is {self.engine}\")\n",
    "\n"
   ]
  },
  {
   "cell_type": "code",
   "execution_count": 47,
   "metadata": {},
   "outputs": [
    {
     "name": "stdout",
     "output_type": "stream",
     "text": [
      "Your car is a Blue BMW\n",
      "The car is on\n"
     ]
    }
   ],
   "source": [
    "#Try the method a couple of times to see if the behaviour of the car is working well (p.e. dos veces función encendida o 2 veces función apagada)\n",
    "bmw = Car(color=\"Blue\", brand=\"BMW\")\n",
    "\n",
    "# Try the methods\n",
    "bmw.turn_on()\n",
    "bmw.info()"
   ]
  },
  {
   "cell_type": "code",
   "execution_count": 48,
   "metadata": {},
   "outputs": [
    {
     "data": {
      "text/plain": [
       "' The car is now off'"
      ]
     },
     "execution_count": 48,
     "metadata": {},
     "output_type": "execute_result"
    }
   ],
   "source": [
    "bmw.turn_off()"
   ]
  },
  {
   "cell_type": "code",
   "execution_count": 49,
   "metadata": {},
   "outputs": [
    {
     "name": "stdout",
     "output_type": "stream",
     "text": [
      "The car is already off\n"
     ]
    }
   ],
   "source": [
    "bmw.turn_off()"
   ]
  },
  {
   "cell_type": "code",
   "execution_count": 50,
   "metadata": {},
   "outputs": [
    {
     "data": {
      "text/plain": [
       "'The car is now on'"
      ]
     },
     "execution_count": 50,
     "metadata": {},
     "output_type": "execute_result"
    }
   ],
   "source": [
    "bmw.turn_on ()"
   ]
  },
  {
   "cell_type": "markdown",
   "metadata": {},
   "source": [
    "### 1.3 Accelerate/reduce/break\n",
    "\n",
    "Here we are going to set a new attribute: `speed`. The original speed of each vehicle must be 0. We will then add three methods: acelerar, reducir and frenar. `acelerar` will increase the speed, `reducir` will reduce it and `frenar` will take it back to 0 again. \n",
    "Extra conditions: \n",
    "\n",
    "Try tu use the logic to know some basic interactions between this methods and the methods seen in 1.2. First try it yourself before revealing the hidden information!\n",
    "\n",
    "\n",
    "<details>\n",
    "    <summary> Expand the box to see the logic between methods </summary>\n",
    "    \n",
    "- The engine must be ON to use this 3 new method\n",
    "\n",
    "- If the speed is different to 0, you can not use the `apagar` method\n",
    "\n",
    "- If you use `reducir` to a number that makes the speed in negative numbers, you can not use reducir.  \n",
    "\n",
    "- To avoid using the `__dict__`, add the speed and the engine state as new info in the `info` method\n",
    "\n",
    "- For both `acelerar` and `reducir`, everytime you use this method you must send an argument (how much is the car accelerating and reducing everytime you call this function)\n",
    "\n",
    "</details>\n"
   ]
  },
  {
   "cell_type": "code",
   "execution_count": 56,
   "metadata": {},
   "outputs": [],
   "source": [
    "# Your Code here: \n",
    "\n",
    "class Car:\n",
    "    def __init__ (self, color, brand):\n",
    "        self.color = color\n",
    "        self.brand = brand\n",
    "        self.wheels = 4\n",
    "        self.engine = \"off\"\n",
    "        self.speed = 0\n",
    "\n",
    "\n",
    "    def turn_on (self):\n",
    "        if self.engine == 'off':\n",
    "            self.engine = 'on'\n",
    "            return f\"The car is now {self.engine}\"\n",
    "        else:\n",
    "            print (f\"The car is already on\")\n",
    "    \n",
    "    def speed_up (self):\n",
    "        if self.engine == 'off':\n",
    "            print (f\"Your car is {sel.engine}, first turn it on\")\n",
    "        else:\n",
    "            self.speed += 10\n",
    "            return f\"Your car is going at {self.speed} km/h\"\n",
    "    \n",
    "    def slow_down (self):\n",
    "        if self.engine == 'off':\n",
    "            print (f\"Your car is {sel.engine}, and it is not moving\")\n",
    "        \n",
    "        else:\n",
    "            self.speed -= 10\n",
    "            return f\"You have reduce velocity, your car is going at {self.speed}km/h\"\n",
    "            \n",
    "            if self.speed <= 0:\n",
    "                self.speed = 0\n",
    "                return f\"Your car has stopped\"\n",
    "    \n",
    "    def pull_break (self):\n",
    "        if self.speed > 0:\n",
    "            self.speed = 0\n",
    "            return f\"You have stopped the car\"\n",
    "        elif self.speed <= 0:\n",
    "            self.speed = 0\n",
    "            return f\"Your car is not moving\"\n",
    "\n",
    "    \n",
    "    def turn_off (self):\n",
    "        if self.engine == 'on':\n",
    "            self.engine = 'off'\n",
    "            return f\" The car is now {self.engine}\"\n",
    "        else:\n",
    "            print (f\"The car is already off\")\n",
    "    \n",
    "    def info(self):\n",
    "        print(f\"Your car is a {self.color} {self.brand}\")\n",
    "        print (f\"The car is {self.engine}\")\n",
    "        print (f\"Your car speed is {self.speed}km/h\")\n"
   ]
  },
  {
   "cell_type": "code",
   "execution_count": 57,
   "metadata": {},
   "outputs": [],
   "source": [
    "#Try combos with this same car!\n",
    "bmw=Car(\"rojo\", \"BMW\")"
   ]
  },
  {
   "cell_type": "code",
   "execution_count": 58,
   "metadata": {},
   "outputs": [
    {
     "name": "stdout",
     "output_type": "stream",
     "text": [
      "Your car is a rojo BMW\n",
      "The car is on\n",
      "Your car speed is 0km/h\n"
     ]
    }
   ],
   "source": [
    "bmw.turn_on()\n",
    "bmw.info()"
   ]
  },
  {
   "cell_type": "code",
   "execution_count": 59,
   "metadata": {},
   "outputs": [
    {
     "data": {
      "text/plain": [
       "'Your car is going at 10 km/h'"
      ]
     },
     "execution_count": 59,
     "metadata": {},
     "output_type": "execute_result"
    }
   ],
   "source": [
    "bmw.speed_up()"
   ]
  },
  {
   "cell_type": "code",
   "execution_count": 64,
   "metadata": {},
   "outputs": [
    {
     "data": {
      "text/plain": [
       "'Your car is going at 120 km/h'"
      ]
     },
     "execution_count": 64,
     "metadata": {},
     "output_type": "execute_result"
    }
   ],
   "source": [
    "bmw.speed_up()\n",
    "bmw.speed_up()\n",
    "bmw.speed_up()\n",
    "bmw.speed_up()\n",
    "bmw.speed_up()"
   ]
  },
  {
   "cell_type": "code",
   "execution_count": 65,
   "metadata": {},
   "outputs": [
    {
     "data": {
      "text/plain": [
       "'You have reduce velocity, your car is going at 110km/h'"
      ]
     },
     "execution_count": 65,
     "metadata": {},
     "output_type": "execute_result"
    }
   ],
   "source": [
    "bmw.slow_down()"
   ]
  },
  {
   "cell_type": "code",
   "execution_count": 66,
   "metadata": {},
   "outputs": [
    {
     "name": "stdout",
     "output_type": "stream",
     "text": [
      "The car is already on\n"
     ]
    }
   ],
   "source": [
    "bmw.turn_on()"
   ]
  },
  {
   "cell_type": "code",
   "execution_count": 67,
   "metadata": {},
   "outputs": [
    {
     "data": {
      "text/plain": [
       "'You have stopped the car'"
      ]
     },
     "execution_count": 67,
     "metadata": {},
     "output_type": "execute_result"
    }
   ],
   "source": [
    "bmw.pull_break()"
   ]
  },
  {
   "cell_type": "code",
   "execution_count": null,
   "metadata": {},
   "outputs": [],
   "source": [
    "#Try all the combinations you like and see if it works!\n",
    "\n",
    "#bmw.info()\n",
    "#bmw.encender()\n",
    "#bmw.acelerar(5)\n",
    "#bmw.reducir(4)\n",
    "#bmw.info()\n",
    "#bmw.apagar()\n",
    "#bmw.frenar()\n",
    "#bmw.apagar()"
   ]
  },
  {
   "cell_type": "markdown",
   "metadata": {},
   "source": [
    "### 1.4 Maximum Speed\n",
    "\n",
    "We will now set a new parameter the user should introduce: `max_speed`. If the user do NOT set this parameter, the **default value** should be 120\n",
    "\n",
    "(the code should work for both Car(\"blue\", \"FIAT\") and Car(\"purple\", \"Mini\", 130) )\n",
    "\n",
    "The only thing that must change from the previous code is that your speed can NEVER be over the limit of the car. If you try to accelerate more, the speed of the car will be max_speed. "
   ]
  },
  {
   "cell_type": "code",
   "execution_count": 140,
   "metadata": {},
   "outputs": [],
   "source": [
    "# Your Code here: \n",
    "\n",
    "\n",
    "class Car:\n",
    "    def __init__ (self, color, brand, max_speed = 120):\n",
    "        self.color = color\n",
    "        self.brand = brand\n",
    "        self.max_speed = max_speed\n",
    "        self.wheels = 4\n",
    "        self.engine = \"off\"\n",
    "        self.speed = 0\n",
    "\n",
    "\n",
    "    def turn_on (self):\n",
    "        if self.engine == 'off':\n",
    "            self.engine = 'on'\n",
    "            return f\"The car is now {self.engine}\"\n",
    "        else:\n",
    "            print (f\"The car is already on\")\n",
    "    \n",
    "    def speed_up (self, times = 1):\n",
    "        if self.engine == 'off':\n",
    "            print (f\"Your car is {self.engine}, first turn it on\")\n",
    "        elif self.speed >= self.max_speed:\n",
    "            self.speed = self.max_speed\n",
    "            return f\"The maximum limit is {self.max_speed}km/h\"\n",
    "        else:\n",
    "            self.speed += (10 * times)\n",
    "            if self.speed > self.max_speed:\n",
    "                self.speed = self.max_speed\n",
    "                print (f\"The speed limit is {self.max_speed} km/h\")\n",
    "            return f\"Your car is going at {self.speed} km/h\"\n",
    "    \n",
    "    def slow_down (self, times = 1):\n",
    "        if self.engine == 'off':\n",
    "            print (f\"Your car is {self.engine}, and it is not moving\")\n",
    "        \n",
    "        elif self.speed <= 10:\n",
    "            self.speed = 0\n",
    "            return f\"Your car has stopped\"\n",
    "        \n",
    "        else:\n",
    "            self.speed -= (10 * times)\n",
    "            if self.speed < 0:\n",
    "                self.speed = 0\n",
    "                print (f\"Your car has stopped\")\n",
    "            \n",
    "            return f\"You have reduced velocity, your car is going at {self.speed}km/h\"\n",
    "            \n",
    "\n",
    "    \n",
    "    def pull_break (self):\n",
    "        if self.speed > 0:\n",
    "            self.speed = 0\n",
    "            return f\"You have stopped the car\"\n",
    "        elif self.speed <= 0:\n",
    "            self.speed = 0\n",
    "            return f\"Your car is not moving\"\n",
    "\n",
    "    \n",
    "    def turn_off (self):\n",
    "        if self.engine == 'on':\n",
    "            self.engine = 'off'\n",
    "            return f\" The car is now {self.engine}\"\n",
    "        else:\n",
    "            print (f\"The car is already off\")\n",
    "    \n",
    "    def info(self):\n",
    "        print(f\"Your car is a {self.color} {self.brand}\")\n",
    "        print (f\"The car is {self.engine}\")\n",
    "        print (f\"Your car speed is {self.speed}km/h\")\n"
   ]
  },
  {
   "cell_type": "code",
   "execution_count": 124,
   "metadata": {},
   "outputs": [],
   "source": [
    "#try the code here: \n",
    "fiat=Car(\"red\", \"Fiat\", 130)\n"
   ]
  },
  {
   "cell_type": "code",
   "execution_count": 125,
   "metadata": {},
   "outputs": [
    {
     "data": {
      "text/plain": [
       "'The car is now on'"
      ]
     },
     "execution_count": 125,
     "metadata": {},
     "output_type": "execute_result"
    }
   ],
   "source": [
    "fiat.turn_on()"
   ]
  },
  {
   "cell_type": "code",
   "execution_count": 126,
   "metadata": {},
   "outputs": [
    {
     "data": {
      "text/plain": [
       "'Your car is going at 70 km/h'"
      ]
     },
     "execution_count": 126,
     "metadata": {},
     "output_type": "execute_result"
    }
   ],
   "source": [
    "fiat.speed_up(7)\n"
   ]
  },
  {
   "cell_type": "code",
   "execution_count": 127,
   "metadata": {},
   "outputs": [
    {
     "data": {
      "text/plain": [
       "'Your car is going at 130 km/h'"
      ]
     },
     "execution_count": 127,
     "metadata": {},
     "output_type": "execute_result"
    }
   ],
   "source": [
    "fiat.speed_up(6)"
   ]
  },
  {
   "cell_type": "code",
   "execution_count": 128,
   "metadata": {},
   "outputs": [
    {
     "data": {
      "text/plain": [
       "'The maximum limit is 130km/h'"
      ]
     },
     "execution_count": 128,
     "metadata": {},
     "output_type": "execute_result"
    }
   ],
   "source": [
    "fiat.speed_up()"
   ]
  },
  {
   "cell_type": "code",
   "execution_count": 129,
   "metadata": {},
   "outputs": [
    {
     "name": "stdout",
     "output_type": "stream",
     "text": [
      "Your car has stopped\n"
     ]
    },
    {
     "data": {
      "text/plain": [
       "'You have reduced velocity, your car is going at 0km/h'"
      ]
     },
     "execution_count": 129,
     "metadata": {},
     "output_type": "execute_result"
    }
   ],
   "source": [
    "fiat.slow_down (14)"
   ]
  },
  {
   "cell_type": "code",
   "execution_count": 130,
   "metadata": {},
   "outputs": [
    {
     "data": {
      "text/plain": [
       "'Your car is not moving'"
      ]
     },
     "execution_count": 130,
     "metadata": {},
     "output_type": "execute_result"
    }
   ],
   "source": [
    "fiat.pull_break()"
   ]
  },
  {
   "cell_type": "code",
   "execution_count": 131,
   "metadata": {},
   "outputs": [
    {
     "data": {
      "text/plain": [
       "' The car is now off'"
      ]
     },
     "execution_count": 131,
     "metadata": {},
     "output_type": "execute_result"
    }
   ],
   "source": [
    "fiat.turn_off()"
   ]
  },
  {
   "cell_type": "code",
   "execution_count": 141,
   "metadata": {},
   "outputs": [
    {
     "name": "stdout",
     "output_type": "stream",
     "text": [
      "Your car is a purple Mini\n",
      "The car is off\n",
      "Your car speed is 0km/h\n"
     ]
    }
   ],
   "source": [
    "mini = Car(\"purple\", \"Mini\", 130)\n",
    "mini.info()"
   ]
  },
  {
   "cell_type": "code",
   "execution_count": 142,
   "metadata": {},
   "outputs": [
    {
     "name": "stdout",
     "output_type": "stream",
     "text": [
      "Your car is off, first turn it on\n"
     ]
    }
   ],
   "source": [
    "mini.speed_up(13)"
   ]
  },
  {
   "cell_type": "code",
   "execution_count": 143,
   "metadata": {},
   "outputs": [
    {
     "data": {
      "text/plain": [
       "'The car is now on'"
      ]
     },
     "execution_count": 143,
     "metadata": {},
     "output_type": "execute_result"
    }
   ],
   "source": [
    "mini.turn_on()"
   ]
  },
  {
   "cell_type": "code",
   "execution_count": 144,
   "metadata": {},
   "outputs": [
    {
     "name": "stdout",
     "output_type": "stream",
     "text": [
      "The speed limit is 130 km/h\n"
     ]
    },
    {
     "data": {
      "text/plain": [
       "'Your car is going at 130 km/h'"
      ]
     },
     "execution_count": 144,
     "metadata": {},
     "output_type": "execute_result"
    }
   ],
   "source": [
    "mini.speed_up(14)"
   ]
  },
  {
   "cell_type": "markdown",
   "metadata": {},
   "source": [
    "## Exercise 2: Inheritance\n",
    "\n",
    "Let's recover this example set in our class: "
   ]
  },
  {
   "cell_type": "code",
   "execution_count": null,
   "metadata": {},
   "outputs": [],
   "source": [
    "class Staff ():\n",
    "        \n",
    "    def __init__ (self, name, fname):\n",
    "        self.name = name.capitalize()\n",
    "        self.fname = fname\n",
    "        \n",
    "        # Default\n",
    "        self.time_off = 20\n",
    "        \n",
    "        #Default: as a result\n",
    "        self.email = self.name.lower() + \".\" + self.fname.lower() + \"@ironhack.com\"\n",
    "        \n",
    "        self.hobbies = []\n",
    "        \n",
    "    \n",
    "    def introduce (self):\n",
    "        return f\"Hello, my name is {self.name}!\"\n",
    "    \n",
    "    def takes_days_off (self, number):\n",
    "        if self.time_off-number >= 0:\n",
    "            self.time_off -= number\n",
    "            return f\"Now you have {self.time_off} days off available\"\n",
    "        else:\n",
    "            return f\"Sorry, you ran out of days. Your total time_off available is {self.time_off}\"\n",
    "    \n",
    "    def hobbies_function (self, *hob): #passing an optional argument\n",
    "        if hob:\n",
    "            for i in hob:\n",
    "                self.hobbies.append(i)\n",
    "                print(f\"We added: {self.hobbies[-1]}\")\n",
    "            return self.hobbies_function()\n",
    "        else:\n",
    "            new = \", \".join([i for i in self.hobbies])\n",
    "            return f\"My hobbies are: {new}\""
   ]
  },
  {
   "cell_type": "markdown",
   "metadata": {},
   "source": [
    "### 2.1 Class Variable\n",
    "\n",
    "Create a class variable (attribute shared by everybody in the organization). This class variable will `company`, and it should be always **Ironhack**"
   ]
  },
  {
   "cell_type": "code",
   "execution_count": 145,
   "metadata": {},
   "outputs": [],
   "source": [
    "# Your code here: \n",
    "class Staff ():\n",
    "    company= \"Ironhack\"\n",
    "        \n",
    "    def __init__ (self, name, fname):\n",
    "        self.name = name.capitalize()\n",
    "        self.fname = fname\n",
    "        \n",
    "        # Default\n",
    "        self.time_off = 20\n",
    "        \n",
    "        #Default: as a result\n",
    "        self.email = self.name.lower() + \".\" + self.fname.lower() + \"@ironhack.com\"\n",
    "        \n",
    "        self.hobbies = []\n",
    "        \n",
    "    \n",
    "    def introduce (self):\n",
    "        return f\"Hello, my name is {self.name}!\"\n",
    "    \n",
    "    def takes_days_off (self, number):\n",
    "        if self.time_off-number >= 0:\n",
    "            self.time_off -= number\n",
    "            return f\"Now you have {self.time_off} days off available\"\n",
    "        else:\n",
    "            return f\"Sorry, you ran out of days. Your total time_off available is {self.time_off}\"\n",
    "    \n",
    "    def hobbies_function (self, *hob): #passing an optional argument\n",
    "        if hob:\n",
    "            for i in hob:\n",
    "                self.hobbies.append(i)\n",
    "                print(f\"We added: {self.hobbies[-1]}\")\n",
    "            return self.hobbies_function()\n",
    "        else:\n",
    "            new = \", \".join([i for i in self.hobbies])\n",
    "            return f\"My hobbies are: {new}\""
   ]
  },
  {
   "cell_type": "markdown",
   "metadata": {},
   "source": [
    "### 1.2 Info Method\n",
    "\n",
    "As in the previous exercise, set a method to know all the information related with each person: Name, Surname, Time_Off Available, Mail, hobbies and Company"
   ]
  },
  {
   "cell_type": "code",
   "execution_count": 162,
   "metadata": {},
   "outputs": [],
   "source": [
    "# Your code here\n",
    "# Your code here: \n",
    "class Staff ():\n",
    "    company= \"Ironhack\"\n",
    "        \n",
    "    def __init__ (self, name, fname):\n",
    "        self.name = name.capitalize()\n",
    "        self.fname = fname\n",
    "        \n",
    "        # Default\n",
    "        self.time_off = 20\n",
    "        \n",
    "        #Default: as a result\n",
    "        self.email = self.name.lower() + \".\" + self.fname.lower() + \"@ironhack.com\"\n",
    "        \n",
    "        self.hobbies = []\n",
    "        \n",
    "    \n",
    "    def introduce (self):\n",
    "        return f\"Hello, my name is {self.name}!\"\n",
    "    \n",
    "    def takes_days_off (self, number):\n",
    "        if self.time_off-number >= 0:\n",
    "            self.time_off -= number\n",
    "            return f\"Now you have {self.time_off} days off available\"\n",
    "        else:\n",
    "            return f\"Sorry, you ran out of days. Your total time_off available is {self.time_off}\"\n",
    "    \n",
    "    def hobbies_function (self, *hob): #passing an optional argument\n",
    "        if hob:\n",
    "            for i in hob:\n",
    "                self.hobbies.append(i)\n",
    "                print(f\"We added: {self.hobbies[-1]}\")\n",
    "            return self.hobbies_function()\n",
    "        else:\n",
    "            new = \", \".join([i for i in self.hobbies])\n",
    "            return f\"My hobbies are: {new}\"\n",
    "    \n",
    "    def info (self):\n",
    "        print(f\"Name:{self.name} {self.fname}\")\n",
    "        print(f\"Company: {self.company}\")\n",
    "        print(f\"Email: {self.email}\")\n",
    "        print(f\"Time off available: {self.time_off}\")\n",
    "        print (f\"Hobbies: {self.hobbies}\")"
   ]
  },
  {
   "cell_type": "code",
   "execution_count": 164,
   "metadata": {},
   "outputs": [
    {
     "name": "stdout",
     "output_type": "stream",
     "text": [
      "We added: Basketball\n",
      "We added: Board Games\n",
      "We added: Coding\n"
     ]
    },
    {
     "data": {
      "text/plain": [
       "'Now you have 15 days off available'"
      ]
     },
     "execution_count": 164,
     "metadata": {},
     "output_type": "execute_result"
    }
   ],
   "source": [
    "# Try it here!!\n",
    "\n",
    "bestteacherever=Staff(\"Gonzalo\", \"Quesada\")\n",
    "bestteacherever.hobbies_function(\"Basketball\", \"Board Games\", \"Coding\")\n",
    "bestteacherever.takes_days_off(5)"
   ]
  },
  {
   "cell_type": "code",
   "execution_count": 165,
   "metadata": {},
   "outputs": [
    {
     "name": "stdout",
     "output_type": "stream",
     "text": [
      "Name:Gonzalo Quesada\n",
      "Company: Ironhack\n",
      "Email: gonzalo.quesada@ironhack.com\n",
      "Time off available: 15\n",
      "Hobbies: ['Basketball', 'Board Games', 'Coding']\n"
     ]
    }
   ],
   "source": [
    "bestteacherever.info()"
   ]
  },
  {
   "cell_type": "markdown",
   "metadata": {},
   "source": [
    "### 1.3 Inheritance\n",
    "\n",
    "Now suppose the Marketing department works differently, but inside the organization. In other words, Staff will be the Parent Class and Marketing the Child. The differences are: \n",
    "\n",
    "- The mail must end with .mktg (for example, instead of laura.molas@ironhack.com it should be laura.molas.mktg@ironhack.com)\n",
    "- The total days they have of time_off is 30 (Lucky them...)\n",
    "- In addition, in the `introduce` method, they should salute the same as in Staff BUT adding that they are from the Marketing dpt. "
   ]
  },
  {
   "cell_type": "code",
   "execution_count": 207,
   "metadata": {},
   "outputs": [],
   "source": [
    "# Parent Class\n",
    "\n",
    "class Staff ():\n",
    "    company= \"Ironhack\"\n",
    "        \n",
    "    def __init__ (self, name, fname):\n",
    "        self.name = name.capitalize()\n",
    "        self.fname = fname\n",
    "        \n",
    "        # Default\n",
    "        self.time_off = 20\n",
    "        \n",
    "        #Default: as a result\n",
    "        self.email = self.name.lower() + \".\" + self.fname.lower() + \"@ironhack.com\"\n",
    "        \n",
    "        self.hobbies = []\n",
    "        \n",
    "    \n",
    "    def introduce (self):\n",
    "        return f\"Hello, my name is {self.name}!\"\n",
    "    \n",
    "    def takes_days_off (self, number):\n",
    "        if self.time_off-number >= 0:\n",
    "            self.time_off -= number\n",
    "            return f\"Now you have {self.time_off} days off available\"\n",
    "        else:\n",
    "            return f\"Sorry, you ran out of days. Your total time_off available is {self.time_off}\"\n",
    "    \n",
    "    def hobbies_function (self, *hob): #passing an optional argument\n",
    "        if hob:\n",
    "            for i in hob:\n",
    "                self.hobbies.append(i)\n",
    "                print(f\"We added: {self.hobbies[-1]}\")\n",
    "            return self.hobbies_function()\n",
    "        else:\n",
    "            new = \", \".join([i for i in self.hobbies])\n",
    "            return f\"My hobbies are: {new}\"\n",
    "    \n",
    "    def info (self):\n",
    "        print(f\"Name:{self.name} {self.fname}\")\n",
    "        print(f\"Company: {self.company}\")\n",
    "        print(f\"Email: {self.email}\")\n",
    "        print(f\"Time off available: {self.time_off}\")\n",
    "        print (f\"Hobbies: {self.hobbies}\")\n",
    "\n"
   ]
  },
  {
   "cell_type": "code",
   "execution_count": 219,
   "metadata": {},
   "outputs": [],
   "source": [
    "# Chill Class Mktg\n",
    "\n",
    "class Mktg (Staff):\n",
    "\n",
    "    def __init__ (self, name, fname):\n",
    "        super(). __init__(name, fname)\n",
    "        \n",
    "        # Default\n",
    "        self.department = \"mktg\"\n",
    "        self.time_off = 30\n",
    "        self.email = self.name.lower() + \".\" + self.fname.lower() + \".\" + self.department + \"@ironhack.com\"\n",
    "        \n",
    "    \n",
    "    def introduce (self):\n",
    "        self.department = \"mktg\"\n",
    "        return f\"Hello, my name is {self.name} and I am from the {self.department} department!\"\n",
    "    \n",
    "    def takes_days_off (self, number):\n",
    "        if self.time_off-number >= 0:\n",
    "            self.time_off -= number\n",
    "            return f\"Now you have {self.time_off} days off available\"\n",
    "        else:\n",
    "            return f\"Sorry, you ran out of days. Your total time_off available is {self.time_off}\"\n",
    "    \n",
    "    def hobbies_function (self, *hob):\n",
    "        if hob:\n",
    "            for i in hob:\n",
    "                self.hobbies.append(i)\n",
    "                print(f\"We added: {self.hobbies[-1]}\")\n",
    "            return self.hobbies_function()\n",
    "        else:\n",
    "            new = \", \".join([i for i in self.hobbies])\n",
    "            return f\"My hobbies are: {new}\"\n",
    "\n",
    "    def info (self):\n",
    "        print(f\"Name:{self.name} {self.fname}\")\n",
    "        print(f\"Company: {self.company}\")\n",
    "        print (f\"Department: {self.department}\")\n",
    "        print(f\"Email: {self.email}\")\n",
    "        print(f\"Time off available: {self.time_off}\")\n",
    "        print (f\"Hobbies: {self.hobbies}\")\n",
    "\n",
    "\n"
   ]
  },
  {
   "cell_type": "code",
   "execution_count": 220,
   "metadata": {},
   "outputs": [
    {
     "name": "stdout",
     "output_type": "stream",
     "text": [
      "We added: Photography\n",
      "We added: Animals\n"
     ]
    },
    {
     "data": {
      "text/plain": [
       "'Hello, my name is Laura and I am from the mktg department!'"
      ]
     },
     "execution_count": 220,
     "metadata": {},
     "output_type": "execute_result"
    }
   ],
   "source": [
    "#Try if your Class is well defined with this example: \n",
    "mktg=Mktg(\"Laura\", \"Molas\")\n",
    "mktg.hobbies_function(\"Photography\", \"Animals\")\n",
    "mktg.introduce()"
   ]
  },
  {
   "cell_type": "code",
   "execution_count": 221,
   "metadata": {},
   "outputs": [
    {
     "name": "stdout",
     "output_type": "stream",
     "text": [
      "Name:Laura Molas\n",
      "Company: Ironhack\n",
      "Department: mktg\n",
      "Email: laura.molas.mktg@ironhack.com\n",
      "Time off available: 30\n",
      "Hobbies: ['Photography', 'Animals']\n"
     ]
    }
   ],
   "source": [
    "mktg.info()"
   ]
  }
 ],
 "metadata": {
  "kernelspec": {
   "display_name": "local",
   "language": "python",
   "name": "python3"
  },
  "language_info": {
   "codemirror_mode": {
    "name": "ipython",
    "version": 3
   },
   "file_extension": ".py",
   "mimetype": "text/x-python",
   "name": "python",
   "nbconvert_exporter": "python",
   "pygments_lexer": "ipython3",
   "version": "3.11.7"
  }
 },
 "nbformat": 4,
 "nbformat_minor": 2
}
