{
 "cells": [
  {
   "cell_type": "markdown",
   "metadata": {},
   "source": [
    "# PSEUDOCODE\n",
    "\n",
    "(Please dont kill me)"
   ]
  },
  {
   "cell_type": "markdown",
   "metadata": {},
   "source": [
    "In this lab, you will work to find any solution(hopefully the easiest) to complete this exercises. \n",
    "\n",
    "The second 1 is a BONUS\n",
    "\n",
    "Any further question please ask me or Sandra"
   ]
  },
  {
   "cell_type": "markdown",
   "metadata": {},
   "source": [
    "## EXERCISE 1: RANDOM GUESS OF A NUMBER\n",
    "\n",
    "The user must give you the start and final number. Your code must be developed to select a random number between this 2. If your selection is too high/low you must give a hint to the user: The number is too high/low. Finally, when the user selects the correct number you must return a \"Congratulations etc\" and the number of guesses needed to find the number. \n",
    "\n",
    "IF YOU TRY IT AND YOU FIND THE NUMBER FIRST GUESS, PLEASE SEND A SCREENSHOT VIA SLACK `(MANDATORY)`"
   ]
  },
  {
   "cell_type": "code",
   "execution_count": null,
   "metadata": {},
   "outputs": [],
   "source": [
    "- Input\n",
    " - User inputs a start and ending number\n",
    "  - Range cannot be to big limit to 20 numbers\n",
    "\n",
    "- What other inputs do we need next\n",
    " - Need to generate a random number between the range given (random.choice | range)\n",
    " - Ask the user to input a number\n",
    "  - This number need to be inside the range\n",
    "  - It needs to be an integer\n",
    " - Need to create a variable that counts the number of tries\n",
    "  - Do we want a limit?\n",
    "\n",
    "- Behaviour expected\n",
    " - Check if the user number is equal the random chosen number\n",
    "  - If yes -> congratulations you have guess the number after x tries\n",
    "  - If not -> sorry, this is not the correct number. Try again\n",
    "   - Need user input again\n",
    " - After 4 tries -> game over\n",
    "\n",
    "\n",
    "- Output\n",
    " - Congratulation message when user guessed the number\n",
    " - Number of tries"
   ]
  },
  {
   "cell_type": "code",
   "execution_count": 71,
   "metadata": {},
   "outputs": [
    {
     "name": "stdout",
     "output_type": "stream",
     "text": [
      "You are going to guess a number from [10, 11, 12, 13, 14, 15, 16, 17, 18, 19, 20, 21, 22, 23, 24, 25, 26, 27, 28, 29, 30]\n",
      "You have guessed the number 20 after 1 tries\n"
     ]
    }
   ],
   "source": [
    "def number_guess():\n",
    "    import random\n",
    "\n",
    "    user_range = input(\"Enter the two values to define the range: \").split(\",\")\n",
    "    int_user_range = list(map(int, user_range))\n",
    "    guess_range = list(range(int_user_range[0], int_user_range[1] + 1))\n",
    "\n",
    "    while int_user_range[1] - int_user_range[0] > 50:\n",
    "        user_range = input(\"There cannot be a difference of 50 numbers between each other. Please select the range again: \").split(\",\")\n",
    "        int_user_range = list(map(int, user_range))\n",
    "        guess_range = list(range(int_user_range[0], int_user_range[1] + 1))\n",
    "\n",
    "    print(f\"You are going to guess a number from {guess_range}\")\n",
    "\n",
    "    chosen_num = random.choice(guess_range)\n",
    "    tries = 0\n",
    "\n",
    "    while True:\n",
    "        user_number = int(input(\"Enter a number between the selected range: \"))\n",
    "\n",
    "        if int_user_range[0] <= user_number <= int_user_range[1]:\n",
    "            tries += 1\n",
    "\n",
    "            if user_number == chosen_num:\n",
    "                return f\"You have guessed the number {chosen_num} after {tries} tries\"\n",
    "            else:\n",
    "                user_number = int(input(\"You have missed. Try again:\"))\n",
    "\n",
    "                if tries > 4:\n",
    "                    return \"You've reached the maximum number of tries. The correct number was {chosen_num}\"\n",
    "        else:\n",
    "            user_number = int(input(\"Try again, enter a number between the selected range: \"))\n",
    "\n",
    "\n",
    "result = number_guess()\n",
    "print(result)\n"
   ]
  },
  {
   "cell_type": "markdown",
   "metadata": {},
   "source": [
    "## EXERCISE 2 (OPTIONAL): LET'S DEVELOP R-P-S"
   ]
  },
  {
   "cell_type": "markdown",
   "metadata": {},
   "source": [
    "Let's develop the code used in class: The R-P-S (Example below)\n",
    "The main problem with this code is that whoever wins a round, wins the match: The user must select the number of rounds needed to win the match. Enjoy!"
   ]
  },
  {
   "cell_type": "code",
   "execution_count": null,
   "metadata": {},
   "outputs": [],
   "source": [
    "def rps(): \n",
    "    import random\n",
    "    opciones=[\"tijera\", \"piedra\", \"papel\"]\n",
    "    rounds = int (input (\"¿Cuántas rondas quieres jugar?\"))\n",
    "    user=input(\"Un dos tres, piedra papel tijera un dos tres YA: \").lower()\n",
    "    cpu=random.choice(opciones)\n",
    "\n",
    "    user_score = 0\n",
    "\n",
    "    while True:\n",
    "        if user in opciones: \n",
    "            break\n",
    "        else: \n",
    "            user=input(\"ESO NO VALE. Dime otra cosa: \")\n",
    "\n",
    "    print(f\"Tú has elegido {user} y la máquina ha elegido {cpu}\")\n",
    "\n",
    "    if (user==\"tijera\" and cpu==\"papel\") or (user==\"papel\" and cpu==\"piedra\") or (user==\"piedra\" and cpu==\"tijera\"):\n",
    "        print(\"Has ganado!!\")\n",
    "        \n",
    "        return \"Ganador\"\n",
    "    elif user==cpu:\n",
    "        print(\"Empate!\")\n",
    "        return \"Empate\"\n",
    "\n",
    "    else: \n",
    "        print(\"Has perdido!\")\n",
    "        return \"Perdedor\""
   ]
  },
  {
   "cell_type": "code",
   "execution_count": 103,
   "metadata": {},
   "outputs": [],
   "source": [
    "def rps(): \n",
    "    import random\n",
    "    opciones=[\"tijera\", \"piedra\", \"papel\"]\n",
    "    rounds_limit = int(input (\"¿Cuántas rondas quieres jugar?\"))\n",
    "    cpu=random.choice(opciones)\n",
    "\n",
    "    rounds_count = 0\n",
    "    user_score = 0\n",
    "    cpu_score = 0\n",
    "\n",
    "   \n",
    "    while rounds_count < rounds_limit:\n",
    "        \n",
    "        rounds_count +=1\n",
    "\n",
    "        user=input(\"Un dos tres, piedra papel tijera un dos tres YA: \").lower()\n",
    "        if user in opciones: \n",
    "            print(f\"Tú has elegido {user} y la máquina ha elegido {cpu}\")\n",
    "        else: \n",
    "            user=input(\"ESO NO VALE. Dime otra cosa: \")\n",
    "        \n",
    "        if (user==\"tijera\" and cpu==\"papel\") or (user==\"papel\" and cpu==\"piedra\") or (user==\"piedra\" and cpu==\"tijera\"):\n",
    "            user_score += 1\n",
    "            print (f\"Sumas un punto\")\n",
    "    \n",
    "        elif user==cpu:\n",
    "            user_score += 0\n",
    "            cpu_score += 0\n",
    "            print (f\"Empate\")\n",
    "        \n",
    "        else:\n",
    "            cpu_score += 1\n",
    "            print (f\"La máquina suma un punto\")\n",
    "\n",
    "    else: \n",
    "        print (f\"The game is over\")\n",
    "        \n",
    "        if user_score > cpu_score:\n",
    "            return f\"Enhorabuena has ganado la partida\"\n",
    "        \n",
    "        elif user_score == cpu_score:\n",
    "            return f\"Ha habido un empate\"\n",
    "        \n",
    "        else:\n",
    "            return f\"Has perdido la partida\""
   ]
  },
  {
   "cell_type": "code",
   "execution_count": 104,
   "metadata": {},
   "outputs": [
    {
     "name": "stdout",
     "output_type": "stream",
     "text": [
      "Tú has elegido piedra y la máquina ha elegido piedra\n",
      "Empate\n",
      "Tú has elegido tijera y la máquina ha elegido piedra\n",
      "La máquina suma un punto\n",
      "Tú has elegido tijera y la máquina ha elegido piedra\n",
      "La máquina suma un punto\n",
      "The game is over\n"
     ]
    },
    {
     "data": {
      "text/plain": [
       "'Has perdido la partida'"
      ]
     },
     "execution_count": 104,
     "metadata": {},
     "output_type": "execute_result"
    }
   ],
   "source": [
    "rps()"
   ]
  }
 ],
 "metadata": {
  "kernelspec": {
   "display_name": "toni2",
   "language": "python",
   "name": "python3"
  },
  "language_info": {
   "codemirror_mode": {
    "name": "ipython",
    "version": 3
   },
   "file_extension": ".py",
   "mimetype": "text/x-python",
   "name": "python",
   "nbconvert_exporter": "python",
   "pygments_lexer": "ipython3",
   "version": "3.11.7"
  }
 },
 "nbformat": 4,
 "nbformat_minor": 2
}
