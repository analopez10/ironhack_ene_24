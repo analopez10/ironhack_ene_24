{
 "cells": [
  {
   "cell_type": "markdown",
   "metadata": {},
   "source": [
    "# PANDAS LAB - Continuation of the EuroLeague Case Study\n",
    "## Let's compare the competitions!\n",
    "\n",
    "![](https://eurospects.com/wp-content/uploads/2018/10/eurocupeuroleague.png)\n",
    "\n",
    "First of all, we must \n",
    "\n",
    "- Import the actual.csv Dataset. This dataset will be the CSV of the result obtained in class.\n",
    "- Import ec23.xlsx. This dataset correspond to the import the dataset corresponding to Eurocup. Don't worry, this time the Excel will be cleaned (almost)\n",
    "\n",
    "<details>\n",
    "    <summary> Lab results </summary>\n",
    "\n",
    "![](https://media1.tenor.com/m/lx2WSGRk8bcAAAAC/pulp-fiction-john-travolta.gif)\n",
    "\n",
    "PERO QUÉ OS HABÉIS CREÍDO\n",
    "\n",
    "</details>"
   ]
  },
  {
   "cell_type": "code",
   "execution_count": null,
   "metadata": {},
   "outputs": [],
   "source": [
    "#pip install openpyxl\n",
    "# In case there is an error with this .xlsx document opening, install this library"
   ]
  },
  {
   "cell_type": "code",
   "execution_count": 1,
   "metadata": {},
   "outputs": [
    {
     "name": "stderr",
     "output_type": "stream",
     "text": [
      "/var/folders/2v/nsbsx6y90_9_6kks00t6shb80000gn/T/ipykernel_27206/2162656668.py:1: DeprecationWarning: \n",
      "Pyarrow will become a required dependency of pandas in the next major release of pandas (pandas 3.0),\n",
      "(to allow more performant data types, such as the Arrow string type, and better interoperability with other libraries)\n",
      "but was not found to be installed on your system.\n",
      "If this would cause problems for you,\n",
      "please provide us feedback at https://github.com/pandas-dev/pandas/issues/54466\n",
      "        \n",
      "  import pandas as pd\n"
     ]
    }
   ],
   "source": [
    "import pandas as pd\n",
    "import numpy as np"
   ]
  },
  {
   "cell_type": "code",
   "execution_count": 39,
   "metadata": {},
   "outputs": [],
   "source": [
    "elteams=pd.read_csv(\"datasets/actual.csv\")\n",
    "ecteams=pd.read_excel(\"datasets/ec2023.xlsx\", index_col=False)"
   ]
  },
  {
   "cell_type": "markdown",
   "metadata": {},
   "source": [
    "Let's analyze the EuroCup Dataframe! Is there any cleaning needed? Remember the basics: \n",
    "- Drop Null Values\n",
    "- Drop Duplicate Rows\n",
    "- Drop Strange Columns if you see any"
   ]
  },
  {
   "cell_type": "code",
   "execution_count": 40,
   "metadata": {},
   "outputs": [
    {
     "data": {
      "text/plain": [
       "(173, 10)"
      ]
     },
     "execution_count": 40,
     "metadata": {},
     "output_type": "execute_result"
    }
   ],
   "source": [
    "# Your Code here: \n",
    "\n",
    "ecteams.shape\n"
   ]
  },
  {
   "cell_type": "code",
   "execution_count": 41,
   "metadata": {},
   "outputs": [
    {
     "data": {
      "text/html": [
       "<div>\n",
       "<style scoped>\n",
       "    .dataframe tbody tr th:only-of-type {\n",
       "        vertical-align: middle;\n",
       "    }\n",
       "\n",
       "    .dataframe tbody tr th {\n",
       "        vertical-align: top;\n",
       "    }\n",
       "\n",
       "    .dataframe thead th {\n",
       "        text-align: right;\n",
       "    }\n",
       "</style>\n",
       "<table border=\"1\" class=\"dataframe\">\n",
       "  <thead>\n",
       "    <tr style=\"text-align: right;\">\n",
       "      <th></th>\n",
       "      <th>Unnamed: 0</th>\n",
       "      <th>fecha</th>\n",
       "      <th>ronda</th>\n",
       "      <th>local</th>\n",
       "      <th>visitante</th>\n",
       "      <th>localscore</th>\n",
       "      <th>roadscore</th>\n",
       "      <th>Winner</th>\n",
       "      <th>Ganador</th>\n",
       "      <th>plusminus</th>\n",
       "    </tr>\n",
       "  </thead>\n",
       "  <tbody>\n",
       "    <tr>\n",
       "      <th>0</th>\n",
       "      <td>0</td>\n",
       "      <td>2024-01-31T21:00:00</td>\n",
       "      <td>17</td>\n",
       "      <td>Dreamland Gran Canaria</td>\n",
       "      <td>U-BT Cluj-Napoca</td>\n",
       "      <td>111</td>\n",
       "      <td>113.0</td>\n",
       "      <td>Visitante</td>\n",
       "      <td>113.0</td>\n",
       "      <td>-2.0</td>\n",
       "    </tr>\n",
       "    <tr>\n",
       "      <th>1</th>\n",
       "      <td>1</td>\n",
       "      <td>2024-01-31T20:00:00</td>\n",
       "      <td>17</td>\n",
       "      <td>Dolomiti Energia Trento</td>\n",
       "      <td>Buducnost VOLI Podgorica</td>\n",
       "      <td>78</td>\n",
       "      <td>97.0</td>\n",
       "      <td>Visitante</td>\n",
       "      <td>97.0</td>\n",
       "      <td>-19.0</td>\n",
       "    </tr>\n",
       "    <tr>\n",
       "      <th>2</th>\n",
       "      <td>2</td>\n",
       "      <td>2024-01-31T19:30:00</td>\n",
       "      <td>17</td>\n",
       "      <td>ratiopharm Ulm</td>\n",
       "      <td>Aris Midea Thessaloniki</td>\n",
       "      <td>66</td>\n",
       "      <td>86.0</td>\n",
       "      <td>Visitante</td>\n",
       "      <td>86.0</td>\n",
       "      <td>-20.0</td>\n",
       "    </tr>\n",
       "    <tr>\n",
       "      <th>3</th>\n",
       "      <td>3</td>\n",
       "      <td>2024-01-31T18:30:00</td>\n",
       "      <td>17</td>\n",
       "      <td>Cedevita Olimpija Ljubljana</td>\n",
       "      <td>London Lions</td>\n",
       "      <td>85</td>\n",
       "      <td>92.0</td>\n",
       "      <td>Visitante</td>\n",
       "      <td>92.0</td>\n",
       "      <td>-7.0</td>\n",
       "    </tr>\n",
       "    <tr>\n",
       "      <th>4</th>\n",
       "      <td>4</td>\n",
       "      <td>2024-01-31T18:00:00</td>\n",
       "      <td>17</td>\n",
       "      <td>Turk Telekom Ankara</td>\n",
       "      <td>Mincidelice JL Bourg en Bresse</td>\n",
       "      <td>64</td>\n",
       "      <td>68.0</td>\n",
       "      <td>Visitante</td>\n",
       "      <td>68.0</td>\n",
       "      <td>-4.0</td>\n",
       "    </tr>\n",
       "  </tbody>\n",
       "</table>\n",
       "</div>"
      ],
      "text/plain": [
       "   Unnamed: 0                fecha  ronda                        local  \\\n",
       "0           0  2024-01-31T21:00:00     17       Dreamland Gran Canaria   \n",
       "1           1  2024-01-31T20:00:00     17      Dolomiti Energia Trento   \n",
       "2           2  2024-01-31T19:30:00     17               ratiopharm Ulm   \n",
       "3           3  2024-01-31T18:30:00     17  Cedevita Olimpija Ljubljana   \n",
       "4           4  2024-01-31T18:00:00     17          Turk Telekom Ankara   \n",
       "\n",
       "                        visitante  localscore  roadscore     Winner  Ganador  \\\n",
       "0                U-BT Cluj-Napoca         111      113.0  Visitante    113.0   \n",
       "1        Buducnost VOLI Podgorica          78       97.0  Visitante     97.0   \n",
       "2         Aris Midea Thessaloniki          66       86.0  Visitante     86.0   \n",
       "3                    London Lions          85       92.0  Visitante     92.0   \n",
       "4  Mincidelice JL Bourg en Bresse          64       68.0  Visitante     68.0   \n",
       "\n",
       "   plusminus  \n",
       "0       -2.0  \n",
       "1      -19.0  \n",
       "2      -20.0  \n",
       "3       -7.0  \n",
       "4       -4.0  "
      ]
     },
     "execution_count": 41,
     "metadata": {},
     "output_type": "execute_result"
    }
   ],
   "source": [
    "ecteams.head()"
   ]
  },
  {
   "cell_type": "code",
   "execution_count": 42,
   "metadata": {},
   "outputs": [
    {
     "data": {
      "text/html": [
       "<div>\n",
       "<style scoped>\n",
       "    .dataframe tbody tr th:only-of-type {\n",
       "        vertical-align: middle;\n",
       "    }\n",
       "\n",
       "    .dataframe tbody tr th {\n",
       "        vertical-align: top;\n",
       "    }\n",
       "\n",
       "    .dataframe thead th {\n",
       "        text-align: right;\n",
       "    }\n",
       "</style>\n",
       "<table border=\"1\" class=\"dataframe\">\n",
       "  <thead>\n",
       "    <tr style=\"text-align: right;\">\n",
       "      <th></th>\n",
       "      <th>fecha</th>\n",
       "      <th>ronda</th>\n",
       "      <th>local</th>\n",
       "      <th>visitante</th>\n",
       "      <th>localscore</th>\n",
       "      <th>roadscore</th>\n",
       "      <th>Winner</th>\n",
       "      <th>Ganador</th>\n",
       "      <th>plusminus</th>\n",
       "    </tr>\n",
       "  </thead>\n",
       "  <tbody>\n",
       "    <tr>\n",
       "      <th>28</th>\n",
       "      <td>2024-01-17T18:00:00</td>\n",
       "      <td>15</td>\n",
       "      <td>Prometey Slobozhanske</td>\n",
       "      <td>Wolves Vilnius</td>\n",
       "      <td>91</td>\n",
       "      <td>64.0</td>\n",
       "      <td>Local</td>\n",
       "      <td>91.0</td>\n",
       "      <td>27.0</td>\n",
       "    </tr>\n",
       "    <tr>\n",
       "      <th>100</th>\n",
       "      <td>2023-11-21T19:30:00</td>\n",
       "      <td>8</td>\n",
       "      <td>Veolia Towers Hamburg</td>\n",
       "      <td>Wolves Vilnius</td>\n",
       "      <td>71</td>\n",
       "      <td>84.0</td>\n",
       "      <td>Visitante</td>\n",
       "      <td>84.0</td>\n",
       "      <td>-13.0</td>\n",
       "    </tr>\n",
       "  </tbody>\n",
       "</table>\n",
       "</div>"
      ],
      "text/plain": [
       "                   fecha  ronda                  local       visitante  \\\n",
       "28   2024-01-17T18:00:00     15  Prometey Slobozhanske  Wolves Vilnius   \n",
       "100  2023-11-21T19:30:00      8  Veolia Towers Hamburg  Wolves Vilnius   \n",
       "\n",
       "     localscore  roadscore     Winner  Ganador  plusminus  \n",
       "28           91       64.0      Local     91.0       27.0  \n",
       "100          71       84.0  Visitante     84.0      -13.0  "
      ]
     },
     "execution_count": 42,
     "metadata": {},
     "output_type": "execute_result"
    }
   ],
   "source": [
    "ecteams.drop(columns='Unnamed: 0', inplace = True) #Lets remove the not needed columns\n",
    "ecteams.sample(2)"
   ]
  },
  {
   "cell_type": "code",
   "execution_count": 43,
   "metadata": {},
   "outputs": [
    {
     "data": {
      "text/plain": [
       "fecha         0\n",
       "ronda         0\n",
       "local         0\n",
       "visitante     0\n",
       "localscore    0\n",
       "roadscore     1\n",
       "Winner        0\n",
       "Ganador       1\n",
       "plusminus     1\n",
       "dtype: int64"
      ]
     },
     "execution_count": 43,
     "metadata": {},
     "output_type": "execute_result"
    }
   ],
   "source": [
    "ecteams.isnull().sum() # Check if there are any null values"
   ]
  },
  {
   "cell_type": "code",
   "execution_count": 44,
   "metadata": {},
   "outputs": [
    {
     "data": {
      "text/html": [
       "<div>\n",
       "<style scoped>\n",
       "    .dataframe tbody tr th:only-of-type {\n",
       "        vertical-align: middle;\n",
       "    }\n",
       "\n",
       "    .dataframe tbody tr th {\n",
       "        vertical-align: top;\n",
       "    }\n",
       "\n",
       "    .dataframe thead th {\n",
       "        text-align: right;\n",
       "    }\n",
       "</style>\n",
       "<table border=\"1\" class=\"dataframe\">\n",
       "  <thead>\n",
       "    <tr style=\"text-align: right;\">\n",
       "      <th></th>\n",
       "      <th>fecha</th>\n",
       "      <th>ronda</th>\n",
       "      <th>local</th>\n",
       "      <th>visitante</th>\n",
       "      <th>localscore</th>\n",
       "      <th>roadscore</th>\n",
       "      <th>Winner</th>\n",
       "      <th>Ganador</th>\n",
       "      <th>plusminus</th>\n",
       "    </tr>\n",
       "  </thead>\n",
       "  <tbody>\n",
       "    <tr>\n",
       "      <th>142</th>\n",
       "      <td>2023-10-24T19:30:00</td>\n",
       "      <td>4</td>\n",
       "      <td>Veolia Towers Hamburg</td>\n",
       "      <td>Hapoel Shlomo Tel Aviv</td>\n",
       "      <td>72</td>\n",
       "      <td>NaN</td>\n",
       "      <td>Visitante</td>\n",
       "      <td>NaN</td>\n",
       "      <td>NaN</td>\n",
       "    </tr>\n",
       "  </tbody>\n",
       "</table>\n",
       "</div>"
      ],
      "text/plain": [
       "                   fecha  ronda                  local  \\\n",
       "142  2023-10-24T19:30:00      4  Veolia Towers Hamburg   \n",
       "\n",
       "                  visitante  localscore  roadscore     Winner  Ganador  \\\n",
       "142  Hapoel Shlomo Tel Aviv          72        NaN  Visitante      NaN   \n",
       "\n",
       "     plusminus  \n",
       "142        NaN  "
      ]
     },
     "execution_count": 44,
     "metadata": {},
     "output_type": "execute_result"
    }
   ],
   "source": [
    "ecteams[ecteams.isnull().any(axis=1)] #Lets see which game has null values"
   ]
  },
  {
   "cell_type": "code",
   "execution_count": 48,
   "metadata": {},
   "outputs": [],
   "source": [
    "ecteams.dropna(inplace=True) #We remove the row"
   ]
  },
  {
   "cell_type": "code",
   "execution_count": 49,
   "metadata": {},
   "outputs": [
    {
     "data": {
      "text/plain": [
       "fecha         0\n",
       "ronda         0\n",
       "local         0\n",
       "visitante     0\n",
       "localscore    0\n",
       "roadscore     0\n",
       "Winner        0\n",
       "Ganador       0\n",
       "plusminus     0\n",
       "dtype: int64"
      ]
     },
     "execution_count": 49,
     "metadata": {},
     "output_type": "execute_result"
    }
   ],
   "source": [
    "ecteams.isnull().sum() # Check to verify we have a clean data of nulls"
   ]
  },
  {
   "cell_type": "code",
   "execution_count": 52,
   "metadata": {},
   "outputs": [
    {
     "data": {
      "text/plain": [
       "2"
      ]
     },
     "execution_count": 52,
     "metadata": {},
     "output_type": "execute_result"
    }
   ],
   "source": [
    "ecteams.duplicated().sum() # We have two duplicated"
   ]
  },
  {
   "cell_type": "code",
   "execution_count": 51,
   "metadata": {},
   "outputs": [
    {
     "data": {
      "text/html": [
       "<div>\n",
       "<style scoped>\n",
       "    .dataframe tbody tr th:only-of-type {\n",
       "        vertical-align: middle;\n",
       "    }\n",
       "\n",
       "    .dataframe tbody tr th {\n",
       "        vertical-align: top;\n",
       "    }\n",
       "\n",
       "    .dataframe thead th {\n",
       "        text-align: right;\n",
       "    }\n",
       "</style>\n",
       "<table border=\"1\" class=\"dataframe\">\n",
       "  <thead>\n",
       "    <tr style=\"text-align: right;\">\n",
       "      <th></th>\n",
       "      <th>fecha</th>\n",
       "      <th>ronda</th>\n",
       "      <th>local</th>\n",
       "      <th>visitante</th>\n",
       "      <th>localscore</th>\n",
       "      <th>roadscore</th>\n",
       "      <th>Winner</th>\n",
       "      <th>Ganador</th>\n",
       "      <th>plusminus</th>\n",
       "    </tr>\n",
       "  </thead>\n",
       "  <tbody>\n",
       "    <tr>\n",
       "      <th>80</th>\n",
       "      <td>2023-12-05T19:30:00</td>\n",
       "      <td>10</td>\n",
       "      <td>Veolia Towers Hamburg</td>\n",
       "      <td>Prometey Slobozhanske</td>\n",
       "      <td>83</td>\n",
       "      <td>97.0</td>\n",
       "      <td>Visitante</td>\n",
       "      <td>97.0</td>\n",
       "      <td>-14.0</td>\n",
       "    </tr>\n",
       "    <tr>\n",
       "      <th>99</th>\n",
       "      <td>2023-11-21T19:30:00</td>\n",
       "      <td>8</td>\n",
       "      <td>Mincidelice JL Bourg en Bresse</td>\n",
       "      <td>Turk Telekom Ankara</td>\n",
       "      <td>86</td>\n",
       "      <td>67.0</td>\n",
       "      <td>Local</td>\n",
       "      <td>86.0</td>\n",
       "      <td>19.0</td>\n",
       "    </tr>\n",
       "  </tbody>\n",
       "</table>\n",
       "</div>"
      ],
      "text/plain": [
       "                  fecha  ronda                           local  \\\n",
       "80  2023-12-05T19:30:00     10           Veolia Towers Hamburg   \n",
       "99  2023-11-21T19:30:00      8  Mincidelice JL Bourg en Bresse   \n",
       "\n",
       "                visitante  localscore  roadscore     Winner  Ganador  \\\n",
       "80  Prometey Slobozhanske          83       97.0  Visitante     97.0   \n",
       "99    Turk Telekom Ankara          86       67.0      Local     86.0   \n",
       "\n",
       "    plusminus  \n",
       "80      -14.0  \n",
       "99       19.0  "
      ]
     },
     "execution_count": 51,
     "metadata": {},
     "output_type": "execute_result"
    }
   ],
   "source": [
    "ecteams[ecteams.duplicated()]"
   ]
  },
  {
   "cell_type": "code",
   "execution_count": 55,
   "metadata": {},
   "outputs": [
    {
     "data": {
      "text/plain": [
       "0"
      ]
     },
     "execution_count": 55,
     "metadata": {},
     "output_type": "execute_result"
    }
   ],
   "source": [
    "ecteams.drop_duplicates(inplace=True) # Remove and check\n",
    "ecteams.duplicated().sum()"
   ]
  },
  {
   "cell_type": "markdown",
   "metadata": {},
   "source": [
    "Let's now compare it with the EL dataset that we have: You might select a sample of both of them and see what are the inconsistencies!"
   ]
  },
  {
   "cell_type": "code",
   "execution_count": 56,
   "metadata": {},
   "outputs": [
    {
     "data": {
      "text/html": [
       "<div>\n",
       "<style scoped>\n",
       "    .dataframe tbody tr th:only-of-type {\n",
       "        vertical-align: middle;\n",
       "    }\n",
       "\n",
       "    .dataframe tbody tr th {\n",
       "        vertical-align: top;\n",
       "    }\n",
       "\n",
       "    .dataframe thead th {\n",
       "        text-align: right;\n",
       "    }\n",
       "</style>\n",
       "<table border=\"1\" class=\"dataframe\">\n",
       "  <thead>\n",
       "    <tr style=\"text-align: right;\">\n",
       "      <th></th>\n",
       "      <th>fecha</th>\n",
       "      <th>ronda</th>\n",
       "      <th>local</th>\n",
       "      <th>visitante</th>\n",
       "      <th>localscore</th>\n",
       "      <th>roadscore</th>\n",
       "      <th>Winner</th>\n",
       "      <th>Ganador</th>\n",
       "      <th>plusminus</th>\n",
       "    </tr>\n",
       "  </thead>\n",
       "  <tbody>\n",
       "    <tr>\n",
       "      <th>102</th>\n",
       "      <td>2023-11-21T18:00:00</td>\n",
       "      <td>8</td>\n",
       "      <td>U-BT Cluj-Napoca</td>\n",
       "      <td>Dreamland Gran Canaria</td>\n",
       "      <td>70</td>\n",
       "      <td>92.0</td>\n",
       "      <td>Visitante</td>\n",
       "      <td>92.0</td>\n",
       "      <td>-22.0</td>\n",
       "    </tr>\n",
       "    <tr>\n",
       "      <th>29</th>\n",
       "      <td>2024-01-16T20:00:00</td>\n",
       "      <td>15</td>\n",
       "      <td>Dolomiti Energia Trento</td>\n",
       "      <td>Slask Wroclaw</td>\n",
       "      <td>85</td>\n",
       "      <td>79.0</td>\n",
       "      <td>Local</td>\n",
       "      <td>85.0</td>\n",
       "      <td>6.0</td>\n",
       "    </tr>\n",
       "    <tr>\n",
       "      <th>159</th>\n",
       "      <td>2023-10-10T20:00:00</td>\n",
       "      <td>2</td>\n",
       "      <td>Dolomiti Energia Trento</td>\n",
       "      <td>Mincidelice JL Bourg en Bresse</td>\n",
       "      <td>72</td>\n",
       "      <td>79.0</td>\n",
       "      <td>Visitante</td>\n",
       "      <td>79.0</td>\n",
       "      <td>-7.0</td>\n",
       "    </tr>\n",
       "    <tr>\n",
       "      <th>20</th>\n",
       "      <td>2024-01-17T21:00:00</td>\n",
       "      <td>15</td>\n",
       "      <td>Dreamland Gran Canaria</td>\n",
       "      <td>Turk Telekom Ankara</td>\n",
       "      <td>73</td>\n",
       "      <td>83.0</td>\n",
       "      <td>Visitante</td>\n",
       "      <td>83.0</td>\n",
       "      <td>-10.0</td>\n",
       "    </tr>\n",
       "    <tr>\n",
       "      <th>7</th>\n",
       "      <td>2024-01-30T18:00:00</td>\n",
       "      <td>17</td>\n",
       "      <td>7bet-Lietkabelis Panevezys</td>\n",
       "      <td>Slask Wroclaw</td>\n",
       "      <td>91</td>\n",
       "      <td>75.0</td>\n",
       "      <td>Local</td>\n",
       "      <td>91.0</td>\n",
       "      <td>16.0</td>\n",
       "    </tr>\n",
       "  </tbody>\n",
       "</table>\n",
       "</div>"
      ],
      "text/plain": [
       "                   fecha  ronda                       local  \\\n",
       "102  2023-11-21T18:00:00      8            U-BT Cluj-Napoca   \n",
       "29   2024-01-16T20:00:00     15     Dolomiti Energia Trento   \n",
       "159  2023-10-10T20:00:00      2     Dolomiti Energia Trento   \n",
       "20   2024-01-17T21:00:00     15      Dreamland Gran Canaria   \n",
       "7    2024-01-30T18:00:00     17  7bet-Lietkabelis Panevezys   \n",
       "\n",
       "                          visitante  localscore  roadscore     Winner  \\\n",
       "102          Dreamland Gran Canaria          70       92.0  Visitante   \n",
       "29                    Slask Wroclaw          85       79.0      Local   \n",
       "159  Mincidelice JL Bourg en Bresse          72       79.0  Visitante   \n",
       "20              Turk Telekom Ankara          73       83.0  Visitante   \n",
       "7                     Slask Wroclaw          91       75.0      Local   \n",
       "\n",
       "     Ganador  plusminus  \n",
       "102     92.0      -22.0  \n",
       "29      85.0        6.0  \n",
       "159     79.0       -7.0  \n",
       "20      83.0      -10.0  \n",
       "7       91.0       16.0  "
      ]
     },
     "execution_count": 56,
     "metadata": {},
     "output_type": "execute_result"
    }
   ],
   "source": [
    "#Your sample ecteams code here: \n",
    "ecteams.sample (5)"
   ]
  },
  {
   "cell_type": "code",
   "execution_count": 58,
   "metadata": {},
   "outputs": [
    {
     "data": {
      "text/plain": [
       "(170, 9)"
      ]
     },
     "execution_count": 58,
     "metadata": {},
     "output_type": "execute_result"
    }
   ],
   "source": [
    "ecteams.shape"
   ]
  },
  {
   "cell_type": "code",
   "execution_count": 57,
   "metadata": {},
   "outputs": [
    {
     "data": {
      "text/html": [
       "<div>\n",
       "<style scoped>\n",
       "    .dataframe tbody tr th:only-of-type {\n",
       "        vertical-align: middle;\n",
       "    }\n",
       "\n",
       "    .dataframe tbody tr th {\n",
       "        vertical-align: top;\n",
       "    }\n",
       "\n",
       "    .dataframe thead th {\n",
       "        text-align: right;\n",
       "    }\n",
       "</style>\n",
       "<table border=\"1\" class=\"dataframe\">\n",
       "  <thead>\n",
       "    <tr style=\"text-align: right;\">\n",
       "      <th></th>\n",
       "      <th>Competition</th>\n",
       "      <th>Phase</th>\n",
       "      <th>Ronda</th>\n",
       "      <th>Dia</th>\n",
       "      <th>Hora</th>\n",
       "      <th>Local</th>\n",
       "      <th>Visitante</th>\n",
       "      <th>Localscore</th>\n",
       "      <th>Roadscore</th>\n",
       "      <th>Arbitros</th>\n",
       "      <th>Plusminus</th>\n",
       "      <th>Winner</th>\n",
       "      <th>Ganador</th>\n",
       "    </tr>\n",
       "  </thead>\n",
       "  <tbody>\n",
       "    <tr>\n",
       "      <th>63</th>\n",
       "      <td>Euroleague</td>\n",
       "      <td>Regular Season</td>\n",
       "      <td>8</td>\n",
       "      <td>2023-11-14</td>\n",
       "      <td>19:00:00</td>\n",
       "      <td>AS Monaco</td>\n",
       "      <td>Anadolu Efes Istanbul</td>\n",
       "      <td>82</td>\n",
       "      <td>89</td>\n",
       "      <td>['PUKL,SASA', 'KARDUM, LUKA', 'UDYANSKYY, EDUA...</td>\n",
       "      <td>-7</td>\n",
       "      <td>Anadolu Efes Istanbul</td>\n",
       "      <td>Visitante</td>\n",
       "    </tr>\n",
       "    <tr>\n",
       "      <th>189</th>\n",
       "      <td>Euroleague</td>\n",
       "      <td>Regular Season</td>\n",
       "      <td>22</td>\n",
       "      <td>2024-01-18</td>\n",
       "      <td>18:30:00</td>\n",
       "      <td>Anadolu Efes Istanbul</td>\n",
       "      <td>FC Barcelona</td>\n",
       "      <td>98</td>\n",
       "      <td>74</td>\n",
       "      <td>['HORDOV, TOMISLAV ', 'FOUFIS, IOANNIS', 'TSAR...</td>\n",
       "      <td>24</td>\n",
       "      <td>Anadolu Efes Istanbul</td>\n",
       "      <td>Local</td>\n",
       "    </tr>\n",
       "    <tr>\n",
       "      <th>223</th>\n",
       "      <td>Euroleague</td>\n",
       "      <td>Regular Season</td>\n",
       "      <td>25</td>\n",
       "      <td>2024-02-02</td>\n",
       "      <td>20:30:00</td>\n",
       "      <td>Virtus Segafredo Bologna</td>\n",
       "      <td>Partizan Mozzart Bet Belgrade</td>\n",
       "      <td>88</td>\n",
       "      <td>84</td>\n",
       "      <td>['LOTTERMOSER, ROBERT', 'PUKL,SASA', 'TRAWICKI...</td>\n",
       "      <td>4</td>\n",
       "      <td>Virtus Segafredo Bologna</td>\n",
       "      <td>Local</td>\n",
       "    </tr>\n",
       "    <tr>\n",
       "      <th>203</th>\n",
       "      <td>Euroleague</td>\n",
       "      <td>Regular Season</td>\n",
       "      <td>23</td>\n",
       "      <td>2024-01-26</td>\n",
       "      <td>18:30:00</td>\n",
       "      <td>Anadolu Efes Istanbul</td>\n",
       "      <td>AS Monaco</td>\n",
       "      <td>78</td>\n",
       "      <td>80</td>\n",
       "      <td>['GARCIA, JUAN CARLOS', 'ROCHA, FERNANDO', 'VA...</td>\n",
       "      <td>-2</td>\n",
       "      <td>AS Monaco</td>\n",
       "      <td>Visitante</td>\n",
       "    </tr>\n",
       "    <tr>\n",
       "      <th>66</th>\n",
       "      <td>Euroleague</td>\n",
       "      <td>Regular Season</td>\n",
       "      <td>8</td>\n",
       "      <td>2023-11-14</td>\n",
       "      <td>20:30:00</td>\n",
       "      <td>Valencia Basket</td>\n",
       "      <td>Real Madrid</td>\n",
       "      <td>73</td>\n",
       "      <td>76</td>\n",
       "      <td>['RADOVIC, SRETEN', 'LAURINAVICIUS, JURGIS', '...</td>\n",
       "      <td>-3</td>\n",
       "      <td>Real Madrid</td>\n",
       "      <td>Visitante</td>\n",
       "    </tr>\n",
       "  </tbody>\n",
       "</table>\n",
       "</div>"
      ],
      "text/plain": [
       "    Competition           Phase  Ronda         Dia      Hora  \\\n",
       "63   Euroleague  Regular Season      8  2023-11-14  19:00:00   \n",
       "189  Euroleague  Regular Season     22  2024-01-18  18:30:00   \n",
       "223  Euroleague  Regular Season     25  2024-02-02  20:30:00   \n",
       "203  Euroleague  Regular Season     23  2024-01-26  18:30:00   \n",
       "66   Euroleague  Regular Season      8  2023-11-14  20:30:00   \n",
       "\n",
       "                        Local                      Visitante  Localscore  \\\n",
       "63                  AS Monaco          Anadolu Efes Istanbul          82   \n",
       "189     Anadolu Efes Istanbul                   FC Barcelona          98   \n",
       "223  Virtus Segafredo Bologna  Partizan Mozzart Bet Belgrade          88   \n",
       "203     Anadolu Efes Istanbul                      AS Monaco          78   \n",
       "66            Valencia Basket                    Real Madrid          73   \n",
       "\n",
       "     Roadscore                                           Arbitros  Plusminus  \\\n",
       "63          89  ['PUKL,SASA', 'KARDUM, LUKA', 'UDYANSKYY, EDUA...         -7   \n",
       "189         74  ['HORDOV, TOMISLAV ', 'FOUFIS, IOANNIS', 'TSAR...         24   \n",
       "223         84  ['LOTTERMOSER, ROBERT', 'PUKL,SASA', 'TRAWICKI...          4   \n",
       "203         80  ['GARCIA, JUAN CARLOS', 'ROCHA, FERNANDO', 'VA...         -2   \n",
       "66          76  ['RADOVIC, SRETEN', 'LAURINAVICIUS, JURGIS', '...         -3   \n",
       "\n",
       "                       Winner    Ganador  \n",
       "63      Anadolu Efes Istanbul  Visitante  \n",
       "189     Anadolu Efes Istanbul      Local  \n",
       "223  Virtus Segafredo Bologna      Local  \n",
       "203                 AS Monaco  Visitante  \n",
       "66                Real Madrid  Visitante  "
      ]
     },
     "execution_count": 57,
     "metadata": {},
     "output_type": "execute_result"
    }
   ],
   "source": [
    "#Your sample elteams code here: \n",
    "elteams.sample(5)"
   ]
  },
  {
   "cell_type": "code",
   "execution_count": 59,
   "metadata": {},
   "outputs": [
    {
     "data": {
      "text/plain": [
       "(225, 13)"
      ]
     },
     "execution_count": 59,
     "metadata": {},
     "output_type": "execute_result"
    }
   ],
   "source": [
    "elteams.shape"
   ]
  },
  {
   "cell_type": "markdown",
   "metadata": {},
   "source": [
    "What are the inconsistencies that you are seeing? Write them down!\n",
    "\n",
    "- Table sizes are different (9 columns vs 13 columns)\n",
    " - Fecha is divided in two (elteams) (different data type)\n",
    " - Competition, Arbitros and Phase are not in (enteams)\n",
    "- Column names are different (upper case vs lower case)\n",
    "- Columns have a different order\n",
    "- elteams have 225 rows vs 170 rows in enteams\n",
    "- Winner is showing different things\n",
    "\n",
    "\n",
    "<details>\n",
    "    <summary> Expand the box to see the inconsistencies </summary>\n",
    "\n",
    "- The columns are named in lowercase and the columns in Euroleague are capitalized\n",
    "- There are some missing columns (f.e. Arbitros)\n",
    "- Fecha is not split in Dia and Hora\n",
    "- `Winner and Ganador Columns show different data` are not the same! Be extremely careful about it\n",
    "\n",
    "</details>"
   ]
  },
  {
   "cell_type": "markdown",
   "metadata": {},
   "source": [
    "As you can see there are a lot of different inconsistencies right? \n",
    "But beofore starting cleaning like crazy people, let's take a second to know what do we want to compare: \n",
    "\n",
    "- The CLUBS are impossible to compare, as different competitions defines different clubs\n",
    "- Both rounds (Eurocup has less rounds) and Dates (Different Dates) are also not really useful\n",
    "- We don't have information about Arbitros\n",
    "\n",
    "## Conclusion\n",
    "\n",
    "### We must take into consideration what data we DO have in both dataframes to compare it propperly and don't use time cleaning unnecessary things. \n",
    "\n",
    "In this particular case, we will need to compare: \n"
   ]
  },
  {
   "cell_type": "markdown",
   "metadata": {},
   "source": [
    "`Competition`: The main column that define one from another. \n",
    "\n",
    "Create the Competition column in the EuroCup dataframe, being the fixed value \"Eurocup\""
   ]
  },
  {
   "cell_type": "code",
   "execution_count": 61,
   "metadata": {},
   "outputs": [
    {
     "data": {
      "text/html": [
       "<div>\n",
       "<style scoped>\n",
       "    .dataframe tbody tr th:only-of-type {\n",
       "        vertical-align: middle;\n",
       "    }\n",
       "\n",
       "    .dataframe tbody tr th {\n",
       "        vertical-align: top;\n",
       "    }\n",
       "\n",
       "    .dataframe thead th {\n",
       "        text-align: right;\n",
       "    }\n",
       "</style>\n",
       "<table border=\"1\" class=\"dataframe\">\n",
       "  <thead>\n",
       "    <tr style=\"text-align: right;\">\n",
       "      <th></th>\n",
       "      <th>fecha</th>\n",
       "      <th>ronda</th>\n",
       "      <th>local</th>\n",
       "      <th>visitante</th>\n",
       "      <th>localscore</th>\n",
       "      <th>roadscore</th>\n",
       "      <th>Winner</th>\n",
       "      <th>Ganador</th>\n",
       "      <th>plusminus</th>\n",
       "      <th>Competition</th>\n",
       "    </tr>\n",
       "  </thead>\n",
       "  <tbody>\n",
       "    <tr>\n",
       "      <th>130</th>\n",
       "      <td>2023-10-31T20:30:00</td>\n",
       "      <td>5</td>\n",
       "      <td>Joventut Badalona</td>\n",
       "      <td>Veolia Towers Hamburg</td>\n",
       "      <td>108</td>\n",
       "      <td>76.0</td>\n",
       "      <td>Local</td>\n",
       "      <td>108.0</td>\n",
       "      <td>32.0</td>\n",
       "      <td>Eurocup</td>\n",
       "    </tr>\n",
       "    <tr>\n",
       "      <th>22</th>\n",
       "      <td>2024-01-17T19:30:00</td>\n",
       "      <td>15</td>\n",
       "      <td>ratiopharm Ulm</td>\n",
       "      <td>U-BT Cluj-Napoca</td>\n",
       "      <td>81</td>\n",
       "      <td>85.0</td>\n",
       "      <td>Visitante</td>\n",
       "      <td>85.0</td>\n",
       "      <td>-4.0</td>\n",
       "      <td>Eurocup</td>\n",
       "    </tr>\n",
       "  </tbody>\n",
       "</table>\n",
       "</div>"
      ],
      "text/plain": [
       "                   fecha  ronda              local              visitante  \\\n",
       "130  2023-10-31T20:30:00      5  Joventut Badalona  Veolia Towers Hamburg   \n",
       "22   2024-01-17T19:30:00     15     ratiopharm Ulm       U-BT Cluj-Napoca   \n",
       "\n",
       "     localscore  roadscore     Winner  Ganador  plusminus Competition  \n",
       "130         108       76.0      Local    108.0       32.0     Eurocup  \n",
       "22           81       85.0  Visitante     85.0       -4.0     Eurocup  "
      ]
     },
     "execution_count": 61,
     "metadata": {},
     "output_type": "execute_result"
    }
   ],
   "source": [
    "#Your Code here: \n",
    "ecteams ['Competition'] = 'Eurocup'\n",
    "ecteams.sample(2)"
   ]
  },
  {
   "cell_type": "markdown",
   "metadata": {},
   "source": [
    "`Ganador`: Being the actual values \"Local\" or \"Visitante\"\n",
    "\n",
    "**BE CAREFUL**: Before changing the correct column to \"Ganador\" from the EC dataframe, there is a \"Ganador\" column with the incorrect information: STEP BY STEP!"
   ]
  },
  {
   "cell_type": "code",
   "execution_count": 66,
   "metadata": {},
   "outputs": [
    {
     "data": {
      "text/html": [
       "<div>\n",
       "<style scoped>\n",
       "    .dataframe tbody tr th:only-of-type {\n",
       "        vertical-align: middle;\n",
       "    }\n",
       "\n",
       "    .dataframe tbody tr th {\n",
       "        vertical-align: top;\n",
       "    }\n",
       "\n",
       "    .dataframe thead th {\n",
       "        text-align: right;\n",
       "    }\n",
       "</style>\n",
       "<table border=\"1\" class=\"dataframe\">\n",
       "  <thead>\n",
       "    <tr style=\"text-align: right;\">\n",
       "      <th></th>\n",
       "      <th>fecha</th>\n",
       "      <th>ronda</th>\n",
       "      <th>local</th>\n",
       "      <th>visitante</th>\n",
       "      <th>localscore</th>\n",
       "      <th>roadscore</th>\n",
       "      <th>Winner</th>\n",
       "      <th>plusminus</th>\n",
       "      <th>Competition</th>\n",
       "    </tr>\n",
       "  </thead>\n",
       "  <tbody>\n",
       "    <tr>\n",
       "      <th>163</th>\n",
       "      <td>2023-10-05T21:00:00</td>\n",
       "      <td>1</td>\n",
       "      <td>Mincidelice JL Bourg en Bresse</td>\n",
       "      <td>Slask Wroclaw</td>\n",
       "      <td>90</td>\n",
       "      <td>74.0</td>\n",
       "      <td>Local</td>\n",
       "      <td>16.0</td>\n",
       "      <td>Eurocup</td>\n",
       "    </tr>\n",
       "    <tr>\n",
       "      <th>3</th>\n",
       "      <td>2024-01-31T18:30:00</td>\n",
       "      <td>17</td>\n",
       "      <td>Cedevita Olimpija Ljubljana</td>\n",
       "      <td>London Lions</td>\n",
       "      <td>85</td>\n",
       "      <td>92.0</td>\n",
       "      <td>Visitante</td>\n",
       "      <td>-7.0</td>\n",
       "      <td>Eurocup</td>\n",
       "    </tr>\n",
       "  </tbody>\n",
       "</table>\n",
       "</div>"
      ],
      "text/plain": [
       "                   fecha  ronda                           local  \\\n",
       "163  2023-10-05T21:00:00      1  Mincidelice JL Bourg en Bresse   \n",
       "3    2024-01-31T18:30:00     17     Cedevita Olimpija Ljubljana   \n",
       "\n",
       "         visitante  localscore  roadscore     Winner  plusminus Competition  \n",
       "163  Slask Wroclaw          90       74.0      Local       16.0     Eurocup  \n",
       "3     London Lions          85       92.0  Visitante       -7.0     Eurocup  "
      ]
     },
     "execution_count": 66,
     "metadata": {},
     "output_type": "execute_result"
    }
   ],
   "source": [
    "#Drop the Column Ganador from the Eurocup Dataframe\n",
    "ecteams.drop(columns= 'Ganador', inplace=True)\n",
    "ecteams.sample(2)\n"
   ]
  },
  {
   "cell_type": "code",
   "execution_count": 67,
   "metadata": {},
   "outputs": [
    {
     "data": {
      "text/html": [
       "<div>\n",
       "<style scoped>\n",
       "    .dataframe tbody tr th:only-of-type {\n",
       "        vertical-align: middle;\n",
       "    }\n",
       "\n",
       "    .dataframe tbody tr th {\n",
       "        vertical-align: top;\n",
       "    }\n",
       "\n",
       "    .dataframe thead th {\n",
       "        text-align: right;\n",
       "    }\n",
       "</style>\n",
       "<table border=\"1\" class=\"dataframe\">\n",
       "  <thead>\n",
       "    <tr style=\"text-align: right;\">\n",
       "      <th></th>\n",
       "      <th>fecha</th>\n",
       "      <th>ronda</th>\n",
       "      <th>local</th>\n",
       "      <th>visitante</th>\n",
       "      <th>localscore</th>\n",
       "      <th>roadscore</th>\n",
       "      <th>Ganador</th>\n",
       "      <th>plusminus</th>\n",
       "      <th>Competition</th>\n",
       "    </tr>\n",
       "  </thead>\n",
       "  <tbody>\n",
       "    <tr>\n",
       "      <th>58</th>\n",
       "      <td>2023-12-19T18:00:00</td>\n",
       "      <td>12</td>\n",
       "      <td>7bet-Lietkabelis Panevezys</td>\n",
       "      <td>ratiopharm Ulm</td>\n",
       "      <td>94</td>\n",
       "      <td>90.0</td>\n",
       "      <td>Local</td>\n",
       "      <td>4.0</td>\n",
       "      <td>Eurocup</td>\n",
       "    </tr>\n",
       "    <tr>\n",
       "      <th>134</th>\n",
       "      <td>2023-10-25T20:00:00</td>\n",
       "      <td>4</td>\n",
       "      <td>Slask Wroclaw</td>\n",
       "      <td>Aris Midea Thessaloniki</td>\n",
       "      <td>63</td>\n",
       "      <td>80.0</td>\n",
       "      <td>Visitante</td>\n",
       "      <td>-17.0</td>\n",
       "      <td>Eurocup</td>\n",
       "    </tr>\n",
       "  </tbody>\n",
       "</table>\n",
       "</div>"
      ],
      "text/plain": [
       "                   fecha  ronda                       local  \\\n",
       "58   2023-12-19T18:00:00     12  7bet-Lietkabelis Panevezys   \n",
       "134  2023-10-25T20:00:00      4               Slask Wroclaw   \n",
       "\n",
       "                   visitante  localscore  roadscore    Ganador  plusminus  \\\n",
       "58            ratiopharm Ulm          94       90.0      Local        4.0   \n",
       "134  Aris Midea Thessaloniki          63       80.0  Visitante      -17.0   \n",
       "\n",
       "    Competition  \n",
       "58      Eurocup  \n",
       "134     Eurocup  "
      ]
     },
     "execution_count": 67,
     "metadata": {},
     "output_type": "execute_result"
    }
   ],
   "source": [
    "#Rename the column with the actual information to \"Ganador\"\n",
    "ecteams.rename(columns = {'Winner':'Ganador'}, inplace=True)\n",
    "ecteams.sample(2)"
   ]
  },
  {
   "cell_type": "markdown",
   "metadata": {},
   "source": [
    "As seen in the first look at the dataframes, there was a problem with the columns: Are lower when they should be Capitalized, as in the Euroleague DataFrame. Change the column names to capitalize. \n",
    "\n",
    "is there a quick way to do it?"
   ]
  },
  {
   "cell_type": "code",
   "execution_count": 87,
   "metadata": {},
   "outputs": [
    {
     "data": {
      "text/plain": [
       "Index(['Fecha', 'Ronda', 'Local', 'Visitante', 'Localscore', 'Roadscore',\n",
       "       'Ganador', 'Plusminus', 'Competition'],\n",
       "      dtype='object')"
      ]
     },
     "execution_count": 87,
     "metadata": {},
     "output_type": "execute_result"
    }
   ],
   "source": [
    "ecteams.columns = map(lambda x: x.capitalize(), ecteams.columns)\n",
    "ecteams.columns"
   ]
  },
  {
   "cell_type": "markdown",
   "metadata": {},
   "source": [
    "Now it is time to just take the useful columns from each data! We will call the result subsets `comp_el` and `comp_ec`\n",
    "\n",
    "REMEMBER: Use the same order of the columns for each dataset. \n",
    "\n",
    "Recommended order: Competition, Localscore, Roadscore, Plusminus, Ganador. **Nothing else is useful**"
   ]
  },
  {
   "cell_type": "code",
   "execution_count": 94,
   "metadata": {},
   "outputs": [
    {
     "data": {
      "text/html": [
       "<div>\n",
       "<style scoped>\n",
       "    .dataframe tbody tr th:only-of-type {\n",
       "        vertical-align: middle;\n",
       "    }\n",
       "\n",
       "    .dataframe tbody tr th {\n",
       "        vertical-align: top;\n",
       "    }\n",
       "\n",
       "    .dataframe thead th {\n",
       "        text-align: right;\n",
       "    }\n",
       "</style>\n",
       "<table border=\"1\" class=\"dataframe\">\n",
       "  <thead>\n",
       "    <tr style=\"text-align: right;\">\n",
       "      <th></th>\n",
       "      <th>Competition</th>\n",
       "      <th>Localscore</th>\n",
       "      <th>Roadscore</th>\n",
       "      <th>Plusminus</th>\n",
       "      <th>Ganador</th>\n",
       "    </tr>\n",
       "  </thead>\n",
       "  <tbody>\n",
       "    <tr>\n",
       "      <th>7</th>\n",
       "      <td>Eurocup</td>\n",
       "      <td>91</td>\n",
       "      <td>75.0</td>\n",
       "      <td>16.0</td>\n",
       "      <td>Local</td>\n",
       "    </tr>\n",
       "    <tr>\n",
       "      <th>84</th>\n",
       "      <td>Eurocup</td>\n",
       "      <td>69</td>\n",
       "      <td>67.0</td>\n",
       "      <td>2.0</td>\n",
       "      <td>Local</td>\n",
       "    </tr>\n",
       "  </tbody>\n",
       "</table>\n",
       "</div>"
      ],
      "text/plain": [
       "   Competition  Localscore  Roadscore  Plusminus Ganador\n",
       "7      Eurocup          91       75.0       16.0   Local\n",
       "84     Eurocup          69       67.0        2.0   Local"
      ]
     },
     "execution_count": 94,
     "metadata": {},
     "output_type": "execute_result"
    }
   ],
   "source": [
    "# Your code here: \n",
    "comp_ec = ecteams.loc[:,['Competition','Localscore','Roadscore', 'Plusminus', 'Ganador']]\n",
    "comp_ec.sample(2)\n"
   ]
  },
  {
   "cell_type": "code",
   "execution_count": 96,
   "metadata": {},
   "outputs": [
    {
     "data": {
      "text/html": [
       "<div>\n",
       "<style scoped>\n",
       "    .dataframe tbody tr th:only-of-type {\n",
       "        vertical-align: middle;\n",
       "    }\n",
       "\n",
       "    .dataframe tbody tr th {\n",
       "        vertical-align: top;\n",
       "    }\n",
       "\n",
       "    .dataframe thead th {\n",
       "        text-align: right;\n",
       "    }\n",
       "</style>\n",
       "<table border=\"1\" class=\"dataframe\">\n",
       "  <thead>\n",
       "    <tr style=\"text-align: right;\">\n",
       "      <th></th>\n",
       "      <th>Competition</th>\n",
       "      <th>Localscore</th>\n",
       "      <th>Roadscore</th>\n",
       "      <th>Plusminus</th>\n",
       "      <th>Ganador</th>\n",
       "    </tr>\n",
       "  </thead>\n",
       "  <tbody>\n",
       "    <tr>\n",
       "      <th>145</th>\n",
       "      <td>Euroleague</td>\n",
       "      <td>84</td>\n",
       "      <td>89</td>\n",
       "      <td>-5</td>\n",
       "      <td>Visitante</td>\n",
       "    </tr>\n",
       "    <tr>\n",
       "      <th>104</th>\n",
       "      <td>Euroleague</td>\n",
       "      <td>91</td>\n",
       "      <td>94</td>\n",
       "      <td>-3</td>\n",
       "      <td>Visitante</td>\n",
       "    </tr>\n",
       "  </tbody>\n",
       "</table>\n",
       "</div>"
      ],
      "text/plain": [
       "    Competition  Localscore  Roadscore  Plusminus    Ganador\n",
       "145  Euroleague          84         89         -5  Visitante\n",
       "104  Euroleague          91         94         -3  Visitante"
      ]
     },
     "execution_count": 96,
     "metadata": {},
     "output_type": "execute_result"
    }
   ],
   "source": [
    "comp_el = elteams.loc[:, ['Competition','Localscore','Roadscore', 'Plusminus', 'Ganador']]\n",
    "comp_el.sample(2)"
   ]
  },
  {
   "cell_type": "markdown",
   "metadata": {},
   "source": [
    "Time to concatenate them both! Create a concat of both Dfs, called `competition`"
   ]
  },
  {
   "cell_type": "code",
   "execution_count": 99,
   "metadata": {},
   "outputs": [
    {
     "data": {
      "text/html": [
       "<div>\n",
       "<style scoped>\n",
       "    .dataframe tbody tr th:only-of-type {\n",
       "        vertical-align: middle;\n",
       "    }\n",
       "\n",
       "    .dataframe tbody tr th {\n",
       "        vertical-align: top;\n",
       "    }\n",
       "\n",
       "    .dataframe thead th {\n",
       "        text-align: right;\n",
       "    }\n",
       "</style>\n",
       "<table border=\"1\" class=\"dataframe\">\n",
       "  <thead>\n",
       "    <tr style=\"text-align: right;\">\n",
       "      <th></th>\n",
       "      <th>Competition</th>\n",
       "      <th>Localscore</th>\n",
       "      <th>Roadscore</th>\n",
       "      <th>Plusminus</th>\n",
       "      <th>Ganador</th>\n",
       "    </tr>\n",
       "  </thead>\n",
       "  <tbody>\n",
       "    <tr>\n",
       "      <th>105</th>\n",
       "      <td>Euroleague</td>\n",
       "      <td>80</td>\n",
       "      <td>75.0</td>\n",
       "      <td>5.0</td>\n",
       "      <td>Local</td>\n",
       "    </tr>\n",
       "    <tr>\n",
       "      <th>118</th>\n",
       "      <td>Eurocup</td>\n",
       "      <td>69</td>\n",
       "      <td>82.0</td>\n",
       "      <td>-13.0</td>\n",
       "      <td>Visitante</td>\n",
       "    </tr>\n",
       "    <tr>\n",
       "      <th>154</th>\n",
       "      <td>Euroleague</td>\n",
       "      <td>77</td>\n",
       "      <td>71.0</td>\n",
       "      <td>6.0</td>\n",
       "      <td>Local</td>\n",
       "    </tr>\n",
       "    <tr>\n",
       "      <th>27</th>\n",
       "      <td>Eurocup</td>\n",
       "      <td>93</td>\n",
       "      <td>104.0</td>\n",
       "      <td>-11.0</td>\n",
       "      <td>Visitante</td>\n",
       "    </tr>\n",
       "  </tbody>\n",
       "</table>\n",
       "</div>"
      ],
      "text/plain": [
       "    Competition  Localscore  Roadscore  Plusminus    Ganador\n",
       "105  Euroleague          80       75.0        5.0      Local\n",
       "118     Eurocup          69       82.0      -13.0  Visitante\n",
       "154  Euroleague          77       71.0        6.0      Local\n",
       "27      Eurocup          93      104.0      -11.0  Visitante"
      ]
     },
     "execution_count": 99,
     "metadata": {},
     "output_type": "execute_result"
    }
   ],
   "source": [
    "# Your code here: \n",
    "competition = pd.concat ([comp_el, comp_ec])\n",
    "competition.sample(4)"
   ]
  },
  {
   "cell_type": "markdown",
   "metadata": {},
   "source": [
    "## Well done!\n",
    "\n",
    "Now we have the combination of both competitions in the same dataframe. Is time for the questions you must answer: "
   ]
  },
  {
   "cell_type": "markdown",
   "metadata": {},
   "source": [
    "1. How many matches have been in each competition?\n",
    "2. What are the maximum points that a local team has scored per competition? And the road team as well. \n",
    "3. Do the same operations with the average points (per competition)\n",
    "4. Can you tell me the maximum difference that has been in a match, splitted by competition? \n",
    "    - Careful: The Plusminus is both positive and negative, being negative that the Road Team has achieved the Victory. To have the absolute, create a new Column named Absolut_Plusminus. Remember: np.where is life!\n",
    "5. Also grouped by competition, give me the number of victories of the Locals and the Visitors"
   ]
  },
  {
   "cell_type": "code",
   "execution_count": 103,
   "metadata": {},
   "outputs": [
    {
     "data": {
      "text/html": [
       "<div>\n",
       "<style scoped>\n",
       "    .dataframe tbody tr th:only-of-type {\n",
       "        vertical-align: middle;\n",
       "    }\n",
       "\n",
       "    .dataframe tbody tr th {\n",
       "        vertical-align: top;\n",
       "    }\n",
       "\n",
       "    .dataframe thead th {\n",
       "        text-align: right;\n",
       "    }\n",
       "</style>\n",
       "<table border=\"1\" class=\"dataframe\">\n",
       "  <thead>\n",
       "    <tr style=\"text-align: right;\">\n",
       "      <th></th>\n",
       "      <th>Localscore</th>\n",
       "      <th>Roadscore</th>\n",
       "      <th>Plusminus</th>\n",
       "      <th>Ganador</th>\n",
       "    </tr>\n",
       "    <tr>\n",
       "      <th>Competition</th>\n",
       "      <th></th>\n",
       "      <th></th>\n",
       "      <th></th>\n",
       "      <th></th>\n",
       "    </tr>\n",
       "  </thead>\n",
       "  <tbody>\n",
       "    <tr>\n",
       "      <th>Eurocup</th>\n",
       "      <td>170</td>\n",
       "      <td>170</td>\n",
       "      <td>170</td>\n",
       "      <td>170</td>\n",
       "    </tr>\n",
       "    <tr>\n",
       "      <th>Euroleague</th>\n",
       "      <td>225</td>\n",
       "      <td>225</td>\n",
       "      <td>225</td>\n",
       "      <td>225</td>\n",
       "    </tr>\n",
       "  </tbody>\n",
       "</table>\n",
       "</div>"
      ],
      "text/plain": [
       "             Localscore  Roadscore  Plusminus  Ganador\n",
       "Competition                                           \n",
       "Eurocup             170        170        170      170\n",
       "Euroleague          225        225        225      225"
      ]
     },
     "execution_count": 103,
     "metadata": {},
     "output_type": "execute_result"
    }
   ],
   "source": [
    "# 1 Number of matches for each competition\n",
    "competition.groupby('Competition').count() # We asume that the total teams that have Win is the total number of games of each competition"
   ]
  },
  {
   "cell_type": "code",
   "execution_count": 105,
   "metadata": {},
   "outputs": [
    {
     "data": {
      "text/html": [
       "<div>\n",
       "<style scoped>\n",
       "    .dataframe tbody tr th:only-of-type {\n",
       "        vertical-align: middle;\n",
       "    }\n",
       "\n",
       "    .dataframe tbody tr th {\n",
       "        vertical-align: top;\n",
       "    }\n",
       "\n",
       "    .dataframe thead th {\n",
       "        text-align: right;\n",
       "    }\n",
       "</style>\n",
       "<table border=\"1\" class=\"dataframe\">\n",
       "  <thead>\n",
       "    <tr style=\"text-align: right;\">\n",
       "      <th></th>\n",
       "      <th>Localscore</th>\n",
       "      <th>Roadscore</th>\n",
       "    </tr>\n",
       "    <tr>\n",
       "      <th>Competition</th>\n",
       "      <th></th>\n",
       "      <th></th>\n",
       "    </tr>\n",
       "  </thead>\n",
       "  <tbody>\n",
       "    <tr>\n",
       "      <th>Eurocup</th>\n",
       "      <td>120</td>\n",
       "      <td>114.0</td>\n",
       "    </tr>\n",
       "    <tr>\n",
       "      <th>Euroleague</th>\n",
       "      <td>130</td>\n",
       "      <td>126.0</td>\n",
       "    </tr>\n",
       "  </tbody>\n",
       "</table>\n",
       "</div>"
      ],
      "text/plain": [
       "             Localscore  Roadscore\n",
       "Competition                       \n",
       "Eurocup             120      114.0\n",
       "Euroleague          130      126.0"
      ]
     },
     "execution_count": 105,
     "metadata": {},
     "output_type": "execute_result"
    }
   ],
   "source": [
    "# 2 Max score for Local and Road for each competition\n",
    "competition.groupby('Competition').agg({'Localscore':'max', 'Roadscore':'max'})"
   ]
  },
  {
   "cell_type": "code",
   "execution_count": 106,
   "metadata": {},
   "outputs": [
    {
     "data": {
      "text/html": [
       "<div>\n",
       "<style scoped>\n",
       "    .dataframe tbody tr th:only-of-type {\n",
       "        vertical-align: middle;\n",
       "    }\n",
       "\n",
       "    .dataframe tbody tr th {\n",
       "        vertical-align: top;\n",
       "    }\n",
       "\n",
       "    .dataframe thead th {\n",
       "        text-align: right;\n",
       "    }\n",
       "</style>\n",
       "<table border=\"1\" class=\"dataframe\">\n",
       "  <thead>\n",
       "    <tr style=\"text-align: right;\">\n",
       "      <th></th>\n",
       "      <th>Localscore</th>\n",
       "      <th>Roadscore</th>\n",
       "    </tr>\n",
       "    <tr>\n",
       "      <th>Competition</th>\n",
       "      <th></th>\n",
       "      <th></th>\n",
       "    </tr>\n",
       "  </thead>\n",
       "  <tbody>\n",
       "    <tr>\n",
       "      <th>Eurocup</th>\n",
       "      <td>85.235294</td>\n",
       "      <td>83.958824</td>\n",
       "    </tr>\n",
       "    <tr>\n",
       "      <th>Euroleague</th>\n",
       "      <td>83.284444</td>\n",
       "      <td>79.173333</td>\n",
       "    </tr>\n",
       "  </tbody>\n",
       "</table>\n",
       "</div>"
      ],
      "text/plain": [
       "             Localscore  Roadscore\n",
       "Competition                       \n",
       "Eurocup       85.235294  83.958824\n",
       "Euroleague    83.284444  79.173333"
      ]
     },
     "execution_count": 106,
     "metadata": {},
     "output_type": "execute_result"
    }
   ],
   "source": [
    "# 3 Average score for each competition\n",
    "competition.groupby('Competition').agg({'Localscore':'mean', 'Roadscore':'mean'})"
   ]
  },
  {
   "cell_type": "code",
   "execution_count": 115,
   "metadata": {},
   "outputs": [
    {
     "data": {
      "text/html": [
       "<div>\n",
       "<style scoped>\n",
       "    .dataframe tbody tr th:only-of-type {\n",
       "        vertical-align: middle;\n",
       "    }\n",
       "\n",
       "    .dataframe tbody tr th {\n",
       "        vertical-align: top;\n",
       "    }\n",
       "\n",
       "    .dataframe thead th {\n",
       "        text-align: right;\n",
       "    }\n",
       "</style>\n",
       "<table border=\"1\" class=\"dataframe\">\n",
       "  <thead>\n",
       "    <tr style=\"text-align: right;\">\n",
       "      <th></th>\n",
       "      <th>Competition</th>\n",
       "      <th>Localscore</th>\n",
       "      <th>Roadscore</th>\n",
       "      <th>Plusminus</th>\n",
       "      <th>Ganador</th>\n",
       "      <th>Absolut_Plusminus</th>\n",
       "    </tr>\n",
       "  </thead>\n",
       "  <tbody>\n",
       "    <tr>\n",
       "      <th>35</th>\n",
       "      <td>Euroleague</td>\n",
       "      <td>98</td>\n",
       "      <td>59.0</td>\n",
       "      <td>39.0</td>\n",
       "      <td>Local</td>\n",
       "      <td>39.0</td>\n",
       "    </tr>\n",
       "    <tr>\n",
       "      <th>141</th>\n",
       "      <td>Eurocup</td>\n",
       "      <td>72</td>\n",
       "      <td>111.0</td>\n",
       "      <td>-39.0</td>\n",
       "      <td>Visitante</td>\n",
       "      <td>39.0</td>\n",
       "    </tr>\n",
       "    <tr>\n",
       "      <th>104</th>\n",
       "      <td>Eurocup</td>\n",
       "      <td>60</td>\n",
       "      <td>98.0</td>\n",
       "      <td>-38.0</td>\n",
       "      <td>Visitante</td>\n",
       "      <td>38.0</td>\n",
       "    </tr>\n",
       "    <tr>\n",
       "      <th>146</th>\n",
       "      <td>Eurocup</td>\n",
       "      <td>69</td>\n",
       "      <td>105.0</td>\n",
       "      <td>-36.0</td>\n",
       "      <td>Visitante</td>\n",
       "      <td>36.0</td>\n",
       "    </tr>\n",
       "    <tr>\n",
       "      <th>162</th>\n",
       "      <td>Euroleague</td>\n",
       "      <td>109</td>\n",
       "      <td>74.0</td>\n",
       "      <td>35.0</td>\n",
       "      <td>Local</td>\n",
       "      <td>35.0</td>\n",
       "    </tr>\n",
       "    <tr>\n",
       "      <th>...</th>\n",
       "      <td>...</td>\n",
       "      <td>...</td>\n",
       "      <td>...</td>\n",
       "      <td>...</td>\n",
       "      <td>...</td>\n",
       "      <td>...</td>\n",
       "    </tr>\n",
       "    <tr>\n",
       "      <th>147</th>\n",
       "      <td>Euroleague</td>\n",
       "      <td>76</td>\n",
       "      <td>77.0</td>\n",
       "      <td>-1.0</td>\n",
       "      <td>Visitante</td>\n",
       "      <td>1.0</td>\n",
       "    </tr>\n",
       "    <tr>\n",
       "      <th>149</th>\n",
       "      <td>Euroleague</td>\n",
       "      <td>85</td>\n",
       "      <td>84.0</td>\n",
       "      <td>1.0</td>\n",
       "      <td>Local</td>\n",
       "      <td>1.0</td>\n",
       "    </tr>\n",
       "    <tr>\n",
       "      <th>76</th>\n",
       "      <td>Euroleague</td>\n",
       "      <td>74</td>\n",
       "      <td>73.0</td>\n",
       "      <td>1.0</td>\n",
       "      <td>Local</td>\n",
       "      <td>1.0</td>\n",
       "    </tr>\n",
       "    <tr>\n",
       "      <th>138</th>\n",
       "      <td>Eurocup</td>\n",
       "      <td>92</td>\n",
       "      <td>93.0</td>\n",
       "      <td>-1.0</td>\n",
       "      <td>Visitante</td>\n",
       "      <td>1.0</td>\n",
       "    </tr>\n",
       "    <tr>\n",
       "      <th>90</th>\n",
       "      <td>Euroleague</td>\n",
       "      <td>100</td>\n",
       "      <td>99.0</td>\n",
       "      <td>1.0</td>\n",
       "      <td>Local</td>\n",
       "      <td>1.0</td>\n",
       "    </tr>\n",
       "  </tbody>\n",
       "</table>\n",
       "<p>395 rows × 6 columns</p>\n",
       "</div>"
      ],
      "text/plain": [
       "    Competition  Localscore  Roadscore  Plusminus    Ganador  \\\n",
       "35   Euroleague          98       59.0       39.0      Local   \n",
       "141     Eurocup          72      111.0      -39.0  Visitante   \n",
       "104     Eurocup          60       98.0      -38.0  Visitante   \n",
       "146     Eurocup          69      105.0      -36.0  Visitante   \n",
       "162  Euroleague         109       74.0       35.0      Local   \n",
       "..          ...         ...        ...        ...        ...   \n",
       "147  Euroleague          76       77.0       -1.0  Visitante   \n",
       "149  Euroleague          85       84.0        1.0      Local   \n",
       "76   Euroleague          74       73.0        1.0      Local   \n",
       "138     Eurocup          92       93.0       -1.0  Visitante   \n",
       "90   Euroleague         100       99.0        1.0      Local   \n",
       "\n",
       "     Absolut_Plusminus  \n",
       "35                39.0  \n",
       "141               39.0  \n",
       "104               38.0  \n",
       "146               36.0  \n",
       "162               35.0  \n",
       "..                 ...  \n",
       "147                1.0  \n",
       "149                1.0  \n",
       "76                 1.0  \n",
       "138                1.0  \n",
       "90                 1.0  \n",
       "\n",
       "[395 rows x 6 columns]"
      ]
     },
     "execution_count": 115,
     "metadata": {},
     "output_type": "execute_result"
    }
   ],
   "source": [
    "# 4 Maximum score difference in games\n",
    "competition['Absolut_Plusminus'] = np.where(competition['Plusminus']<0,competition['Plusminus'].abs(),competition['Plusminus'])\n",
    "competition.sort_values(by = ['Absolut_Plusminus'], ascending=False )"
   ]
  },
  {
   "cell_type": "code",
   "execution_count": 113,
   "metadata": {},
   "outputs": [
    {
     "data": {
      "text/html": [
       "<div>\n",
       "<style scoped>\n",
       "    .dataframe tbody tr th:only-of-type {\n",
       "        vertical-align: middle;\n",
       "    }\n",
       "\n",
       "    .dataframe tbody tr th {\n",
       "        vertical-align: top;\n",
       "    }\n",
       "\n",
       "    .dataframe thead th {\n",
       "        text-align: right;\n",
       "    }\n",
       "</style>\n",
       "<table border=\"1\" class=\"dataframe\">\n",
       "  <thead>\n",
       "    <tr style=\"text-align: right;\">\n",
       "      <th></th>\n",
       "      <th>Absolut_Plusminus</th>\n",
       "    </tr>\n",
       "    <tr>\n",
       "      <th>Competition</th>\n",
       "      <th></th>\n",
       "    </tr>\n",
       "  </thead>\n",
       "  <tbody>\n",
       "    <tr>\n",
       "      <th>Eurocup</th>\n",
       "      <td>39.0</td>\n",
       "    </tr>\n",
       "    <tr>\n",
       "      <th>Euroleague</th>\n",
       "      <td>39.0</td>\n",
       "    </tr>\n",
       "  </tbody>\n",
       "</table>\n",
       "</div>"
      ],
      "text/plain": [
       "             Absolut_Plusminus\n",
       "Competition                   \n",
       "Eurocup                   39.0\n",
       "Euroleague                39.0"
      ]
     },
     "execution_count": 113,
     "metadata": {},
     "output_type": "execute_result"
    }
   ],
   "source": [
    "competition.groupby('Competition').agg({'Absolut_Plusminus':'max'})"
   ]
  },
  {
   "cell_type": "code",
   "execution_count": 118,
   "metadata": {},
   "outputs": [
    {
     "data": {
      "text/html": [
       "<div>\n",
       "<style scoped>\n",
       "    .dataframe tbody tr th:only-of-type {\n",
       "        vertical-align: middle;\n",
       "    }\n",
       "\n",
       "    .dataframe tbody tr th {\n",
       "        vertical-align: top;\n",
       "    }\n",
       "\n",
       "    .dataframe thead th {\n",
       "        text-align: right;\n",
       "    }\n",
       "</style>\n",
       "<table border=\"1\" class=\"dataframe\">\n",
       "  <thead>\n",
       "    <tr style=\"text-align: right;\">\n",
       "      <th>Ganador</th>\n",
       "      <th>Local</th>\n",
       "      <th>Visitante</th>\n",
       "    </tr>\n",
       "    <tr>\n",
       "      <th>Competition</th>\n",
       "      <th></th>\n",
       "      <th></th>\n",
       "    </tr>\n",
       "  </thead>\n",
       "  <tbody>\n",
       "    <tr>\n",
       "      <th>Eurocup</th>\n",
       "      <td>90</td>\n",
       "      <td>80</td>\n",
       "    </tr>\n",
       "    <tr>\n",
       "      <th>Euroleague</th>\n",
       "      <td>150</td>\n",
       "      <td>75</td>\n",
       "    </tr>\n",
       "  </tbody>\n",
       "</table>\n",
       "</div>"
      ],
      "text/plain": [
       "Ganador      Local  Visitante\n",
       "Competition                  \n",
       "Eurocup         90         80\n",
       "Euroleague     150         75"
      ]
     },
     "execution_count": 118,
     "metadata": {},
     "output_type": "execute_result"
    }
   ],
   "source": [
    "# 5 number of victories of the Locals and the Visitors\n",
    "pd.crosstab(competition['Competition'], competition ['Ganador'])"
   ]
  }
 ],
 "metadata": {
  "kernelspec": {
   "display_name": "ironhackk",
   "language": "python",
   "name": "python3"
  },
  "language_info": {
   "codemirror_mode": {
    "name": "ipython",
    "version": 3
   },
   "file_extension": ".py",
   "mimetype": "text/x-python",
   "name": "python",
   "nbconvert_exporter": "python",
   "pygments_lexer": "ipython3",
   "version": "3.11.7"
  }
 },
 "nbformat": 4,
 "nbformat_minor": 2
}
