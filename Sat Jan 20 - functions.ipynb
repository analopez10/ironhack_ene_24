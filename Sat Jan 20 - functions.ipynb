{
 "cells": [
  {
   "cell_type": "markdown",
   "metadata": {},
   "source": [
    "# Functions"
   ]
  },
  {
   "cell_type": "markdown",
   "metadata": {},
   "source": [
    "On this lab we will put to practice some of the concepts we have learned on this past few days.\n",
    "\n",
    "`NOTE: On this lab you should try to write all the functions yourself using only the most basic of python syntax and without functions such as len, count, sum, max, min, in, etc. Give it a try. 🧑🏻‍💻👩🏻‍💻`\n",
    "\n",
    "The cell after each exercise contains a few tests to check if your function works as expected."
   ]
  },
  {
   "cell_type": "code",
   "execution_count": 1,
   "metadata": {},
   "outputs": [],
   "source": [
    "from mod.testing import *\n",
    "import unittest"
   ]
  },
  {
   "cell_type": "markdown",
   "metadata": {},
   "source": [
    "## 1. Write a function that returns the greater of two numbers"
   ]
  },
  {
   "cell_type": "code",
   "execution_count": 4,
   "metadata": {},
   "outputs": [],
   "source": [
    "# your code here, name the function greater\n",
    "def greater (a, b):\n",
    "    if a > b:\n",
    "        return a\n",
    "    elif a < b:\n",
    "        return b\n",
    "    \n",
    "    else:\n",
    "        return (f\"{a} y {b} are the same number\")\n",
    "    \n",
    "    "
   ]
  },
  {
   "cell_type": "code",
   "execution_count": 5,
   "metadata": {},
   "outputs": [
    {
     "name": "stderr",
     "output_type": "stream",
     "text": [
      "....................................................................................................\n",
      "----------------------------------------------------------------------\n",
      "Ran 100 tests in 0.024s\n",
      "\n",
      "OK\n"
     ]
    }
   ],
   "source": [
    "# This will test your function \n",
    "test_greater(greater)"
   ]
  },
  {
   "cell_type": "markdown",
   "metadata": {},
   "source": [
    "## 2. Now write a function that returns the largest element on a list"
   ]
  },
  {
   "cell_type": "code",
   "execution_count": 40,
   "metadata": {},
   "outputs": [],
   "source": [
    "lst = [1,2,3,4,5,66]\n",
    "# your code here, name the function greatest \n",
    "def greatest (lst):\n",
    "    max = 0\n",
    "    for i in lst:\n",
    "        if i > max:\n",
    "            max = i\n",
    "    return max"
   ]
  },
  {
   "cell_type": "code",
   "execution_count": 41,
   "metadata": {},
   "outputs": [
    {
     "name": "stderr",
     "output_type": "stream",
     "text": [
      "....................................................................................................\n",
      "----------------------------------------------------------------------\n",
      "Ran 100 tests in 0.018s\n",
      "\n",
      "OK\n"
     ]
    }
   ],
   "source": [
    "# This will test your function\n",
    "test_greatest(greatest)"
   ]
  },
  {
   "cell_type": "markdown",
   "metadata": {},
   "source": [
    "## 3. Write a function that sums all the elements on a list"
   ]
  },
  {
   "cell_type": "code",
   "execution_count": 47,
   "metadata": {},
   "outputs": [],
   "source": [
    "# your code here, name the function sum_all\n",
    "def sum_function (lst):\n",
    "    total_sum = 0\n",
    "    for i in lst:\n",
    "        total_sum += i\n",
    "    return total_sum"
   ]
  },
  {
   "cell_type": "code",
   "execution_count": 48,
   "metadata": {},
   "outputs": [
    {
     "name": "stderr",
     "output_type": "stream",
     "text": [
      "....................................................................................................\n",
      "----------------------------------------------------------------------\n",
      "Ran 100 tests in 0.021s\n",
      "\n",
      "OK\n"
     ]
    }
   ],
   "source": [
    "# This will test your function \n",
    "test_sum(sum_function)"
   ]
  },
  {
   "cell_type": "markdown",
   "metadata": {},
   "source": [
    "## 4. Write another function that multiplies all the elements on a list"
   ]
  },
  {
   "cell_type": "code",
   "execution_count": 54,
   "metadata": {},
   "outputs": [],
   "source": [
    "# your code here, name the function mult_all\n",
    "def mult_all(lst):\n",
    "    total_mult = 1 # Imp to not use 0, everything multiply by cero is cero\n",
    "    for i in lst:\n",
    "        total_mult *= i \n",
    "    return total_mult"
   ]
  },
  {
   "cell_type": "code",
   "execution_count": 55,
   "metadata": {},
   "outputs": [
    {
     "name": "stderr",
     "output_type": "stream",
     "text": [
      "....................................................................................................\n",
      "----------------------------------------------------------------------\n",
      "Ran 100 tests in 0.020s\n",
      "\n",
      "OK\n"
     ]
    }
   ],
   "source": [
    "# This will test your function \n",
    "test_mult(mult_all)"
   ]
  },
  {
   "cell_type": "markdown",
   "metadata": {},
   "source": [
    "## 5. Now combine those two ideas and write a function that receives a list and either \"+\" or \"*\" and outputs acordingly"
   ]
  },
  {
   "cell_type": "code",
   "execution_count": 192,
   "metadata": {},
   "outputs": [],
   "source": [
    "def oper_all(lst, operator):\n",
    "    if operator == \"+\":\n",
    "        total_sum = 0\n",
    "        for i in lst:\n",
    "            total_sum += i\n",
    "        return total_sum\n",
    "    elif operator == \"*\":\n",
    "        total_mult = 1\n",
    "        for i in lst:\n",
    "            total_mult *= i\n",
    "        return total_mult\n",
    "    else:\n",
    "        return (\"Not a valid operator\")"
   ]
  },
  {
   "cell_type": "code",
   "execution_count": 193,
   "metadata": {},
   "outputs": [
    {
     "name": "stderr",
     "output_type": "stream",
     "text": [
      "....................................................................................................\n",
      "----------------------------------------------------------------------\n",
      "Ran 100 tests in 0.022s\n",
      "\n",
      "OK\n"
     ]
    }
   ],
   "source": [
    "# This will test your function \n",
    "test_operations(oper_all)"
   ]
  },
  {
   "cell_type": "markdown",
   "metadata": {},
   "source": [
    "## 6. Write a function that returns the factorial of a number."
   ]
  },
  {
   "cell_type": "code",
   "execution_count": 117,
   "metadata": {},
   "outputs": [],
   "source": [
    "#factorial formula\n",
    "#n! = n * ( n - 1 ) *...*1\n",
    "\n",
    "# This code defines a function called \"factorial\" which takes an input \"n\". The function uses a for loop to iterate through the range of numbers \n",
    "# from 1 to n+1. For each number in that range, it multiplies the current value of x by the number in the range. At the end of the loop, \n",
    "# the function returns the final value of x, which will be the factorial of the input number \"n\".\n",
    "\n",
    "# The Factorial of a positive integer n is the product of all positive integers less than or equal to n. \n",
    "# For example, the factorial of 6 (written \"6!\") is 6 * 5 * 4 * 3 * 2 * 1 = 720.\n",
    "\n",
    "# So this function takes an input of any positive integer, and returns the factorial of that number."
   ]
  },
  {
   "cell_type": "code",
   "execution_count": 120,
   "metadata": {},
   "outputs": [],
   "source": [
    "# your code here, name the function factorial\n",
    "def factorial (i):\n",
    "    number = list(reversed(range(1, i + 1)))\n",
    "    n_factorial = 1\n",
    "    for i in number:\n",
    "        n_factorial *= int(i)\n",
    "    print (n_factorial)\n",
    "\n"
   ]
  },
  {
   "cell_type": "code",
   "execution_count": 122,
   "metadata": {},
   "outputs": [],
   "source": [
    "def factorial(i):\n",
    "    number = list(reversed(range(1, i + 1)))\n",
    "    n_factorial = 1\n",
    "    for num in number:\n",
    "        n_factorial *= num\n",
    "    return n_factorial"
   ]
  },
  {
   "cell_type": "code",
   "execution_count": 123,
   "metadata": {},
   "outputs": [
    {
     "name": "stderr",
     "output_type": "stream",
     "text": [
      "....................................................................................................\n",
      "----------------------------------------------------------------------\n",
      "Ran 100 tests in 0.028s\n",
      "\n",
      "OK\n"
     ]
    }
   ],
   "source": [
    "# This will test your function \n",
    "test_factorial(factorial)"
   ]
  },
  {
   "cell_type": "markdown",
   "metadata": {},
   "source": [
    "## 7. Write a function that takes a list and returns a list of the unique values.\n",
    "\n",
    "`NOTE: You cannot use set. 🤔`"
   ]
  },
  {
   "cell_type": "code",
   "execution_count": 247,
   "metadata": {},
   "outputs": [],
   "source": [
    "# your code here, name the function unique\n",
    "def unique (lst):\n",
    "    unique_list = []\n",
    "    for i in lst:\n",
    "        if i not in unique_list:\n",
    "            unique_list.append (i)\n",
    "    return unique_list"
   ]
  },
  {
   "cell_type": "code",
   "execution_count": 248,
   "metadata": {},
   "outputs": [
    {
     "name": "stderr",
     "output_type": "stream",
     "text": [
      "....................................................................................................\n",
      "----------------------------------------------------------------------\n",
      "Ran 100 tests in 0.108s\n",
      "\n",
      "OK\n"
     ]
    }
   ],
   "source": [
    "# This will test your function \n",
    "test_unique(unique)"
   ]
  },
  {
   "cell_type": "markdown",
   "metadata": {},
   "source": [
    "## 8. Write a function that returns the mode of a list, i.e.: the element that appears the most times.\n",
    "`NOTE: You should not use count... 🧐`"
   ]
  },
  {
   "cell_type": "code",
   "execution_count": 176,
   "metadata": {},
   "outputs": [],
   "source": [
    "# your code here, name the function mode_counter\n",
    "# iteramos sobre la lista y contamos las veces que esta ese numero \n",
    "# si esta repetido sumamos uno una variable que lleva la cuenta de reps \n",
    "# despues de haber creado una variable para cada num, mostramos el index y valor de la mas alta \n",
    "\n",
    "def mode_counter (lst):\n",
    "    mode_dic = {}\n",
    "    # Primero cuento la frecuencia de cada número y lo guardo en un diccionario.\n",
    "    for i in lst:\n",
    "        if i in mode_dic:\n",
    "            mode_dic [i] += 1\n",
    "        else:\n",
    "            mode_dic[i] = 1\n",
    "    #print (mode_dic)\n",
    "\n",
    "    # Ahora buscamos el elemento repetido mas veces\n",
    "    max_key = None\n",
    "    max_value = 0\n",
    "    for i, value in mode_dic.items(): # importante acordarme de que cuando iteramos sobre un diccionario necesitamos el método items ()\n",
    "        if value > max_value:\n",
    "            max_key = i\n",
    "            max_value = value\n",
    "    return max_key\n",
    "\n",
    "\n"
   ]
  },
  {
   "cell_type": "code",
   "execution_count": 177,
   "metadata": {},
   "outputs": [
    {
     "name": "stderr",
     "output_type": "stream",
     "text": [
      "....................................................................................................\n",
      "----------------------------------------------------------------------\n",
      "Ran 100 tests in 0.027s\n",
      "\n",
      "OK\n"
     ]
    }
   ],
   "source": [
    "# This will test your function \n",
    "test_mode(mode_counter)"
   ]
  },
  {
   "cell_type": "markdown",
   "metadata": {},
   "source": [
    "## 9. Write a function that calculates the standard deviation of a list.\n",
    "`NOTE: Do not use any libraries or already built functions. 😉`"
   ]
  },
  {
   "cell_type": "code",
   "execution_count": 218,
   "metadata": {},
   "outputs": [],
   "source": [
    "# your code here, name the function st_dev\n",
    "# we first need to calculate the mean\n",
    "# then we need to no the deviation for each element to the mean\n",
    "# The sum of the squared differences from mean = (4-3)2+(2-4)2 +(5-4)2 +(6-4)2 = 10\n",
    "# Variance = Squared differences from mean/ number of data points =10/4 =2.5\n",
    "#Standard deviation = √2.5 = 1.58\n",
    "def st_dev(lst):\n",
    "    total_nums = len(lst)\n",
    "\n",
    "    if total_nums < 2:\n",
    "        return 0  # not defined for single value\n",
    "\n",
    "    total_amount = 0\n",
    "    mean = 0\n",
    "\n",
    "    for i in lst:\n",
    "        total_amount += i\n",
    "\n",
    "    mean = total_amount / total_nums\n",
    "\n",
    "    deviation = 0\n",
    "\n",
    "    for i in lst:\n",
    "        deviation += (i - mean) ** 2\n",
    "\n",
    "    variance = deviation / (total_nums - 1)\n",
    "\n",
    "    sta_deviation = variance ** 0.5\n",
    "\n",
    "    return sta_deviation"
   ]
  },
  {
   "cell_type": "code",
   "execution_count": 219,
   "metadata": {},
   "outputs": [
    {
     "name": "stderr",
     "output_type": "stream",
     "text": [
      "....................................................................................................\n",
      "----------------------------------------------------------------------\n",
      "Ran 100 tests in 0.019s\n",
      "\n",
      "OK\n"
     ]
    }
   ],
   "source": [
    "# This will test your function \n",
    "test_stdev(st_dev)"
   ]
  },
  {
   "cell_type": "markdown",
   "metadata": {},
   "source": [
    "## 10. Write a function to check if a string is a pangram, i.e.: if it contains all the letters of the alphabet at least once. Mind that the strings may contain characters that are not letters."
   ]
  },
  {
   "cell_type": "code",
   "execution_count": 263,
   "metadata": {},
   "outputs": [
    {
     "name": "stdout",
     "output_type": "stream",
     "text": [
      "It is not a pangram \n"
     ]
    }
   ],
   "source": [
    "# your code here, name the function pangram\n",
    "abc = ['\"a\"', '\"b\"', '\"c\"', '\"d\"', '\"e\"', '\"f\"', '\"g\"', '\"h\"', '\"i\"', '\"j\"', '\"k\"', '\"l\"', '\"m\"', '\"n\"', '\"o\"', '\"p\"', '\"q\"', '\"r\"', '\"s\"', '\"t\"', '\"u\"', '\"v\"', '\"w\"', '\"x\"', '\"y\"', '\"z\"']\n",
    "word = \"abcdefghijklmnopqrstuvwxyz\"\n",
    "for i in word:\n",
    "    if i in abc:\n",
    "        print (f\"It is a pangram\")\n",
    "else:\n",
    "        print (f\"It is not a pangram \")\n"
   ]
  },
  {
   "cell_type": "code",
   "execution_count": 322,
   "metadata": {},
   "outputs": [],
   "source": [
    "def pangram(string):\n",
    "    word = []\n",
    "    abc = ['a', 'b', 'c', 'd', 'e', 'f', 'g', 'h', 'i', 'j', 'k', 'l', 'm', 'n', 'o', 'p', 'q', 'r', 's', 't', 'u', 'v', 'w', 'x', 'y', 'z']\n",
    "    \n",
    "    for i in string.lower():\n",
    "        if i.isalpha() and i not in word: #non-alphabetic characters using the isalpha() method.\n",
    "            word.append(i)\n",
    "    for letter in abc:\n",
    "        if letter not in word:#if any letter is missing then is false\n",
    "            return False\n",
    "\n",
    "    return True #all letters of the word are in abc"
   ]
  },
  {
   "cell_type": "code",
   "execution_count": 323,
   "metadata": {},
   "outputs": [
    {
     "name": "stderr",
     "output_type": "stream",
     "text": [
      "..............................\n",
      "----------------------------------------------------------------------\n",
      "Ran 30 tests in 0.008s\n",
      "\n",
      "OK\n"
     ]
    }
   ],
   "source": [
    "# This will test your function \n",
    "test_pangram(pangram)"
   ]
  },
  {
   "cell_type": "markdown",
   "metadata": {},
   "source": [
    "## 11. Write a function that receives a string of comma separated words and returns a string of comma separated words sorted alphabetically.\n",
    "\n",
    "`NOTE: You may use sorted but not split and definitely no join! 🤪`"
   ]
  },
  {
   "cell_type": "code",
   "execution_count": 343,
   "metadata": {},
   "outputs": [
    {
     "name": "stdout",
     "output_type": "stream",
     "text": [
      "[]\n"
     ]
    }
   ],
   "source": [
    "# your code here, name the function sort_alpha\n",
    "word_set = \"perro, gato, araña, delfín, mono\"\n",
    "split_value = []\n",
    "#tmp = ''\n",
    "for word in word_set:\n",
    "    if word == '':\n",
    "        split_value.append(word)\n",
    "\n",
    "print (split_value)\n"
   ]
  },
  {
   "cell_type": "code",
   "execution_count": 348,
   "metadata": {},
   "outputs": [
    {
     "name": "stdout",
     "output_type": "stream",
     "text": [
      "[['p'], ['e'], ['r'], ['r'], ['o'], [','], [' '], ['g'], ['a'], ['t'], ['o'], [','], [' '], ['a'], ['r'], ['a'], ['ñ'], ['a'], [','], [' '], ['d'], ['e'], ['l'], ['f'], ['í'], ['n'], [','], [' '], ['m'], ['o'], ['n'], ['o']]\n"
     ]
    }
   ],
   "source": [
    "old_list = \"perro, gato, araña, delfín, mono\"\n",
    "new_list = []\n",
    "for sentence in old_list:\n",
    "    sentence_list = []\n",
    "    word = ''\n",
    "    for ch in sentence:\n",
    "        if ch == ' ' and word != '':\n",
    "            sentence_list.append(word)\n",
    "            word = ''\n",
    "        else:\n",
    "            word += ch\n",
    "    if word != '':\n",
    "        sentence_list.append(word)\n",
    "    new_list.append(sentence_list)\n",
    "\n",
    "\n",
    "print (new_list)"
   ]
  },
  {
   "cell_type": "code",
   "execution_count": null,
   "metadata": {},
   "outputs": [],
   "source": [
    "old_list = \"perro, gato, araña, delfín, mono\"\n",
    "new_list = []\n",
    "for sentence in old_list:\n",
    "    sentence_list = []\n",
    "    word = ''\n",
    "    for ch in sentence:\n",
    "        if ch == ' ' and word != '':\n",
    "            sentence_list.append(word)\n",
    "            word = ''\n",
    "        else:\n",
    "            word += ch\n",
    "    if word != '':\n",
    "        sentence_list.append(word)\n",
    "    new_list.append(sentence_list)\n",
    "    for i in new_list:\n",
    "        "
   ]
  },
  {
   "cell_type": "code",
   "execution_count": 360,
   "metadata": {},
   "outputs": [
    {
     "name": "stdout",
     "output_type": "stream",
     "text": [
      " araña, delfín, gato, mono, perro,\n"
     ]
    }
   ],
   "source": [
    "word_set = \"perro, gato, araña, delfín, mono,\"\n",
    "split_list = []\n",
    "space = ''\n",
    "back_string = \"\"\n",
    "for i in word_set:\n",
    "   if i == ' ':\n",
    "       split_list.append(space)\n",
    "       space = ''\n",
    "   else:\n",
    "       space += i\n",
    "if space:\n",
    "   split_list.append(space)\n",
    "   split_list.sort()\n",
    "for word in split_list:\n",
    "    back_string += \" \" + word\n",
    "\n",
    "print (back_string)"
   ]
  },
  {
   "cell_type": "code",
   "execution_count": 367,
   "metadata": {},
   "outputs": [],
   "source": [
    "def sort_alpha(word):\n",
    "   split_list = []\n",
    "   space = ''\n",
    "   back_string = \"\"\n",
    "   for i in word_set:\n",
    "    \n",
    "    if i == ' ':\n",
    "        split_list.append(space)\n",
    "        space = ''\n",
    "    else:\n",
    "      space += i\n",
    "    if space:\n",
    "      split_list.append(space)\n",
    "      split_list.sort()\n",
    "    for word in split_list:\n",
    "      back_string += \" \" + word\n",
    "    return back_string\n",
    "      \n",
    "      \n",
    "    \n",
    "\n"
   ]
  },
  {
   "cell_type": "code",
   "execution_count": 425,
   "metadata": {},
   "outputs": [],
   "source": [
    "def sort_alpha (words): # words = \"perro, gato, araña, delfín, mono\"\n",
    "    # First we create the variables\n",
    "    # We need to pass the sting into a list to be able to sort alphabetically\n",
    "    split_list = []\n",
    "    ind_word = ''\n",
    "    return_string = \"\"\n",
    "\n",
    "    # Then we want to iterate through the words set\n",
    "    for i in words:\n",
    "        if i == ',':\n",
    "            split_list.append(ind_word)\n",
    "            ind_word = ''\n",
    "        \n",
    "        else:\n",
    "            ind_word+= i # We build the word set\n",
    "    \n",
    "    split_list.append(ind_word) #add the last word to the list\n",
    "    split_list.sort()\n",
    "\n",
    "    for word in split_list:\n",
    "        return_string += \",\" + word\n",
    "    \n",
    "    # We need to remove the last comma \n",
    "    return return_string[1:]\n",
    "\n",
    "    "
   ]
  },
  {
   "cell_type": "code",
   "execution_count": 426,
   "metadata": {},
   "outputs": [
    {
     "name": "stderr",
     "output_type": "stream",
     "text": [
      "....................................................................................................\n",
      "----------------------------------------------------------------------\n",
      "Ran 100 tests in 0.033s\n",
      "\n",
      "OK\n"
     ]
    }
   ],
   "source": [
    "# This will test your function \n",
    "test_alpha(sort_alpha)"
   ]
  },
  {
   "cell_type": "markdown",
   "metadata": {},
   "source": [
    "## 12. Write a function to check if a given password is strong (at least 8 characters, at least one lower case, at least one upper case, at least one number and at least one special character). It should output True if strong and False if not."
   ]
  },
  {
   "cell_type": "code",
   "execution_count": 421,
   "metadata": {},
   "outputs": [],
   "source": [
    "def is_strong_password(password):\n",
    "    # First we do the length condition, i'm creating a variable that sums 1 per each element of the password\n",
    "    char_len = 0\n",
    "    for i in password:\n",
    "        char_len += 1\n",
    "\n",
    "    if char_len < 8: \n",
    "        return False\n",
    "\n",
    "    # Check for at least one uppercase letter\n",
    "    has_uppercase = False\n",
    "    for i in password:\n",
    "        if i.isupper(): #This checks if there is an upper letter and changes the variable has_uppercase to true\n",
    "            has_uppercase = True\n",
    "            break\n",
    "\n",
    "    # Check for one lowercase letter following the same logic as before\n",
    "    has_lowercase = False\n",
    "    for i in password:\n",
    "        if i.islower():\n",
    "            has_lowercase = True\n",
    "            break\n",
    "\n",
    "    # Check for one digit\n",
    "    has_digit = False\n",
    "    for i in password:\n",
    "        if i.isdigit():\n",
    "            has_digit = True\n",
    "            break\n",
    "\n",
    "    # To check the special characters I create a string of all of them and iterate from it.\n",
    "    special_characters = \"!@#$%^&*()-_=+[]{}|;:'\\\",.<>/?\"\n",
    "    has_special_char = False\n",
    "    for i in password:\n",
    "        if i in special_characters:\n",
    "            has_special_char = True\n",
    "            break\n",
    "\n",
    "    # Then we want to return True if all conditions are met, and if not it will show a False (bool)\n",
    "    return has_uppercase and has_lowercase and has_digit and has_special_char\n"
   ]
  },
  {
   "cell_type": "code",
   "execution_count": 422,
   "metadata": {},
   "outputs": [
    {
     "data": {
      "text/plain": [
       "True"
      ]
     },
     "execution_count": 422,
     "metadata": {},
     "output_type": "execute_result"
    }
   ],
   "source": [
    "is_strong_password (\"Aiuuhnmikjsxidec!111\")"
   ]
  }
 ],
 "metadata": {
  "kernelspec": {
   "display_name": "Python 3 (ipykernel)",
   "language": "python",
   "name": "python3"
  },
  "language_info": {
   "codemirror_mode": {
    "name": "ipython",
    "version": 3
   },
   "file_extension": ".py",
   "mimetype": "text/x-python",
   "name": "python",
   "nbconvert_exporter": "python",
   "pygments_lexer": "ipython3",
   "version": "3.11.7"
  },
  "vscode": {
   "interpreter": {
    "hash": "aee8b7b246df8f9039afb4144a1f6fd8d2ca17a180786b69acc140d282b71a49"
   }
  }
 },
 "nbformat": 4,
 "nbformat_minor": 4
}
