{
 "cells": [
  {
   "cell_type": "markdown",
   "metadata": {},
   "source": [
    "## Smote Upsampling"
   ]
  },
  {
   "cell_type": "code",
   "execution_count": 38,
   "metadata": {},
   "outputs": [
    {
     "data": {
      "text/plain": [
       "Churn\n",
       "0    5174\n",
       "1    5174\n",
       "Name: count, dtype: int64"
      ]
     },
     "execution_count": 38,
     "metadata": {},
     "output_type": "execute_result"
    }
   ],
   "source": [
    "import pandas as pd \n",
    "import numpy as np \n",
    "pd.set_option('display.max_columns', None) \n",
    "import warnings \n",
    "warnings.filterwarnings('ignore')\n",
    "\n",
    "churnData = pd.read_csv('/Users/haddock_ana/Ironhack/Unit 8 - Machine Learning advanced/lab-8.5/Customer-Churn.txt') \n",
    "churnData['TotalCharges'] = pd.to_numeric(churnData['TotalCharges'], errors='coerce') \n",
    "churnData['TotalCharges'] = churnData['TotalCharges'].fillna(np.mean(churnData['TotalCharges']))\n",
    "\n",
    "from sklearn.preprocessing import StandardScaler \n",
    "from imblearn.over_sampling import SMOTE \n",
    "\n",
    "smote = SMOTE() \n",
    "\n",
    "X = churnData[['tenure', 'SeniorCitizen','MonthlyCharges', 'TotalCharges']] \n",
    "transformer = StandardScaler().fit(X) \n",
    "X = transformer.transform(X) \n",
    "\n",
    "y = churnData['Churn'].replace({'No': 0, 'Yes': 1})\n",
    "\n",
    "X_sm, y_sm = smote.fit_resample(X, y) \n",
    "y_sm.value_counts()"
   ]
  },
  {
   "cell_type": "code",
   "execution_count": 39,
   "metadata": {},
   "outputs": [],
   "source": [
    "import pandas as pd\n",
    "from sklearn.datasets import fetch_california_housing\n",
    "from sklearn.tree import DecisionTreeRegressor\n",
    "from sklearn.model_selection import cross_val_score\n",
    "from sklearn.model_selection import train_test_split\n",
    "from sklearn.linear_model import LogisticRegression"
   ]
  },
  {
   "cell_type": "code",
   "execution_count": 40,
   "metadata": {},
   "outputs": [],
   "source": [
    "X = X_sm\n",
    "y = y_sm\n",
    "X_train, X_test, y_train, y_test = train_test_split(X, y, test_size=0.33)\n",
    "\n",
    "# Perform cross-validation\n",
    "\n",
    "model_tree = DecisionTreeRegressor()\n",
    "model_logistico = LogisticRegression()\n",
    "\n",
    "cv_scores_lr = cross_val_score(model_tree , X_train, y_train, cv=10)\n",
    "cv_scores_dt = cross_val_score(model_logistico, X_train, y_train, cv=10 )"
   ]
  },
  {
   "cell_type": "code",
   "execution_count": 41,
   "metadata": {},
   "outputs": [
    {
     "name": "stdout",
     "output_type": "stream",
     "text": [
      "{'Regression Tree': 0.03225467849736593, 'Logistic Regression': 0.7320069779723959}\n"
     ]
    }
   ],
   "source": [
    "model_pipeline = [model_tree, model_logistico]\n",
    "model_names = ['Regression Tree', 'Logistic Regression']\n",
    "scores = {}\n",
    "i=0\n",
    "for model in model_pipeline:\n",
    "    mean_score = np.mean(cross_val_score(model, X_train, y_train, cv=10))\n",
    "    scores[model_names[i]] = mean_score\n",
    "    i = i+1\n",
    "print(scores)"
   ]
  },
  {
   "cell_type": "markdown",
   "metadata": {},
   "source": [
    "## TomeLinks downsampling"
   ]
  },
  {
   "cell_type": "code",
   "execution_count": 46,
   "metadata": {},
   "outputs": [
    {
     "data": {
      "text/plain": [
       "Churn\n",
       "0    4665\n",
       "1    1869\n",
       "Name: count, dtype: int64"
      ]
     },
     "execution_count": 46,
     "metadata": {},
     "output_type": "execute_result"
    }
   ],
   "source": [
    "import pandas as pd \n",
    "import numpy as np \n",
    "pd.set_option('display.max_columns', None) \n",
    "import warnings \n",
    "warnings.filterwarnings('ignore')\n",
    "\n",
    "\n",
    "churnData = pd.read_csv('/Users/haddock_ana/Ironhack/Unit 8 - Machine Learning advanced/lab-8.5/Customer-Churn.txt') \n",
    "churnData['TotalCharges'] = pd.to_numeric(churnData['TotalCharges'], errors='coerce') \n",
    "churnData['TotalCharges'] = churnData['TotalCharges'].fillna(np.mean(churnData['TotalCharges']))\n",
    "\n",
    "from sklearn.preprocessing import StandardScaler \n",
    "from imblearn.under_sampling import TomekLinks\n",
    "\n",
    "tl = TomekLinks() \n",
    "\n",
    "X = churnData[['tenure', 'SeniorCitizen','MonthlyCharges', 'TotalCharges']] \n",
    "transformer = StandardScaler().fit(X) \n",
    "X = transformer.transform(X) \n",
    "\n",
    "y = churnData['Churn'].replace({'No': 0, 'Yes': 1})\n",
    "\n",
    "X_tl, y_tl = tl.fit_resample(X, y)\n",
    "y_tl.value_counts()"
   ]
  },
  {
   "cell_type": "code",
   "execution_count": 52,
   "metadata": {},
   "outputs": [],
   "source": [
    "X = X_tl\n",
    "y = y_tl\n",
    "X_train, X_test, y_train, y_test = train_test_split(X, y, test_size=0.33)\n",
    "\n",
    "# Perform cross-validation\n",
    "\n",
    "model_tree = DecisionTreeRegressor()\n",
    "model_logistico = LogisticRegression()\n",
    "\n",
    "cv_scores_lr = cross_val_score(model_tree , X_train, y_train, cv=10)\n",
    "cv_scores_dt = cross_val_score(model_logistico, X_train, y_train, cv=10 )"
   ]
  },
  {
   "cell_type": "code",
   "execution_count": 53,
   "metadata": {},
   "outputs": [
    {
     "name": "stdout",
     "output_type": "stream",
     "text": [
      "{'Regression Tree': -0.22214062732055978, 'Logistic Regression': 0.7891304347826087}\n"
     ]
    }
   ],
   "source": [
    "model_pipeline = [model_tree, model_logistico]\n",
    "model_names = ['Regression Tree', 'Logistic Regression']\n",
    "scores = {}\n",
    "i=0\n",
    "for model in model_pipeline:\n",
    "    mean_score = np.mean(cross_val_score(model, X_train, y_train, cv=10))\n",
    "    scores[model_names[i]] = mean_score\n",
    "    i = i+1\n",
    "print(scores)"
   ]
  },
  {
   "cell_type": "code",
   "execution_count": null,
   "metadata": {},
   "outputs": [],
   "source": []
  }
 ],
 "metadata": {
  "kernelspec": {
   "display_name": "Ironhack",
   "language": "python",
   "name": "python3"
  },
  "language_info": {
   "codemirror_mode": {
    "name": "ipython",
    "version": 3
   },
   "file_extension": ".py",
   "mimetype": "text/x-python",
   "name": "python",
   "nbconvert_exporter": "python",
   "pygments_lexer": "ipython3",
   "version": "3.11.7"
  }
 },
 "nbformat": 4,
 "nbformat_minor": 2
}
