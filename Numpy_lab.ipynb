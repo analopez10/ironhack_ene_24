{
 "cells": [
  {
   "cell_type": "code",
   "execution_count": null,
   "id": "d541bc99-7926-444f-81f5-6194503d366c",
   "metadata": {},
   "outputs": [],
   "source": [
    "#1. Import the NUMPY package under the name np."
   ]
  },
  {
   "cell_type": "code",
   "execution_count": null,
   "id": "2c0d93ad-cc66-4282-96f2-38a3f822b13f",
   "metadata": {},
   "outputs": [],
   "source": [
    "#[your code here]"
   ]
  },
  {
   "cell_type": "code",
   "execution_count": null,
   "id": "a61e61de-e33e-40b2-a287-7e0f0b9a079c",
   "metadata": {},
   "outputs": [],
   "source": [
    "#2. Print the NUMPY version and the configuration."
   ]
  },
  {
   "cell_type": "code",
   "execution_count": null,
   "id": "f33e8bcf-6099-4972-84be-1ebd399c7722",
   "metadata": {},
   "outputs": [],
   "source": [
    "#[your code here]"
   ]
  },
  {
   "cell_type": "code",
   "execution_count": null,
   "id": "6a647357-1178-4ea9-91dc-9a972e6f7ee3",
   "metadata": {},
   "outputs": [],
   "source": [
    "#3. Generate a 2x3x5 3-dimensional array with random values. Assign the array to variable \"a\"\n",
    "# Challenge: there are at least three easy ways that use numpy to generate random arrays. How many ways can you find?"
   ]
  },
  {
   "cell_type": "code",
   "execution_count": null,
   "id": "3bf93514-a627-454e-9838-dd191318b6de",
   "metadata": {},
   "outputs": [],
   "source": [
    "#[your code here]"
   ]
  },
  {
   "cell_type": "code",
   "execution_count": null,
   "id": "93d604df-c1b4-4144-8bf3-96a263a81271",
   "metadata": {},
   "outputs": [],
   "source": [
    "#4. Print a."
   ]
  },
  {
   "cell_type": "code",
   "execution_count": null,
   "id": "fa5934aa-f8d3-490a-a0c1-5a84adcee14d",
   "metadata": {},
   "outputs": [],
   "source": [
    "#[your code here]"
   ]
  },
  {
   "cell_type": "code",
   "execution_count": null,
   "id": "1650ca78-4047-4417-a296-04d1e6447768",
   "metadata": {},
   "outputs": [],
   "source": [
    "#5. Create a 5x2x3 3-dimensional array with all values equaling 1.\n",
    "#Assign the array to variable \"b\""
   ]
  },
  {
   "cell_type": "code",
   "execution_count": null,
   "id": "fc45c38e-8a8d-45c6-97da-5e7ceec1f543",
   "metadata": {},
   "outputs": [],
   "source": []
  },
  {
   "cell_type": "code",
   "execution_count": null,
   "id": "3560716e-e2eb-41e7-9238-1e02eb032b4a",
   "metadata": {},
   "outputs": [],
   "source": [
    "#6. Print b."
   ]
  },
  {
   "cell_type": "code",
   "execution_count": null,
   "id": "88f4b467-bae1-47d9-b185-fc71788cb0ce",
   "metadata": {},
   "outputs": [],
   "source": []
  },
  {
   "cell_type": "code",
   "execution_count": null,
   "id": "cb6826e6-db27-4ee5-828d-04506aa5b74c",
   "metadata": {},
   "outputs": [],
   "source": [
    "#7. Do a and b have the same size? How do you prove that in Python code?"
   ]
  },
  {
   "cell_type": "code",
   "execution_count": null,
   "id": "dce5fe45-64fe-4f21-8c4e-b4339991fad0",
   "metadata": {},
   "outputs": [],
   "source": []
  },
  {
   "cell_type": "code",
   "execution_count": null,
   "id": "307b30bf-5ac7-4fb6-b0ad-ffab40e8ff17",
   "metadata": {},
   "outputs": [],
   "source": [
    "#8. Are you able to add a and b? Why or why not?"
   ]
  },
  {
   "cell_type": "code",
   "execution_count": null,
   "id": "b5c29b02-283e-495b-b867-4a3956ef8bde",
   "metadata": {},
   "outputs": [],
   "source": []
  },
  {
   "cell_type": "code",
   "execution_count": null,
   "id": "06454cc7-19ec-468d-a8ab-74ec99460dfe",
   "metadata": {},
   "outputs": [],
   "source": [
    "#9. Transpose b so that it has the same structure of a (i.e. become a 2x3x5 array). Assign the transposed array to varialbe \"c\"."
   ]
  },
  {
   "cell_type": "code",
   "execution_count": null,
   "id": "e3b3c659-4877-4772-966c-e438172d74a4",
   "metadata": {},
   "outputs": [],
   "source": []
  },
  {
   "cell_type": "code",
   "execution_count": null,
   "id": "af0e116f-a4b9-431e-9298-4b01b1c30b55",
   "metadata": {},
   "outputs": [],
   "source": [
    "#10. Try to add a and c. Now it should work. Assign the sum to varialbe \"d\". But why does it work now?\n"
   ]
  },
  {
   "cell_type": "code",
   "execution_count": null,
   "id": "8a20fcc9-ded9-415e-a20b-dabcde46fd93",
   "metadata": {},
   "outputs": [],
   "source": []
  },
  {
   "cell_type": "code",
   "execution_count": null,
   "id": "ea8362d7-3a47-4837-b4b3-17473ac7eb36",
   "metadata": {},
   "outputs": [],
   "source": [
    "#11. Print a and d. Notice the difference and relation of the two array in terms of the values? Explain."
   ]
  },
  {
   "cell_type": "code",
   "execution_count": null,
   "id": "fa6f5884-e500-408b-add0-037d0d80c6c5",
   "metadata": {},
   "outputs": [],
   "source": []
  },
  {
   "cell_type": "code",
   "execution_count": null,
   "id": "c1ae3de1-47fb-42b2-ac49-fcc491df2a4b",
   "metadata": {},
   "outputs": [],
   "source": [
    "#12. Multiply a and c. Assign the result to e."
   ]
  },
  {
   "cell_type": "code",
   "execution_count": null,
   "id": "1ac6debb-46d3-4038-8e9a-f7f2c2dda609",
   "metadata": {},
   "outputs": [],
   "source": [
    "\n",
    "#[your code here]\n",
    "\n",
    "\n",
    "#2. Print the NUMPY version and the configuration.\n",
    "\n",
    "#[your code here]\n",
    "\n",
    "\n",
    "#3. Generate a 2x3x5 3-dimensional array with random values. Assign the array to variable \"a\"\n",
    "# Challenge: there are at least three easy ways that use numpy to generate random arrays. How many ways can you find?\n",
    "\n",
    "#[your code here]\n",
    "\n",
    "#4. Print a.\n",
    "\n",
    "#[your code here]\n",
    "#5. Create a 5x2x3 3-dimensional array with all values equaling 1.\n",
    "#Assign the array to variable \"b\"\n",
    "\n",
    "#[your code here]\n",
    "\n",
    "#6. Print b.\n",
    "\n",
    "#[your code here]\n",
    "\n",
    "#7. Do a and b have the same size? How do you prove that in Python code?\n",
    "\n",
    "#[your code here]\n",
    "\n",
    "#8. Are you able to add a and b? Why or why not?\n",
    "\n",
    "#[your code here]\n",
    "\n",
    "\n",
    "#9. Transpose b so that it has the same structure of a (i.e. become a 2x3x5 array). Assign the transposed array to varialbe \"c\".\n",
    "\n",
    "#[your code here]\n",
    "\n",
    "#10. Try to add a and c. Now it should work. Assign the sum to varialbe \"d\". But why does it work now?\n",
    "\n",
    "#[your code here]\n",
    "\n",
    "#11. Print a and d. Notice the difference and relation of the two array in terms of the values? Explain.\n",
    "\n",
    "#[your code here]\n",
    "\n",
    "\n",
    "#12. Multiply a and c. Assign the result to e.\n",
    "\n",
    "#[your code here]\n",
    "\n",
    "\n",
    "#13. Does e equal to a? Why or why not?\n",
    "\n",
    "#[your code here]\n",
    "\n",
    "\n",
    "\n",
    "#14. Identify the max, min, and mean values in d. Assign those values to variables \"d_max\", \"d_min\", and \"d_mean\"\n",
    "\n",
    "#[your code here]\n",
    "\n",
    "\n",
    "#15. Now we want to label the values in d. First create an empty array \"f\" with the same shape (i.e. 2x3x5) as d using `np.empty`.\n",
    "\n",
    "#[your code here]\n",
    "\n",
    "\n",
    "\"\"\"\n",
    "#16. Populate the values in f. For each value in d, if it's larger than d_min but smaller than d_mean, assign 25 to the corresponding value in f.\n",
    "If a value in d is larger than d_mean but smaller than d_max, assign 75 to the corresponding value in f.\n",
    "If a value equals to d_mean, assign 50 to the corresponding value in f.\n",
    "Assign 0 to the corresponding value(s) in f for d_min in d.\n",
    "Assign 100 to the corresponding value(s) in f for d_max in d.\n",
    "In the end, f should have only the following values: 0, 25, 50, 75, and 100.\n",
    "Note: you don't have to use Numpy in this question.\n",
    "\"\"\"\n",
    "\n",
    "#[your code here]\n",
    "\n",
    "\n",
    "\n",
    "\n",
    "\"\"\"\n",
    "#17. Print d and f. Do you have your expected f?\n",
    "For instance, if your d is:\n",
    "array([[[1.85836099, 1.67064465, 1.62576044, 1.40243961, 1.88454931],\n",
    "        [1.75354326, 1.69403643, 1.36729252, 1.61415071, 1.12104981],\n",
    "        [1.72201435, 1.1862918 , 1.87078449, 1.7726778 , 1.88180042]],\n",
    "\n",
    "       [[1.44747908, 1.31673383, 1.02000951, 1.52218947, 1.97066381],\n",
    "        [1.79129243, 1.74983003, 1.96028037, 1.85166831, 1.65450881],\n",
    "        [1.18068344, 1.9587381 , 1.00656599, 1.93402165, 1.73514584]]])\n",
    "\n",
    "Your f should be:\n",
    "array([[[ 75.,  75.,  75.,  25.,  75.],\n",
    "        [ 75.,  75.,  25.,  25.,  25.],\n",
    "        [ 75.,  25.,  75.,  75.,  75.]],\n",
    "\n",
    "       [[ 25.,  25.,  25.,  25., 100.],\n",
    "        [ 75.,  75.,  75.,  75.,  75.],\n",
    "        [ 25.,  75.,   0.,  75.,  75.]]])\n",
    "\"\"\"\n",
    "\n",
    "#[your code here]\n",
    "\n",
    "\n",
    "\n",
    "\"\"\"\n",
    "#18. Bonus question: instead of using numbers (i.e. 0, 25, 50, 75, and 100), how to use string values \n",
    "(\"A\", \"B\", \"C\", \"D\", and \"E\") to label the array elements? You are expecting the result to be:\n",
    "array([[[ 'D',  'D',  'D',  'B',  'D'],\n",
    "        [ 'D',  'D',  'B',  'B',  'B'],\n",
    "        [ 'D',  'B',  'D',  'D',  'D']],\n",
    "\n",
    "       [[ 'B',  'B',  'B',  'B',  'E'],\n",
    "        [ 'D',  'D',  'D',  'D',  'D'],\n",
    "        [ 'B',  'D',   'A',  'D', 'D']]])\n",
    "Again, you don't need Numpy in this question.\n",
    "\"\"\"\n",
    "\n",
    "#[your code here]"
   ]
  },
  {
   "cell_type": "code",
   "execution_count": null,
   "id": "78223db7-32af-4038-b9c1-ae5608d8a642",
   "metadata": {},
   "outputs": [],
   "source": []
  }
 ],
 "metadata": {
  "kernelspec": {
   "display_name": "Python 3 (ipykernel)",
   "language": "python",
   "name": "python3"
  },
  "language_info": {
   "codemirror_mode": {
    "name": "ipython",
    "version": 3
   },
   "file_extension": ".py",
   "mimetype": "text/x-python",
   "name": "python",
   "nbconvert_exporter": "python",
   "pygments_lexer": "ipython3",
   "version": "3.11.5"
  }
 },
 "nbformat": 4,
 "nbformat_minor": 5
}
