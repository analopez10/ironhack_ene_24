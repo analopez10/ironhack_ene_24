{
 "cells": [
  {
   "cell_type": "code",
   "execution_count": 1,
   "id": "d541bc99-7926-444f-81f5-6194503d366c",
   "metadata": {},
   "outputs": [],
   "source": [
    "#1. Import the NUMPY package under the name np.\n",
    "import numpy as np"
   ]
  },
  {
   "cell_type": "code",
   "execution_count": 17,
   "id": "a61e61de-e33e-40b2-a287-7e0f0b9a079c",
   "metadata": {},
   "outputs": [
    {
     "name": "stdout",
     "output_type": "stream",
     "text": [
      "1.26.3\n",
      "{\n",
      "  \"Compilers\": {\n",
      "    \"c\": {\n",
      "      \"name\": \"clang\",\n",
      "      \"linker\": \"ld64\",\n",
      "      \"version\": \"14.0.0\",\n",
      "      \"commands\": \"cc\"\n",
      "    },\n",
      "    \"cython\": {\n",
      "      \"name\": \"cython\",\n",
      "      \"linker\": \"cython\",\n",
      "      \"version\": \"3.0.7\",\n",
      "      \"commands\": \"cython\"\n",
      "    },\n",
      "    \"c++\": {\n",
      "      \"name\": \"clang\",\n",
      "      \"linker\": \"ld64\",\n",
      "      \"version\": \"14.0.0\",\n",
      "      \"commands\": \"c++\"\n",
      "    }\n",
      "  },\n",
      "  \"Machine Information\": {\n",
      "    \"host\": {\n",
      "      \"cpu\": \"aarch64\",\n",
      "      \"family\": \"aarch64\",\n",
      "      \"endian\": \"little\",\n",
      "      \"system\": \"darwin\"\n",
      "    },\n",
      "    \"build\": {\n",
      "      \"cpu\": \"aarch64\",\n",
      "      \"family\": \"aarch64\",\n",
      "      \"endian\": \"little\",\n",
      "      \"system\": \"darwin\"\n",
      "    }\n",
      "  },\n",
      "  \"Build Dependencies\": {\n",
      "    \"blas\": {\n",
      "      \"name\": \"openblas64\",\n",
      "      \"found\": true,\n",
      "      \"version\": \"0.3.23.dev\",\n",
      "      \"detection method\": \"pkgconfig\",\n",
      "      \"include directory\": \"/opt/arm64-builds/include\",\n",
      "      \"lib directory\": \"/opt/arm64-builds/lib\",\n",
      "      \"openblas configuration\": \"USE_64BITINT=1 DYNAMIC_ARCH=1 DYNAMIC_OLDER= NO_CBLAS= NO_LAPACK= NO_LAPACKE= NO_AFFINITY=1 USE_OPENMP= SANDYBRIDGE MAX_THREADS=3\",\n",
      "      \"pc file directory\": \"/usr/local/lib/pkgconfig\"\n",
      "    },\n",
      "    \"lapack\": {\n",
      "      \"name\": \"dep4350459472\",\n",
      "      \"found\": true,\n",
      "      \"version\": \"1.26.3\",\n",
      "      \"detection method\": \"internal\",\n",
      "      \"include directory\": \"unknown\",\n",
      "      \"lib directory\": \"unknown\",\n",
      "      \"openblas configuration\": \"unknown\",\n",
      "      \"pc file directory\": \"unknown\"\n",
      "    }\n",
      "  },\n",
      "  \"Python Information\": {\n",
      "    \"path\": \"/private/var/folders/76/zy5ktkns50v6gt5g8r0sf6sc0000gn/T/cibw-run-vps0shj5/cp311-macosx_arm64/build/venv/bin/python\",\n",
      "    \"version\": \"3.11\"\n",
      "  },\n",
      "  \"SIMD Extensions\": {\n",
      "    \"baseline\": [\n",
      "      \"NEON\",\n",
      "      \"NEON_FP16\",\n",
      "      \"NEON_VFPV4\",\n",
      "      \"ASIMD\"\n",
      "    ],\n",
      "    \"found\": [\n",
      "      \"ASIMDHP\"\n",
      "    ],\n",
      "    \"not found\": [\n",
      "      \"ASIMDFHM\"\n",
      "    ]\n",
      "  }\n",
      "}\n",
      "None\n"
     ]
    },
    {
     "name": "stderr",
     "output_type": "stream",
     "text": [
      "/Users/haddock_ana/anaconda3/envs/Ironhack/lib/python3.11/site-packages/numpy/__config__.py:149: UserWarning: Install `pyyaml` for better output\n",
      "  warnings.warn(\"Install `pyyaml` for better output\", stacklevel=1)\n"
     ]
    }
   ],
   "source": [
    "#2. Print the NUMPY version and the configuration.\n",
    "print(np.__version__)\n",
    "print(np.show_config())\n"
   ]
  },
  {
   "cell_type": "code",
   "execution_count": 80,
   "id": "6a647357-1178-4ea9-91dc-9a972e6f7ee3",
   "metadata": {},
   "outputs": [
    {
     "name": "stdout",
     "output_type": "stream",
     "text": [
      "[[[30 12 53 92 61]\n",
      "  [18 16 66 86 10]\n",
      "  [91 61 49 38 19]]\n",
      "\n",
      " [[89 71 64 83 97]\n",
      "  [94 61  4 61 44]\n",
      "  [34 26  3 93 49]]]\n"
     ]
    }
   ],
   "source": [
    "#3. Generate a 2x3x5 3-dimensional array with random values. Assign the array to variable \"a\"\n",
    "# Challenge: there are at least three easy ways that use numpy to generate random arrays. How many ways can you find?\n",
    "\n",
    "a = np.random.randint(100, size=(2, 3, 5))# (block, rows, columns)\n",
    "print(a)"
   ]
  },
  {
   "cell_type": "code",
   "execution_count": 47,
   "id": "99511cc8",
   "metadata": {},
   "outputs": [
    {
     "data": {
      "text/plain": [
       "array([[[53, 53, 93, 32,  9],\n",
       "        [71, 57, 19, 53, 52],\n",
       "        [32, 14, 69, 10, 49]],\n",
       "\n",
       "       [[67,  3,  5, 35, 77],\n",
       "        [45, 13, 49, 43, 94],\n",
       "        [29, 73,  7, 42, 71]]])"
      ]
     },
     "execution_count": 47,
     "metadata": {},
     "output_type": "execute_result"
    }
   ],
   "source": [
    "a = np.random.randint (100, size=(5, 3,2 )) #transpose array to generate a 2x3x5 array\n",
    "transposed_a = np.transpose(a)\n",
    "transposed_a"
   ]
  },
  {
   "cell_type": "code",
   "execution_count": 45,
   "id": "3bf93514-a627-454e-9838-dd191318b6de",
   "metadata": {},
   "outputs": [
    {
     "data": {
      "text/plain": [
       "array([[1, 2, 3, 4, 5],\n",
       "       [2, 2, 0, 7, 5],\n",
       "       [2, 2, 0, 7, 5]])"
      ]
     },
     "execution_count": 45,
     "metadata": {},
     "output_type": "execute_result"
    }
   ],
   "source": [
    "list1 = np.random.randit (1,5)\n",
    "\n",
    "array_new = np.array(([1, 2, 3, 4, 5], [2, 2, 0, 7, 5], [2, 2, 0, 7, 5]))\n",
    "array_new"
   ]
  },
  {
   "cell_type": "code",
   "execution_count": 68,
   "id": "57222a6c",
   "metadata": {},
   "outputs": [
    {
     "data": {
      "text/plain": [
       "array([[[[7, 5, 7, 5, 1]]],\n",
       "\n",
       "\n",
       "       [[[7, 3, 9, 7, 4]]],\n",
       "\n",
       "\n",
       "       [[[1, 2, 9, 8, 7]]]])"
      ]
     },
     "execution_count": 68,
     "metadata": {},
     "output_type": "execute_result"
    }
   ],
   "source": [
    "list1 = np.random.randint(10, size=(1, 1, 5))\n",
    "list2 = np.random.randint(10, size=(1, 1, 5))\n",
    "list3 = np.random.randint(10, size=(1, 1, 5))\n",
    "\n",
    "array_new = np.array ((list1, list2, list3))\n",
    "array_new"
   ]
  },
  {
   "cell_type": "code",
   "execution_count": 102,
   "id": "93d604df-c1b4-4144-8bf3-96a263a81271",
   "metadata": {},
   "outputs": [
    {
     "name": "stdout",
     "output_type": "stream",
     "text": [
      "[[[30 12 53 92 61]\n",
      "  [18 16 66 86 10]\n",
      "  [91 61 49 38 19]]\n",
      "\n",
      " [[89 71 64 83 97]\n",
      "  [94 61  4 61 44]\n",
      "  [34 26  3 93 49]]]\n"
     ]
    }
   ],
   "source": [
    "#4. Print a.\n",
    "\n",
    "print (a)"
   ]
  },
  {
   "cell_type": "code",
   "execution_count": 8,
   "id": "1650ca78-4047-4417-a296-04d1e6447768",
   "metadata": {},
   "outputs": [],
   "source": [
    "#5. Create a 5x2x3 3-dimensional array with all values equaling 1.\n",
    "#Assign the array to variable \"b\""
   ]
  },
  {
   "cell_type": "code",
   "execution_count": 103,
   "id": "fc45c38e-8a8d-45c6-97da-5e7ceec1f543",
   "metadata": {},
   "outputs": [],
   "source": [
    "b = np.ones((5, 3, 2))"
   ]
  },
  {
   "cell_type": "code",
   "execution_count": 104,
   "id": "3560716e-e2eb-41e7-9238-1e02eb032b4a",
   "metadata": {},
   "outputs": [
    {
     "data": {
      "text/plain": [
       "array([[[1., 1.],\n",
       "        [1., 1.],\n",
       "        [1., 1.]],\n",
       "\n",
       "       [[1., 1.],\n",
       "        [1., 1.],\n",
       "        [1., 1.]],\n",
       "\n",
       "       [[1., 1.],\n",
       "        [1., 1.],\n",
       "        [1., 1.]],\n",
       "\n",
       "       [[1., 1.],\n",
       "        [1., 1.],\n",
       "        [1., 1.]],\n",
       "\n",
       "       [[1., 1.],\n",
       "        [1., 1.],\n",
       "        [1., 1.]]])"
      ]
     },
     "execution_count": 104,
     "metadata": {},
     "output_type": "execute_result"
    }
   ],
   "source": [
    "#6. Print b.\n",
    "b"
   ]
  },
  {
   "cell_type": "code",
   "execution_count": 10,
   "id": "cb6826e6-db27-4ee5-828d-04506aa5b74c",
   "metadata": {},
   "outputs": [],
   "source": [
    "#7. Do a and b have the same size? How do you prove that in Python code?"
   ]
  },
  {
   "cell_type": "code",
   "execution_count": 105,
   "id": "dce5fe45-64fe-4f21-8c4e-b4339991fad0",
   "metadata": {},
   "outputs": [
    {
     "name": "stdout",
     "output_type": "stream",
     "text": [
      "Arrays a and b do not have the same size.\n"
     ]
    }
   ],
   "source": [
    "if a.shape == b.shape:\n",
    "    print(\"Arrays a and b have the same size.\")\n",
    "else:\n",
    "    print(\"Arrays a and b do not have the same size.\")"
   ]
  },
  {
   "cell_type": "code",
   "execution_count": 106,
   "id": "307b30bf-5ac7-4fb6-b0ad-ffab40e8ff17",
   "metadata": {},
   "outputs": [
    {
     "name": "stdout",
     "output_type": "stream",
     "text": [
      "Arrays a and b do not have the same size.\n"
     ]
    }
   ],
   "source": [
    "#8. Are you able to add a and b? Why or why not?\n",
    "\n",
    "if a.shape == b.shape:\n",
    "    # Add arrays a and b element-wise\n",
    "    result = a + b\n",
    "    print(\"Arrays a and b can be added.\")\n",
    "else:\n",
    "    print(\"Arrays a and b do not have the same size.\")# And that is why they cannot be added to each other with a +"
   ]
  },
  {
   "cell_type": "code",
   "execution_count": 12,
   "id": "06454cc7-19ec-468d-a8ab-74ec99460dfe",
   "metadata": {},
   "outputs": [],
   "source": [
    "#9. Transpose b so that it has the same structure of a (i.e. become a 2x3x5 array). Assign the transposed array to varialbe \"c\"."
   ]
  },
  {
   "cell_type": "code",
   "execution_count": 107,
   "id": "e3b3c659-4877-4772-966c-e438172d74a4",
   "metadata": {},
   "outputs": [
    {
     "name": "stdout",
     "output_type": "stream",
     "text": [
      "[[[1. 1. 1. 1. 1.]\n",
      "  [1. 1. 1. 1. 1.]\n",
      "  [1. 1. 1. 1. 1.]]\n",
      "\n",
      " [[1. 1. 1. 1. 1.]\n",
      "  [1. 1. 1. 1. 1.]\n",
      "  [1. 1. 1. 1. 1.]]]\n",
      "(2, 3, 5)\n"
     ]
    }
   ],
   "source": [
    "c = np.transpose (b)\n",
    "print (c)\n",
    "print (c.shape)"
   ]
  },
  {
   "cell_type": "code",
   "execution_count": 167,
   "id": "af0e116f-a4b9-431e-9298-4b01b1c30b55",
   "metadata": {},
   "outputs": [
    {
     "data": {
      "text/plain": [
       "array([[[31., 13., 54., 93., 62.],\n",
       "        [19., 17., 67., 87., 11.],\n",
       "        [92., 62., 50., 39., 20.]],\n",
       "\n",
       "       [[90., 72., 65., 84., 98.],\n",
       "        [95., 62.,  5., 62., 45.],\n",
       "        [35., 27.,  4., 94., 50.]]])"
      ]
     },
     "execution_count": 167,
     "metadata": {},
     "output_type": "execute_result"
    }
   ],
   "source": [
    "#10. Try to add a and c. Now it should work. Assign the sum to varialbe \"d\". But why does it work now?\n",
    "d = a + c\n",
    "d\n"
   ]
  },
  {
   "cell_type": "code",
   "execution_count": 14,
   "id": "ea8362d7-3a47-4837-b4b3-17473ac7eb36",
   "metadata": {},
   "outputs": [],
   "source": [
    "#11. Print a and d. Notice the difference and relation of the two array in terms of the values? Explain."
   ]
  },
  {
   "cell_type": "code",
   "execution_count": 109,
   "id": "fa6f5884-e500-408b-add0-037d0d80c6c5",
   "metadata": {},
   "outputs": [
    {
     "data": {
      "text/plain": [
       "array([[[1., 1., 1., 1., 1.],\n",
       "        [1., 1., 1., 1., 1.],\n",
       "        [1., 1., 1., 1., 1.]],\n",
       "\n",
       "       [[1., 1., 1., 1., 1.],\n",
       "        [1., 1., 1., 1., 1.],\n",
       "        [1., 1., 1., 1., 1.]]])"
      ]
     },
     "execution_count": 109,
     "metadata": {},
     "output_type": "execute_result"
    }
   ],
   "source": [
    "dif_arr = d - a\n",
    "dif_arr # The difference between d and a is equal to the array c"
   ]
  },
  {
   "cell_type": "code",
   "execution_count": 110,
   "id": "c1ae3de1-47fb-42b2-ac49-fcc491df2a4b",
   "metadata": {},
   "outputs": [
    {
     "data": {
      "text/plain": [
       "array([[[30., 12., 53., 92., 61.],\n",
       "        [18., 16., 66., 86., 10.],\n",
       "        [91., 61., 49., 38., 19.]],\n",
       "\n",
       "       [[89., 71., 64., 83., 97.],\n",
       "        [94., 61.,  4., 61., 44.],\n",
       "        [34., 26.,  3., 93., 49.]]])"
      ]
     },
     "execution_count": 110,
     "metadata": {},
     "output_type": "execute_result"
    }
   ],
   "source": [
    "#12. Multiply a and c. Assign the result to e.\n",
    "e = a * c\n",
    "e"
   ]
  },
  {
   "cell_type": "code",
   "execution_count": 119,
   "id": "1bc85590",
   "metadata": {},
   "outputs": [
    {
     "name": "stdout",
     "output_type": "stream",
     "text": [
      "Arrays a and e are the same because e.array is a.array * value of c.array which equals 1.\n"
     ]
    }
   ],
   "source": [
    "\n",
    "#13. Does e equal to a? Why or why not?\n",
    "if np.array_equal(a, e):\n",
    "    print(\"Arrays a and e are the same because e.array is a.array * value of c.array which equals 1.\")\n",
    "else:\n",
    "    print(\"Arrays a and e are not the same.\")"
   ]
  },
  {
   "cell_type": "code",
   "execution_count": 150,
   "id": "e8f453d6",
   "metadata": {},
   "outputs": [
    {
     "name": "stdout",
     "output_type": "stream",
     "text": [
      " The max number for Array 'd' is 75.0, the mininum number is 75.0 and the mean is 75.0\n"
     ]
    }
   ],
   "source": [
    "#14. Identify the max, min, and mean values in d. Assign those values to variables \"d_max\", \"d_min\", and \"d_mean\"\n",
    "d_max = np.max (d)\n",
    "d_min = np.min (d)\n",
    "d_mean = np.mean (d)\n",
    "print (f\" The max number for Array 'd' is {d_max}, the mininum number is {d_min} and the mean is {d_mean}\")"
   ]
  },
  {
   "cell_type": "code",
   "execution_count": 168,
   "id": "4c402add",
   "metadata": {},
   "outputs": [],
   "source": [
    "#15. Now we want to label the values in d. First create an empty array \"f\" with the same shape (i.e. 2x3x5) as d using `np.empty`.\n",
    "f = np.empty([2, 3, 5])"
   ]
  },
  {
   "cell_type": "code",
   "execution_count": null,
   "id": "7e93ea4f",
   "metadata": {},
   "outputs": [],
   "source": [
    "\n",
    "#16. Populate the values in f. For each value in d, if it's larger than d_min but smaller than d_mean, assign 25 to the corresponding value in f.\n",
    "If a value in d is larger than d_mean but smaller than d_max, assign 75 to the corresponding value in f.\n",
    "If a value equals to d_mean, assign 50 to the corresponding value in f.\n",
    "Assign 0 to the corresponding value(s) in f for d_min in d.\n",
    "Assign 100 to the corresponding value(s) in f for d_max in d.\n",
    "In the end, f should have only the following values: 0, 25, 50, 75, and 100.\n",
    "Note: you don't have to use Numpy in this question.\n",
    "\"\"\""
   ]
  },
  {
   "cell_type": "code",
   "execution_count": 174,
   "id": "f643b2aa",
   "metadata": {},
   "outputs": [
    {
     "name": "stdout",
     "output_type": "stream",
     "text": [
      "Array f:\n",
      "[[[ 25.  25.  75.  75.  75.]\n",
      "  [ 25.  25.  75.  75.  25.]\n",
      "  [ 75.  75.  25.  25.  25.]]\n",
      "\n",
      " [[ 75.  75.  75.  75. 100.]\n",
      "  [ 75.  75.  25.  75.  25.]\n",
      "  [ 25.  25.   0.  75.  25.]]]\n"
     ]
    }
   ],
   "source": [
    "\n",
    "# Create an empty array f with the same shape as d\n",
    "f = np.empty_like(d)\n",
    "\n",
    "# Apply conditions to populate f\n",
    "f[(d > d_min) & (d < d_mean)] = 25\n",
    "f[d == d_mean] = 50\n",
    "f[(d > d_mean) & (d < d_max)] = 75\n",
    "f[d == d_min] = 0\n",
    "f[d == d_max] = 100\n",
    "\n",
    "print(\"Array f:\")\n",
    "print(f)"
   ]
  },
  {
   "cell_type": "code",
   "execution_count": null,
   "id": "7969fd0d",
   "metadata": {},
   "outputs": [],
   "source": [
    "\n",
    "#17. Print d and f. Do you have your expected f?\n",
    "For instance, if your d is:\n",
    "array([[[1.85836099, 1.67064465, 1.62576044, 1.40243961, 1.88454931],\n",
    "        [1.75354326, 1.69403643, 1.36729252, 1.61415071, 1.12104981],\n",
    "        [1.72201435, 1.1862918 , 1.87078449, 1.7726778 , 1.88180042]],\n",
    "\n",
    "       [[1.44747908, 1.31673383, 1.02000951, 1.52218947, 1.97066381],\n",
    "        [1.79129243, 1.74983003, 1.96028037, 1.85166831, 1.65450881],\n",
    "        [1.18068344, 1.9587381 , 1.00656599, 1.93402165, 1.73514584]]])\n",
    "\n",
    "Your f should be:\n",
    "array([[[ 75.,  75.,  75.,  25.,  75.],\n",
    "        [ 75.,  75.,  25.,  25.,  25.],\n",
    "        [ 75.,  25.,  75.,  75.,  75.]],\n",
    "\n",
    "       [[ 25.,  25.,  25.,  25., 100.],\n",
    "        [ 75.,  75.,  75.,  75.,  75.],\n",
    "        [ 25.,  75.,   0.,  75.,  75.]]])"
   ]
  },
  {
   "cell_type": "code",
   "execution_count": 176,
   "id": "00e73d4c",
   "metadata": {},
   "outputs": [
    {
     "name": "stdout",
     "output_type": "stream",
     "text": [
      "Array d:\n",
      "[[[31. 13. 54. 93. 62.]\n",
      "  [19. 17. 67. 87. 11.]\n",
      "  [92. 62. 50. 39. 20.]]\n",
      "\n",
      " [[90. 72. 65. 84. 98.]\n",
      "  [95. 62.  5. 62. 45.]\n",
      "  [35. 27.  4. 94. 50.]]]\n",
      "Array f:\n",
      "[[[ 25.  25.  75.  75.  75.]\n",
      "  [ 25.  25.  75.  75.  25.]\n",
      "  [ 75.  75.  25.  25.  25.]]\n",
      "\n",
      " [[ 75.  75.  75.  75. 100.]\n",
      "  [ 75.  75.  25.  75.  25.]\n",
      "  [ 25.  25.   0.  75.  25.]]]\n"
     ]
    }
   ],
   "source": [
    "print (\"Array d:\")\n",
    "print (d)\n",
    "print(\"Array f:\")\n",
    "print(f)"
   ]
  },
  {
   "cell_type": "code",
   "execution_count": null,
   "id": "dd4ff16a",
   "metadata": {},
   "outputs": [],
   "source": [
    "\n",
    "#18. Bonus question: instead of using numbers (i.e. 0, 25, 50, 75, and 100), how to use string values \n",
    "(\"A\", \"B\", \"C\", \"D\", and \"E\") to label the array elements? You are expecting the result to be:\n",
    "array([[[ 'D',  'D',  'D',  'B',  'D'],\n",
    "        [ 'D',  'D',  'B',  'B',  'B'],\n",
    "        [ 'D',  'B',  'D',  'D',  'D']],\n",
    "\n",
    "       [[ 'B',  'B',  'B',  'B',  'E'],\n",
    "        [ 'D',  'D',  'D',  'D',  'D'],\n",
    "        [ 'B',  'D',   'A',  'D', 'D']]])\n",
    "Again, you don't need Numpy in this question.\n"
   ]
  },
  {
   "cell_type": "code",
   "execution_count": 184,
   "id": "7dcc4877",
   "metadata": {},
   "outputs": [
    {
     "name": "stdout",
     "output_type": "stream",
     "text": [
      "[[['B' 'B' 'D' 'D' 'D']\n",
      "  ['B' 'B' 'D' 'D' 'B']\n",
      "  ['D' 'D' 'B' 'B' 'B']]\n",
      "\n",
      " [['D' 'D' 'D' 'D' 'E']\n",
      "  ['D' 'D' 'B' 'D' 'B']\n",
      "  ['B' 'B' 'A' 'D' 'B']]]\n"
     ]
    }
   ],
   "source": [
    "\n",
    "def f_to_string(value): # Define a function to convert integers to strings\n",
    "    if value == 0:\n",
    "        return 'A'\n",
    "    elif value == 25:\n",
    "        return 'B'\n",
    "    elif value == 50:\n",
    "        return 'C'\n",
    "    elif value == 75:\n",
    "        return 'D'\n",
    "    elif value == 100:\n",
    "        return 'E'\n",
    "    else:\n",
    "        return 'null'\n",
    "\n",
    "str_f = np.vectorize(map_to_string)(f) # we apply the function to each element of the array f with the np.vectorize\n",
    "\n",
    "# Print the modified array\n",
    "print(str_f)"
   ]
  }
 ],
 "metadata": {
  "kernelspec": {
   "display_name": "Python 3 (ipykernel)",
   "language": "python",
   "name": "python3"
  },
  "language_info": {
   "codemirror_mode": {
    "name": "ipython",
    "version": 3
   },
   "file_extension": ".py",
   "mimetype": "text/x-python",
   "name": "python",
   "nbconvert_exporter": "python",
   "pygments_lexer": "ipython3",
   "version": "3.11.7"
  }
 },
 "nbformat": 4,
 "nbformat_minor": 5
}
